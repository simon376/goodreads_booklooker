{
 "metadata": {
  "language_info": {
   "codemirror_mode": {
    "name": "ipython",
    "version": 3
   },
   "file_extension": ".py",
   "mimetype": "text/x-python",
   "name": "python",
   "nbconvert_exporter": "python",
   "pygments_lexer": "ipython3",
   "version": "3.8.3-final"
  },
  "orig_nbformat": 2,
  "kernelspec": {
   "name": "python3",
   "display_name": "Python 3.8.3 64-bit (conda)",
   "metadata": {
    "interpreter": {
     "hash": "fe1610ab63cd726e91a61fe78ce1a475aa9ae83ac6caa7ceb5c58c9a3dff1027"
    }
   }
  }
 },
 "nbformat": 4,
 "nbformat_minor": 2,
 "cells": [
  {
   "source": [
    "# gebrauchte Bücher aus Goodreads to-read liste suchen"
   ],
   "cell_type": "markdown",
   "metadata": {}
  },
  {
   "cell_type": "code",
   "execution_count": 1,
   "metadata": {},
   "outputs": [],
   "source": [
    "import numpy as np\n",
    "import csv"
   ]
  },
  {
   "cell_type": "code",
   "execution_count": 2,
   "metadata": {},
   "outputs": [],
   "source": [
    "from matplotlib import pyplot as plt"
   ]
  },
  {
   "source": [
    "## goodreads CSV-Datei parsen"
   ],
   "cell_type": "markdown",
   "metadata": {}
  },
  {
   "cell_type": "code",
   "execution_count": 3,
   "metadata": {},
   "outputs": [
    {
     "output_type": "execute_result",
     "data": {
      "text/plain": [
       "                                                      Title            Author  \\\n",
       "Book Id                                                                         \n",
       "42242793                   Kurze Antworten auf große Fragen   Stephen Hawking   \n",
       "41160292                                Exhalation: Stories        Ted Chiang   \n",
       "9778945   The Shallows: What the Internet Is Doing to Ou...     Nicholas Carr   \n",
       "23995249  The Invention of Nature: Alexander von Humbold...       Andrea Wulf   \n",
       "52668915  Entangled Life: How Fungi Make Our Worlds, Cha...  Merlin Sheldrake   \n",
       "\n",
       "                 Author l-f Additional Authors           ISBN  \\\n",
       "Book Id                                                         \n",
       "42242793   Hawking, Stephen       Hainer Kober            =\"\"   \n",
       "41160292        Chiang, Ted                NaN            =\"\"   \n",
       "9778945      Carr, Nicholas                NaN  =\"0393339750\"   \n",
       "23995249       Wulf, Andrea                NaN  =\"038535066X\"   \n",
       "52668915  Sheldrake, Merlin                NaN  =\"0525510311\"   \n",
       "\n",
       "                    ISBN13  My Rating  Average Rating              Publisher  \\\n",
       "Book Id                                                                        \n",
       "42242793               =\"\"          0            4.30            Klett-Cotta   \n",
       "41160292               =\"\"          4            4.27                  Knopf   \n",
       "9778945   =\"9780393339758\"          0            3.89  W. W. Norton  Company   \n",
       "23995249  =\"9780385350662\"          0            4.24                  Knopf   \n",
       "52668915  =\"9780525510314\"          0            4.42           Random House   \n",
       "\n",
       "                 Binding  ...  Private Notes Read Count Recommended For  \\\n",
       "Book Id                   ...                                             \n",
       "42242793  Kindle Edition  ...            NaN          1             NaN   \n",
       "41160292  Kindle Edition  ...            NaN          1             NaN   \n",
       "9778945        Paperback  ...            NaN          0             NaN   \n",
       "23995249       Hardcover  ...            NaN          0             NaN   \n",
       "52668915       Hardcover  ...            NaN          0             NaN   \n",
       "\n",
       "         Recommended By Owned Copies Original Purchase Date  \\\n",
       "Book Id                                                       \n",
       "42242793            NaN            0                    NaN   \n",
       "41160292            NaN            0                    NaN   \n",
       "9778945             NaN            0                    NaN   \n",
       "23995249            NaN            0                    NaN   \n",
       "52668915            NaN            0                    NaN   \n",
       "\n",
       "         Original Purchase Location Condition Condition Description BCID  \n",
       "Book Id                                                                   \n",
       "42242793                        NaN       NaN                   NaN  NaN  \n",
       "41160292                        NaN       NaN                   NaN  NaN  \n",
       "9778945                         NaN       NaN                   NaN  NaN  \n",
       "23995249                        NaN       NaN                   NaN  NaN  \n",
       "52668915                        NaN       NaN                   NaN  NaN  \n",
       "\n",
       "[5 rows x 30 columns]"
      ],
      "text/html": "<div>\n<style scoped>\n    .dataframe tbody tr th:only-of-type {\n        vertical-align: middle;\n    }\n\n    .dataframe tbody tr th {\n        vertical-align: top;\n    }\n\n    .dataframe thead th {\n        text-align: right;\n    }\n</style>\n<table border=\"1\" class=\"dataframe\">\n  <thead>\n    <tr style=\"text-align: right;\">\n      <th></th>\n      <th>Title</th>\n      <th>Author</th>\n      <th>Author l-f</th>\n      <th>Additional Authors</th>\n      <th>ISBN</th>\n      <th>ISBN13</th>\n      <th>My Rating</th>\n      <th>Average Rating</th>\n      <th>Publisher</th>\n      <th>Binding</th>\n      <th>...</th>\n      <th>Private Notes</th>\n      <th>Read Count</th>\n      <th>Recommended For</th>\n      <th>Recommended By</th>\n      <th>Owned Copies</th>\n      <th>Original Purchase Date</th>\n      <th>Original Purchase Location</th>\n      <th>Condition</th>\n      <th>Condition Description</th>\n      <th>BCID</th>\n    </tr>\n    <tr>\n      <th>Book Id</th>\n      <th></th>\n      <th></th>\n      <th></th>\n      <th></th>\n      <th></th>\n      <th></th>\n      <th></th>\n      <th></th>\n      <th></th>\n      <th></th>\n      <th></th>\n      <th></th>\n      <th></th>\n      <th></th>\n      <th></th>\n      <th></th>\n      <th></th>\n      <th></th>\n      <th></th>\n      <th></th>\n      <th></th>\n    </tr>\n  </thead>\n  <tbody>\n    <tr>\n      <th>42242793</th>\n      <td>Kurze Antworten auf große Fragen</td>\n      <td>Stephen Hawking</td>\n      <td>Hawking, Stephen</td>\n      <td>Hainer Kober</td>\n      <td>=\"\"</td>\n      <td>=\"\"</td>\n      <td>0</td>\n      <td>4.30</td>\n      <td>Klett-Cotta</td>\n      <td>Kindle Edition</td>\n      <td>...</td>\n      <td>NaN</td>\n      <td>1</td>\n      <td>NaN</td>\n      <td>NaN</td>\n      <td>0</td>\n      <td>NaN</td>\n      <td>NaN</td>\n      <td>NaN</td>\n      <td>NaN</td>\n      <td>NaN</td>\n    </tr>\n    <tr>\n      <th>41160292</th>\n      <td>Exhalation: Stories</td>\n      <td>Ted Chiang</td>\n      <td>Chiang, Ted</td>\n      <td>NaN</td>\n      <td>=\"\"</td>\n      <td>=\"\"</td>\n      <td>4</td>\n      <td>4.27</td>\n      <td>Knopf</td>\n      <td>Kindle Edition</td>\n      <td>...</td>\n      <td>NaN</td>\n      <td>1</td>\n      <td>NaN</td>\n      <td>NaN</td>\n      <td>0</td>\n      <td>NaN</td>\n      <td>NaN</td>\n      <td>NaN</td>\n      <td>NaN</td>\n      <td>NaN</td>\n    </tr>\n    <tr>\n      <th>9778945</th>\n      <td>The Shallows: What the Internet Is Doing to Ou...</td>\n      <td>Nicholas Carr</td>\n      <td>Carr, Nicholas</td>\n      <td>NaN</td>\n      <td>=\"0393339750\"</td>\n      <td>=\"9780393339758\"</td>\n      <td>0</td>\n      <td>3.89</td>\n      <td>W. W. Norton  Company</td>\n      <td>Paperback</td>\n      <td>...</td>\n      <td>NaN</td>\n      <td>0</td>\n      <td>NaN</td>\n      <td>NaN</td>\n      <td>0</td>\n      <td>NaN</td>\n      <td>NaN</td>\n      <td>NaN</td>\n      <td>NaN</td>\n      <td>NaN</td>\n    </tr>\n    <tr>\n      <th>23995249</th>\n      <td>The Invention of Nature: Alexander von Humbold...</td>\n      <td>Andrea Wulf</td>\n      <td>Wulf, Andrea</td>\n      <td>NaN</td>\n      <td>=\"038535066X\"</td>\n      <td>=\"9780385350662\"</td>\n      <td>0</td>\n      <td>4.24</td>\n      <td>Knopf</td>\n      <td>Hardcover</td>\n      <td>...</td>\n      <td>NaN</td>\n      <td>0</td>\n      <td>NaN</td>\n      <td>NaN</td>\n      <td>0</td>\n      <td>NaN</td>\n      <td>NaN</td>\n      <td>NaN</td>\n      <td>NaN</td>\n      <td>NaN</td>\n    </tr>\n    <tr>\n      <th>52668915</th>\n      <td>Entangled Life: How Fungi Make Our Worlds, Cha...</td>\n      <td>Merlin Sheldrake</td>\n      <td>Sheldrake, Merlin</td>\n      <td>NaN</td>\n      <td>=\"0525510311\"</td>\n      <td>=\"9780525510314\"</td>\n      <td>0</td>\n      <td>4.42</td>\n      <td>Random House</td>\n      <td>Hardcover</td>\n      <td>...</td>\n      <td>NaN</td>\n      <td>0</td>\n      <td>NaN</td>\n      <td>NaN</td>\n      <td>0</td>\n      <td>NaN</td>\n      <td>NaN</td>\n      <td>NaN</td>\n      <td>NaN</td>\n      <td>NaN</td>\n    </tr>\n  </tbody>\n</table>\n<p>5 rows × 30 columns</p>\n</div>"
     },
     "metadata": {},
     "execution_count": 3
    }
   ],
   "source": [
    "import os\n",
    "csv_path = os.path.normpath(r\"C:\\Users\\simon\\Downloads\\goodreads_library_export.csv\")\n",
    "import pandas as pd\n",
    "\n",
    "df = pd.read_csv(csv_path, index_col='Book Id',\n",
    "dtype={\"Title\": str, \"Author\": str, \"Author l-f\": str, \"Additional Authors\": str, \"ISBN\":str,\"ISBN-13\":str, \"Publisher\": str, \"Binding\": str, 'Bookshelves': 'category', 'Exclusive Shelf': 'category', },\n",
    "parse_dates=[\"Original Publication Year\", 'Date Read', 'Date Added', \"Year Published\"])\n",
    "df.head(5)"
   ]
  },
  {
   "cell_type": "code",
   "execution_count": 4,
   "metadata": {},
   "outputs": [
    {
     "output_type": "execute_result",
     "data": {
      "text/plain": [
       "                                                      Title            Author  \\\n",
       "Book Id                                                                         \n",
       "42242793                   Kurze Antworten auf große Fragen   Stephen Hawking   \n",
       "41160292                                Exhalation: Stories        Ted Chiang   \n",
       "9778945   The Shallows: What the Internet Is Doing to Ou...     Nicholas Carr   \n",
       "23995249  The Invention of Nature: Alexander von Humbold...       Andrea Wulf   \n",
       "52668915  Entangled Life: How Fungi Make Our Worlds, Cha...  Merlin Sheldrake   \n",
       "\n",
       "                 Author l-f Additional Authors        ISBN         ISBN13  \\\n",
       "Book Id                                                                     \n",
       "42242793   Hawking, Stephen       Hainer Kober                              \n",
       "41160292        Chiang, Ted                NaN                              \n",
       "9778945      Carr, Nicholas                NaN  0393339750  9780393339758   \n",
       "23995249       Wulf, Andrea                NaN  038535066X  9780385350662   \n",
       "52668915  Sheldrake, Merlin                NaN  0525510311  9780525510314   \n",
       "\n",
       "          My Rating  Average Rating              Publisher         Binding  \\\n",
       "Book Id                                                                      \n",
       "42242793          0            4.30            Klett-Cotta  Kindle Edition   \n",
       "41160292          4            4.27                  Knopf  Kindle Edition   \n",
       "9778945           0            3.89  W. W. Norton  Company       Paperback   \n",
       "23995249          0            4.24                  Knopf       Hardcover   \n",
       "52668915          0            4.42           Random House       Hardcover   \n",
       "\n",
       "          ...  Private Notes Read Count Recommended For Recommended By  \\\n",
       "Book Id   ...                                                            \n",
       "42242793  ...            NaN          1             NaN            NaN   \n",
       "41160292  ...            NaN          1             NaN            NaN   \n",
       "9778945   ...            NaN          0             NaN            NaN   \n",
       "23995249  ...            NaN          0             NaN            NaN   \n",
       "52668915  ...            NaN          0             NaN            NaN   \n",
       "\n",
       "         Owned Copies Original Purchase Date Original Purchase Location  \\\n",
       "Book Id                                                                   \n",
       "42242793            0                    NaN                        NaN   \n",
       "41160292            0                    NaN                        NaN   \n",
       "9778945             0                    NaN                        NaN   \n",
       "23995249            0                    NaN                        NaN   \n",
       "52668915            0                    NaN                        NaN   \n",
       "\n",
       "         Condition Condition Description BCID  \n",
       "Book Id                                        \n",
       "42242793       NaN                   NaN  NaN  \n",
       "41160292       NaN                   NaN  NaN  \n",
       "9778945        NaN                   NaN  NaN  \n",
       "23995249       NaN                   NaN  NaN  \n",
       "52668915       NaN                   NaN  NaN  \n",
       "\n",
       "[5 rows x 30 columns]"
      ],
      "text/html": "<div>\n<style scoped>\n    .dataframe tbody tr th:only-of-type {\n        vertical-align: middle;\n    }\n\n    .dataframe tbody tr th {\n        vertical-align: top;\n    }\n\n    .dataframe thead th {\n        text-align: right;\n    }\n</style>\n<table border=\"1\" class=\"dataframe\">\n  <thead>\n    <tr style=\"text-align: right;\">\n      <th></th>\n      <th>Title</th>\n      <th>Author</th>\n      <th>Author l-f</th>\n      <th>Additional Authors</th>\n      <th>ISBN</th>\n      <th>ISBN13</th>\n      <th>My Rating</th>\n      <th>Average Rating</th>\n      <th>Publisher</th>\n      <th>Binding</th>\n      <th>...</th>\n      <th>Private Notes</th>\n      <th>Read Count</th>\n      <th>Recommended For</th>\n      <th>Recommended By</th>\n      <th>Owned Copies</th>\n      <th>Original Purchase Date</th>\n      <th>Original Purchase Location</th>\n      <th>Condition</th>\n      <th>Condition Description</th>\n      <th>BCID</th>\n    </tr>\n    <tr>\n      <th>Book Id</th>\n      <th></th>\n      <th></th>\n      <th></th>\n      <th></th>\n      <th></th>\n      <th></th>\n      <th></th>\n      <th></th>\n      <th></th>\n      <th></th>\n      <th></th>\n      <th></th>\n      <th></th>\n      <th></th>\n      <th></th>\n      <th></th>\n      <th></th>\n      <th></th>\n      <th></th>\n      <th></th>\n      <th></th>\n    </tr>\n  </thead>\n  <tbody>\n    <tr>\n      <th>42242793</th>\n      <td>Kurze Antworten auf große Fragen</td>\n      <td>Stephen Hawking</td>\n      <td>Hawking, Stephen</td>\n      <td>Hainer Kober</td>\n      <td></td>\n      <td></td>\n      <td>0</td>\n      <td>4.30</td>\n      <td>Klett-Cotta</td>\n      <td>Kindle Edition</td>\n      <td>...</td>\n      <td>NaN</td>\n      <td>1</td>\n      <td>NaN</td>\n      <td>NaN</td>\n      <td>0</td>\n      <td>NaN</td>\n      <td>NaN</td>\n      <td>NaN</td>\n      <td>NaN</td>\n      <td>NaN</td>\n    </tr>\n    <tr>\n      <th>41160292</th>\n      <td>Exhalation: Stories</td>\n      <td>Ted Chiang</td>\n      <td>Chiang, Ted</td>\n      <td>NaN</td>\n      <td></td>\n      <td></td>\n      <td>4</td>\n      <td>4.27</td>\n      <td>Knopf</td>\n      <td>Kindle Edition</td>\n      <td>...</td>\n      <td>NaN</td>\n      <td>1</td>\n      <td>NaN</td>\n      <td>NaN</td>\n      <td>0</td>\n      <td>NaN</td>\n      <td>NaN</td>\n      <td>NaN</td>\n      <td>NaN</td>\n      <td>NaN</td>\n    </tr>\n    <tr>\n      <th>9778945</th>\n      <td>The Shallows: What the Internet Is Doing to Ou...</td>\n      <td>Nicholas Carr</td>\n      <td>Carr, Nicholas</td>\n      <td>NaN</td>\n      <td>0393339750</td>\n      <td>9780393339758</td>\n      <td>0</td>\n      <td>3.89</td>\n      <td>W. W. Norton  Company</td>\n      <td>Paperback</td>\n      <td>...</td>\n      <td>NaN</td>\n      <td>0</td>\n      <td>NaN</td>\n      <td>NaN</td>\n      <td>0</td>\n      <td>NaN</td>\n      <td>NaN</td>\n      <td>NaN</td>\n      <td>NaN</td>\n      <td>NaN</td>\n    </tr>\n    <tr>\n      <th>23995249</th>\n      <td>The Invention of Nature: Alexander von Humbold...</td>\n      <td>Andrea Wulf</td>\n      <td>Wulf, Andrea</td>\n      <td>NaN</td>\n      <td>038535066X</td>\n      <td>9780385350662</td>\n      <td>0</td>\n      <td>4.24</td>\n      <td>Knopf</td>\n      <td>Hardcover</td>\n      <td>...</td>\n      <td>NaN</td>\n      <td>0</td>\n      <td>NaN</td>\n      <td>NaN</td>\n      <td>0</td>\n      <td>NaN</td>\n      <td>NaN</td>\n      <td>NaN</td>\n      <td>NaN</td>\n      <td>NaN</td>\n    </tr>\n    <tr>\n      <th>52668915</th>\n      <td>Entangled Life: How Fungi Make Our Worlds, Cha...</td>\n      <td>Merlin Sheldrake</td>\n      <td>Sheldrake, Merlin</td>\n      <td>NaN</td>\n      <td>0525510311</td>\n      <td>9780525510314</td>\n      <td>0</td>\n      <td>4.42</td>\n      <td>Random House</td>\n      <td>Hardcover</td>\n      <td>...</td>\n      <td>NaN</td>\n      <td>0</td>\n      <td>NaN</td>\n      <td>NaN</td>\n      <td>0</td>\n      <td>NaN</td>\n      <td>NaN</td>\n      <td>NaN</td>\n      <td>NaN</td>\n      <td>NaN</td>\n    </tr>\n  </tbody>\n</table>\n<p>5 rows × 30 columns</p>\n</div>"
     },
     "metadata": {},
     "execution_count": 4
    }
   ],
   "source": [
    "df['ISBN'] = df['ISBN'].str.split('\\\"').str.get(1)\n",
    "df['ISBN13'] = df['ISBN13'].str.split('\\\"').str.get(1)\n",
    "df.head()"
   ]
  },
  {
   "cell_type": "code",
   "execution_count": 5,
   "metadata": {},
   "outputs": [],
   "source": [
    "to_read = df[df['Exclusive Shelf'] == 'to-read']\n"
   ]
  },
  {
   "cell_type": "code",
   "execution_count": 6,
   "metadata": {},
   "outputs": [],
   "source": [
    "import datetime as dt"
   ]
  },
  {
   "cell_type": "code",
   "execution_count": 7,
   "metadata": {},
   "outputs": [],
   "source": [
    "to_read.sort_values('Date Added', ascending=False, inplace=True)\n",
    "to_read_2021 = to_read[to_read['Date Added'] > pd.Timestamp('2020-01-01')]"
   ]
  },
  {
   "cell_type": "code",
   "execution_count": 8,
   "metadata": {},
   "outputs": [
    {
     "output_type": "execute_result",
     "data": {
      "text/plain": [
       "                                                      Title            Author  \\\n",
       "Book Id                                                                         \n",
       "9778945   The Shallows: What the Internet Is Doing to Ou...     Nicholas Carr   \n",
       "52668915  Entangled Life: How Fungi Make Our Worlds, Cha...  Merlin Sheldrake   \n",
       "26150770  The Big Picture: On the Origins of Life, Meani...      Sean Carroll   \n",
       "23995249  The Invention of Nature: Alexander von Humbold...       Andrea Wulf   \n",
       "53687124  Chasing the Light: Writing, Directing, and Sur...      Oliver Stone   \n",
       "\n",
       "                 Author l-f Additional Authors        ISBN         ISBN13  \\\n",
       "Book Id                                                                     \n",
       "9778945      Carr, Nicholas                NaN  0393339750  9780393339758   \n",
       "52668915  Sheldrake, Merlin                NaN  0525510311  9780525510314   \n",
       "26150770      Carroll, Sean                NaN  0525954821  9780525954828   \n",
       "23995249       Wulf, Andrea                NaN  038535066X  9780385350662   \n",
       "53687124      Stone, Oliver                NaN                              \n",
       "\n",
       "          My Rating  Average Rating                  Publisher  \\\n",
       "Book Id                                                          \n",
       "9778945           0            3.89      W. W. Norton  Company   \n",
       "52668915          0            4.42               Random House   \n",
       "26150770          0            4.18                     Dutton   \n",
       "23995249          0            4.24                      Knopf   \n",
       "53687124          0            4.07  Houghton Mifflin Harcourt   \n",
       "\n",
       "                 Binding  ...  Private Notes Read Count Recommended For  \\\n",
       "Book Id                   ...                                             \n",
       "9778945        Paperback  ...            NaN          0             NaN   \n",
       "52668915       Hardcover  ...            NaN          0             NaN   \n",
       "26150770       Hardcover  ...            NaN          0             NaN   \n",
       "23995249       Hardcover  ...            NaN          0             NaN   \n",
       "53687124  Kindle Edition  ...            NaN          0             NaN   \n",
       "\n",
       "         Recommended By Owned Copies Original Purchase Date  \\\n",
       "Book Id                                                       \n",
       "9778945             NaN            0                    NaN   \n",
       "52668915            NaN            0                    NaN   \n",
       "26150770            NaN            0                    NaN   \n",
       "23995249            NaN            0                    NaN   \n",
       "53687124            NaN            0                    NaN   \n",
       "\n",
       "         Original Purchase Location Condition Condition Description BCID  \n",
       "Book Id                                                                   \n",
       "9778945                         NaN       NaN                   NaN  NaN  \n",
       "52668915                        NaN       NaN                   NaN  NaN  \n",
       "26150770                        NaN       NaN                   NaN  NaN  \n",
       "23995249                        NaN       NaN                   NaN  NaN  \n",
       "53687124                        NaN       NaN                   NaN  NaN  \n",
       "\n",
       "[5 rows x 30 columns]"
      ],
      "text/html": "<div>\n<style scoped>\n    .dataframe tbody tr th:only-of-type {\n        vertical-align: middle;\n    }\n\n    .dataframe tbody tr th {\n        vertical-align: top;\n    }\n\n    .dataframe thead th {\n        text-align: right;\n    }\n</style>\n<table border=\"1\" class=\"dataframe\">\n  <thead>\n    <tr style=\"text-align: right;\">\n      <th></th>\n      <th>Title</th>\n      <th>Author</th>\n      <th>Author l-f</th>\n      <th>Additional Authors</th>\n      <th>ISBN</th>\n      <th>ISBN13</th>\n      <th>My Rating</th>\n      <th>Average Rating</th>\n      <th>Publisher</th>\n      <th>Binding</th>\n      <th>...</th>\n      <th>Private Notes</th>\n      <th>Read Count</th>\n      <th>Recommended For</th>\n      <th>Recommended By</th>\n      <th>Owned Copies</th>\n      <th>Original Purchase Date</th>\n      <th>Original Purchase Location</th>\n      <th>Condition</th>\n      <th>Condition Description</th>\n      <th>BCID</th>\n    </tr>\n    <tr>\n      <th>Book Id</th>\n      <th></th>\n      <th></th>\n      <th></th>\n      <th></th>\n      <th></th>\n      <th></th>\n      <th></th>\n      <th></th>\n      <th></th>\n      <th></th>\n      <th></th>\n      <th></th>\n      <th></th>\n      <th></th>\n      <th></th>\n      <th></th>\n      <th></th>\n      <th></th>\n      <th></th>\n      <th></th>\n      <th></th>\n    </tr>\n  </thead>\n  <tbody>\n    <tr>\n      <th>9778945</th>\n      <td>The Shallows: What the Internet Is Doing to Ou...</td>\n      <td>Nicholas Carr</td>\n      <td>Carr, Nicholas</td>\n      <td>NaN</td>\n      <td>0393339750</td>\n      <td>9780393339758</td>\n      <td>0</td>\n      <td>3.89</td>\n      <td>W. W. Norton  Company</td>\n      <td>Paperback</td>\n      <td>...</td>\n      <td>NaN</td>\n      <td>0</td>\n      <td>NaN</td>\n      <td>NaN</td>\n      <td>0</td>\n      <td>NaN</td>\n      <td>NaN</td>\n      <td>NaN</td>\n      <td>NaN</td>\n      <td>NaN</td>\n    </tr>\n    <tr>\n      <th>52668915</th>\n      <td>Entangled Life: How Fungi Make Our Worlds, Cha...</td>\n      <td>Merlin Sheldrake</td>\n      <td>Sheldrake, Merlin</td>\n      <td>NaN</td>\n      <td>0525510311</td>\n      <td>9780525510314</td>\n      <td>0</td>\n      <td>4.42</td>\n      <td>Random House</td>\n      <td>Hardcover</td>\n      <td>...</td>\n      <td>NaN</td>\n      <td>0</td>\n      <td>NaN</td>\n      <td>NaN</td>\n      <td>0</td>\n      <td>NaN</td>\n      <td>NaN</td>\n      <td>NaN</td>\n      <td>NaN</td>\n      <td>NaN</td>\n    </tr>\n    <tr>\n      <th>26150770</th>\n      <td>The Big Picture: On the Origins of Life, Meani...</td>\n      <td>Sean Carroll</td>\n      <td>Carroll, Sean</td>\n      <td>NaN</td>\n      <td>0525954821</td>\n      <td>9780525954828</td>\n      <td>0</td>\n      <td>4.18</td>\n      <td>Dutton</td>\n      <td>Hardcover</td>\n      <td>...</td>\n      <td>NaN</td>\n      <td>0</td>\n      <td>NaN</td>\n      <td>NaN</td>\n      <td>0</td>\n      <td>NaN</td>\n      <td>NaN</td>\n      <td>NaN</td>\n      <td>NaN</td>\n      <td>NaN</td>\n    </tr>\n    <tr>\n      <th>23995249</th>\n      <td>The Invention of Nature: Alexander von Humbold...</td>\n      <td>Andrea Wulf</td>\n      <td>Wulf, Andrea</td>\n      <td>NaN</td>\n      <td>038535066X</td>\n      <td>9780385350662</td>\n      <td>0</td>\n      <td>4.24</td>\n      <td>Knopf</td>\n      <td>Hardcover</td>\n      <td>...</td>\n      <td>NaN</td>\n      <td>0</td>\n      <td>NaN</td>\n      <td>NaN</td>\n      <td>0</td>\n      <td>NaN</td>\n      <td>NaN</td>\n      <td>NaN</td>\n      <td>NaN</td>\n      <td>NaN</td>\n    </tr>\n    <tr>\n      <th>53687124</th>\n      <td>Chasing the Light: Writing, Directing, and Sur...</td>\n      <td>Oliver Stone</td>\n      <td>Stone, Oliver</td>\n      <td>NaN</td>\n      <td></td>\n      <td></td>\n      <td>0</td>\n      <td>4.07</td>\n      <td>Houghton Mifflin Harcourt</td>\n      <td>Kindle Edition</td>\n      <td>...</td>\n      <td>NaN</td>\n      <td>0</td>\n      <td>NaN</td>\n      <td>NaN</td>\n      <td>0</td>\n      <td>NaN</td>\n      <td>NaN</td>\n      <td>NaN</td>\n      <td>NaN</td>\n      <td>NaN</td>\n    </tr>\n  </tbody>\n</table>\n<p>5 rows × 30 columns</p>\n</div>"
     },
     "metadata": {},
     "execution_count": 8
    }
   ],
   "source": [
    "to_read_2021.head()"
   ]
  },
  {
   "source": [
    "## Jetzt Suchmaschine mittels BeatifulSoup scrapen um Bestpreise für Bücher zu finden"
   ],
   "cell_type": "markdown",
   "metadata": {}
  },
  {
   "cell_type": "code",
   "execution_count": 9,
   "metadata": {},
   "outputs": [],
   "source": [
    "from bs4 import BeautifulSoup\n",
    "import requests"
   ]
  },
  {
   "cell_type": "code",
   "execution_count": 10,
   "metadata": {},
   "outputs": [
    {
     "output_type": "execute_result",
     "data": {
      "text/plain": [
       "Title                         The Shallows: What the Internet Is Doing to Ou...\n",
       "Author                                                            Nicholas Carr\n",
       "Author l-f                                                       Carr, Nicholas\n",
       "Additional Authors                                                          NaN\n",
       "ISBN                                                                 0393339750\n",
       "ISBN13                                                            9780393339758\n",
       "My Rating                                                                     0\n",
       "Average Rating                                                             3.89\n",
       "Publisher                                                 W. W. Norton  Company\n",
       "Binding                                                               Paperback\n",
       "Number of Pages                                                           280.0\n",
       "Year Published                                              2011-01-01 00:00:00\n",
       "Original Publication Year                                                  2010\n",
       "Date Read                                                                   NaT\n",
       "Date Added                                                  2021-02-05 00:00:00\n",
       "Bookshelves                                                             to-read\n",
       "Bookshelves with positions                                       to-read (#245)\n",
       "Exclusive Shelf                                                         to-read\n",
       "My Review                                                                   NaN\n",
       "Spoiler                                                                     NaN\n",
       "Private Notes                                                               NaN\n",
       "Read Count                                                                    0\n",
       "Recommended For                                                             NaN\n",
       "Recommended By                                                              NaN\n",
       "Owned Copies                                                                  0\n",
       "Original Purchase Date                                                      NaN\n",
       "Original Purchase Location                                                  NaN\n",
       "Condition                                                                   NaN\n",
       "Condition Description                                                       NaN\n",
       "BCID                                                                        NaN\n",
       "Name: 9778945, dtype: object"
      ]
     },
     "metadata": {},
     "execution_count": 10
    }
   ],
   "source": [
    "#Testbuch\n",
    "book = to_read_2021.iloc[0]\n",
    "book"
   ]
  },
  {
   "cell_type": "code",
   "execution_count": 11,
   "metadata": {},
   "outputs": [],
   "source": [
    "url = 'https://www.booklooker.de/B%C3%BCcher/Angebote/isbn=0393339750?sortOrder=preis_total'\n",
    "search_url = 'https://www.booklooker.de/B%C3%BCcher/Angebote/'\n",
    "base_url = 'https://www.booklooker.de'\n",
    "query_parameters = {\n",
    "    'isbn': book['ISBN13'],\n",
    "    'sortOrder': 'preis_total'\n",
    "}"
   ]
  },
  {
   "cell_type": "code",
   "execution_count": 12,
   "metadata": {},
   "outputs": [],
   "source": [
    "page = requests.get(url)\n",
    "soup = BeautifulSoup(page.content)"
   ]
  },
  {
   "source": [
    "table class=\"resultlist_products\"\n",
    "\n",
    "tbody\n",
    "\n",
    "tr id=\"article_*ID*\" class=\"articleRow resultlist_products*product*\" ODER\n",
    "\n",
    "articleRow resultlist_products*premium*"
   ],
   "cell_type": "markdown",
   "metadata": {}
  },
  {
   "cell_type": "code",
   "execution_count": 13,
   "metadata": {},
   "outputs": [],
   "source": [
    "results = soup.find(class_='resultlist_products')\n",
    "products = results.find_all('tr', class_='articleRow')\n"
   ]
  },
  {
   "cell_type": "code",
   "execution_count": 14,
   "metadata": {},
   "outputs": [],
   "source": [
    "entries = []\n",
    "for idx, product in enumerate(products):\n",
    "    product_info = product.find(\"td\", class_=\"resultlist_productsimage\")\n",
    "    price_info = product.find(\"td\", class_=\"resultlist_productsright\")\n",
    "    title_info =product_info.find('h2', class_='unformated')\n",
    "    book_title = title_info.find('span', class_='artikeltitel')\n",
    "    link = base_url + title_info.a.attrs['href']\n",
    "\n",
    "    author = product_info.find('span', class_='notranslate')\n",
    "    condition = str(product_info.find(string=lambda text: 'zustand' in text.lower()))\n",
    "    prefix = 'Zustand: '\n",
    "    condition = condition[len(prefix):] if condition.startswith(prefix) else condition\n",
    "    price = price_info.find('span', class_='price')\n",
    "    row = [book_title.text.strip(), author.text.strip(), price.text.strip()[:-2], condition.strip(), link]\n",
    "    entries.append(row)\n",
    "    # print(f\"[{idx}]: title: {book_title.text.strip()}, author: {author.text.strip()}, price = {price.text.strip()}, state: {state.strip()}), link: {link}\")\n"
   ]
  },
  {
   "cell_type": "code",
   "execution_count": 15,
   "metadata": {},
   "outputs": [
    {
     "output_type": "execute_result",
     "data": {
      "text/plain": [
       "               Title             Author Price               Condition  \\\n",
       "0  Carr, N: Shallows  Carr, N: Shallows  3,21  gebraucht; mittelmäßig   \n",
       "\n",
       "                                                 URL  \n",
       "0  https://www.booklooker.de/B%C3%BCcher/Nicholas...  "
      ],
      "text/html": "<div>\n<style scoped>\n    .dataframe tbody tr th:only-of-type {\n        vertical-align: middle;\n    }\n\n    .dataframe tbody tr th {\n        vertical-align: top;\n    }\n\n    .dataframe thead th {\n        text-align: right;\n    }\n</style>\n<table border=\"1\" class=\"dataframe\">\n  <thead>\n    <tr style=\"text-align: right;\">\n      <th></th>\n      <th>Title</th>\n      <th>Author</th>\n      <th>Price</th>\n      <th>Condition</th>\n      <th>URL</th>\n    </tr>\n  </thead>\n  <tbody>\n    <tr>\n      <th>0</th>\n      <td>Carr, N: Shallows</td>\n      <td>Carr, N: Shallows</td>\n      <td>3,21</td>\n      <td>gebraucht; mittelmäßig</td>\n      <td>https://www.booklooker.de/B%C3%BCcher/Nicholas...</td>\n    </tr>\n  </tbody>\n</table>\n</div>"
     },
     "metadata": {},
     "execution_count": 15
    }
   ],
   "source": [
    "web = pd.DataFrame(entries, columns=['Title', 'Author', 'Price', 'Condition', 'URL'])\n",
    "web.head()"
   ]
  },
  {
   "source": [
    "Build Search URL"
   ],
   "cell_type": "markdown",
   "metadata": {}
  },
  {
   "cell_type": "code",
   "execution_count": 27,
   "metadata": {},
   "outputs": [],
   "source": [
    "from urllib.parse import urlencode, urljoin, quote_plus\n",
    "def build_booklooker_url(**kwargs):\n",
    "    isbn13 = kwargs.get('ISBN13', \"\")\n",
    "    isbn = kwargs.get('ISBN', \"\")\n",
    "    title = kwargs.get('Title', \"\")\n",
    "    author = kwargs.get('Author', \"\")\n",
    "    \n",
    "    search_url = 'https://www.booklooker.de/B%C3%BCcher/Angebote/'\n",
    "    payload = {'sortOrder': \"preis_total\"}\n",
    "    if len(isbn13) > 0:\n",
    "        payload['isbn'] = isbn13\n",
    "    elif len(isbn) > 0:\n",
    "        payload['isbn'] = isbn\n",
    "    else:\n",
    "        payload['autor'] = author\n",
    "        payload['titel'] = title\n",
    "        print(f'ISBN not found, using: {author}: {title}')\n",
    "\n",
    "    url = build_url(search_url, payload)\n",
    "    return url\n",
    "\n",
    "def build_abebooks_url(**kwargs):\n",
    "    #TODO\n",
    "    raise NotImplementedError('not yet finished.')\n",
    "    search_url = 'https://www.abebooks.de/servlet/SearchResults?sts=t&cm_sp=SearchF-_-home-_-Results&an=Author&tn=Title&kn=&isbn='\n",
    "    isbn13 = kwargs.get('ISBN13', \"\")\n",
    "    isbn = kwargs.get('ISBN', \"\")\n",
    "    title = kwargs.get('Title', \"\")\n",
    "    author = kwargs.get('Author', \"\")\n",
    "    \n",
    "    payload = {'sortOrder': \"preis_total\"}\n",
    "    if len(isbn13) > 0:\n",
    "        payload['isbn'] = isbn13\n",
    "    elif len(isbn) > 0:\n",
    "        payload['isbn'] = isbn\n",
    "    else:\n",
    "        payload['an'] = author\n",
    "        payload['tn'] = title\n",
    "        print(f'ISBN not found, using: {author}: {title}')\n",
    "\n",
    "    url = build_url(search_url, payload)\n",
    "    return url\n",
    "\n",
    "def build_url(base_url, payload):\n",
    "    result = urlencode(payload, quote_via=quote_plus)\n",
    "    url = urljoin(base_url, result)\n",
    "    return url\n",
    "\n",
    "def get_soup(url):\n",
    "    page = requests.get(url)\n",
    "    soup = BeautifulSoup(page.content.decode('utf-8', 'ignore'))\n",
    "    return soup"
   ]
  },
  {
   "cell_type": "code",
   "execution_count": 28,
   "metadata": {},
   "outputs": [],
   "source": [
    "def get_booklooker_results(soup, limit=10, as_df=False):\n",
    "    entries = []\n",
    "    results = soup.find(class_='resultlist_products')\n",
    "    if results is None:\n",
    "        print('no resultlist found! returning.')\n",
    "        return entries\n",
    "    products = results.find_all('tr', class_='articleRow')\n",
    "    for idx, product in enumerate(products):\n",
    "        if idx > limit:\n",
    "            break\n",
    "        product_info = product.find(\"td\", class_=\"resultlist_productsimage\")\n",
    "        title_info =product_info.find('h2', class_='unformated')\n",
    "        book_title = title_info.find('span', class_='artikeltitel notranslate')\n",
    "        link = base_url + title_info.a.attrs['href']\n",
    "\n",
    "        author_info =product_info.find('h3', class_='unformated')\n",
    "        author = author_info.find('span', class_='notranslate')\n",
    "\n",
    "        condition = str(product_info.find(string=lambda text: 'zustand' in text.lower()))\n",
    "        prefix = 'Zustand: '\n",
    "        condition = condition[len(prefix):] if condition.startswith(prefix) else condition\n",
    "\n",
    "        price_info = product.find(\"div\", class_=\"productPrices\")\n",
    "        prices = price_info.find_all(string=lambda text: '€' in text.lower())\n",
    "        price_list = [s[:-1].strip() for s in prices]\n",
    "        price = price_list[0] if len(price_list) > 0 else \"\"\n",
    "        vsk = price_list[1] if len(price_list) > 1 else \"\"\n",
    "        \n",
    "        row = [book_title.text.strip(), author.text.strip(), price, vsk, condition.strip(), link]\n",
    "        entries.append(row)\n",
    "    if as_df:\n",
    "        return pd.DataFrame(entries, columns=['Title', 'Author', 'Price', 'VSK', 'Condition', 'URL'])\n",
    "    else:\n",
    "        return entries\n"
   ]
  },
  {
   "source": [
    "## Bringing it all together"
   ],
   "cell_type": "markdown",
   "metadata": {}
  },
  {
   "cell_type": "code",
   "execution_count": 249,
   "metadata": {},
   "outputs": [],
   "source": [
    "def get_sales_info_df(df, limit=10, as_df=True):\n",
    "    url = build_booklooker_url(**df)\n",
    "    soup = get_soup(url)\n",
    "    search_results = get_booklooker_results(soup, limit=limit, as_df=as_df)\n",
    "    if as_df:\n",
    "        return search_results\n",
    "    else:\n",
    "        return np.array(search_results)"
   ]
  },
  {
   "cell_type": "code",
   "execution_count": 250,
   "metadata": {},
   "outputs": [],
   "source": [
    "def get_sales_info(title, isbn, isbn13, limit=10, as_df=True):\n",
    "    isbn_ = isbn13 if len(isbn13) > 0 else isbn\n",
    "    if len(isbn_) <= 0:\n",
    "        print(f'{title}: no ISBN found!')\n",
    "        return []\n",
    "        # raise KeyError('No ISBN Found')\n",
    "    d = {'ISBN': isbn_}\n",
    "    url = build_booklooker_url(**d)\n",
    "    soup = get_soup(url)\n",
    "    search_results = get_booklooker_results(soup, limit=limit, as_df=as_df)\n",
    "    return np.array(search_results)"
   ]
  },
  {
   "cell_type": "code",
   "execution_count": 251,
   "metadata": {},
   "outputs": [
    {
     "output_type": "stream",
     "name": "stderr",
     "text": [
      " 15%|█▌        | 3/20 [00:00<00:03,  4.76it/s]no resultlist found! returning.\n",
      " 25%|██▌       | 5/20 [00:01<00:04,  3.36it/s]ISBN not found, using: Oliver Stone: Chasing the Light: Writing, Directing, and Surviving Platoon, Midnight Express, Scarface, Salvador, and the Movie Game\n",
      " 30%|███       | 6/20 [00:01<00:04,  3.46it/s]no resultlist found! returning.\n",
      " 35%|███▌      | 7/20 [00:01<00:03,  3.30it/s]no resultlist found! returning.\n",
      "ISBN not found, using: Katharina Nocun: Die Daten, die ich rief: Wie wir unsere Freiheit an Großkonzerne verkaufen\n",
      " 50%|█████     | 10/20 [00:03<00:03,  2.76it/s]no resultlist found! returning.\n",
      " 55%|█████▌    | 11/20 [00:03<00:03,  2.54it/s]ISBN not found, using: Thought Catalog: Read This If: A Collection of Essays that Prove Someone Else Gets it, Too\n",
      " 60%|██████    | 12/20 [00:03<00:02,  2.85it/s]no resultlist found! returning.\n",
      " 65%|██████▌   | 13/20 [00:04<00:02,  2.87it/s]no resultlist found! returning.\n",
      " 70%|███████   | 14/20 [00:04<00:02,  2.46it/s]ISBN not found, using: Barack Obama: A Promised Land\n",
      " 85%|████████▌ | 17/20 [00:06<00:01,  2.16it/s]ISBN not found, using: Matt Haig: The Midnight Library\n",
      " 95%|█████████▌| 19/20 [00:07<00:00,  2.12it/s]no resultlist found! returning.\n",
      "100%|██████████| 20/20 [00:07<00:00,  2.08it/s]ISBN not found, using: Rüdiger Safranski: Zeit: Was sie mit uns macht und was wir aus ihr machen\n",
      "100%|██████████| 20/20 [00:08<00:00,  2.40it/s]\n"
     ]
    }
   ],
   "source": [
    "from tqdm import tqdm\n",
    "# sales_info = []\n",
    "my_df = to_read_2021.iloc[:20]\n",
    "from tqdm import tqdm\n",
    "# Create and register a new `tqdm` instance with `pandas`\n",
    "# (can use tqdm_gui, optional kwargs, etc.)\n",
    "tqdm.pandas()\n",
    "\n",
    "# Now you can use `progress_apply` instead of `apply`\n",
    "sales_infos = my_df.progress_apply(get_sales_info_df, axis=1)\n"
   ]
  },
  {
   "cell_type": "code",
   "execution_count": 252,
   "metadata": {},
   "outputs": [
    {
     "output_type": "execute_result",
     "data": {
      "text/plain": [
       "Book Id\n",
       "9778945                    Title         Author Price   VS...\n",
       "52668915                                                   []\n",
       "26150770                                                  ...\n",
       "23995249                                                  ...\n",
       "53687124                                                   []\n",
       "dtype: object"
      ]
     },
     "metadata": {},
     "execution_count": 252
    }
   ],
   "source": [
    "sales_infos.head()\n",
    "# nd = np.array(sales_infos)"
   ]
  },
  {
   "cell_type": "code",
   "execution_count": 281,
   "metadata": {},
   "outputs": [
    {
     "output_type": "execute_result",
     "data": {
      "text/plain": [
       "Title        The Invention of Nature - Alexander von Humbol...\n",
       "Author                                             Andrea Wulf\n",
       "Price                                                    29,00\n",
       "VSK                                                       5,50\n",
       "Condition                                              wie neu\n",
       "URL          https://www.booklooker.de/B%C3%BCcher/Andrea-W...\n",
       "Name: 0, dtype: object"
      ]
     },
     "metadata": {},
     "execution_count": 281
    }
   ],
   "source": [
    "sales_infos.iloc[3].iloc[0]"
   ]
  },
  {
   "source": [
    "Erstmal speichern"
   ],
   "cell_type": "markdown",
   "metadata": {}
  },
  {
   "cell_type": "code",
   "execution_count": 257,
   "metadata": {},
   "outputs": [],
   "source": [
    "sales_infos.to_pickle('sales_infos_2021_20stck.pkl')"
   ]
  },
  {
   "cell_type": "code",
   "execution_count": 295,
   "metadata": {},
   "outputs": [],
   "source": [
    "sales_arr = sales_infos.to_numpy()\n",
    "sales_df = pd.DataFrame(sales_arr)"
   ]
  },
  {
   "cell_type": "code",
   "execution_count": 298,
   "metadata": {},
   "outputs": [
    {
     "output_type": "execute_result",
     "data": {
      "text/plain": [
       "                                                Title            Author  \\\n",
       "0                                     The Big Picture      Sean Carroll   \n",
       "1                                     The Big Picture      Sean Carroll   \n",
       "2   The Big Picture | On the Origins of Life, Mean...  Carroll, Sean B.   \n",
       "3                                     The Big Picture   Sean B. Carroll   \n",
       "4   The Big Picture | On the Origins of Life, Mean...  Carroll, Sean B.   \n",
       "5                                     The Big Picture   Sean B. Carroll   \n",
       "6                                     The Big Picture   Sean B. Carroll   \n",
       "7                                     The Big Picture   Sean B. Carroll   \n",
       "8                                     The Big Picture   Sean B. Carroll   \n",
       "9                                     The Big Picture   Sean B. Carroll   \n",
       "10                                    The Big Picture   Sean B. Carroll   \n",
       "\n",
       "    Price VSK Condition                                                URL  \n",
       "0   17,99          None  https://www.booklooker.de/B%C3%BCcher/Sean-Car...  \n",
       "1   19,95          None  https://www.booklooker.de/B%C3%BCcher/Sean-Car...  \n",
       "2   22,90          None  https://www.booklooker.de/B%C3%BCcher/Sean-B-C...  \n",
       "3   23,85          None  https://www.booklooker.de/B%C3%BCcher/Sean-B-C...  \n",
       "4   24,90          None  https://www.booklooker.de/B%C3%BCcher/Sean-B-C...  \n",
       "5   25,18          None  https://www.booklooker.de/B%C3%BCcher/Sean-B-C...  \n",
       "6   25,18          None  https://www.booklooker.de/B%C3%BCcher/Sean-B-C...  \n",
       "7   26,50          None  https://www.booklooker.de/B%C3%BCcher/Sean-B-C...  \n",
       "8   26,50          None  https://www.booklooker.de/B%C3%BCcher/Sean-B-C...  \n",
       "9   26,50          None  https://www.booklooker.de/B%C3%BCcher/Sean-B-C...  \n",
       "10  26,50          None  https://www.booklooker.de/B%C3%BCcher/Sean-B-C...  "
      ],
      "text/html": "<div>\n<style scoped>\n    .dataframe tbody tr th:only-of-type {\n        vertical-align: middle;\n    }\n\n    .dataframe tbody tr th {\n        vertical-align: top;\n    }\n\n    .dataframe thead th {\n        text-align: right;\n    }\n</style>\n<table border=\"1\" class=\"dataframe\">\n  <thead>\n    <tr style=\"text-align: right;\">\n      <th></th>\n      <th>Title</th>\n      <th>Author</th>\n      <th>Price</th>\n      <th>VSK</th>\n      <th>Condition</th>\n      <th>URL</th>\n    </tr>\n  </thead>\n  <tbody>\n    <tr>\n      <th>0</th>\n      <td>The Big Picture</td>\n      <td>Sean Carroll</td>\n      <td>17,99</td>\n      <td></td>\n      <td>None</td>\n      <td>https://www.booklooker.de/B%C3%BCcher/Sean-Car...</td>\n    </tr>\n    <tr>\n      <th>1</th>\n      <td>The Big Picture</td>\n      <td>Sean Carroll</td>\n      <td>19,95</td>\n      <td></td>\n      <td>None</td>\n      <td>https://www.booklooker.de/B%C3%BCcher/Sean-Car...</td>\n    </tr>\n    <tr>\n      <th>2</th>\n      <td>The Big Picture | On the Origins of Life, Mean...</td>\n      <td>Carroll, Sean B.</td>\n      <td>22,90</td>\n      <td></td>\n      <td>None</td>\n      <td>https://www.booklooker.de/B%C3%BCcher/Sean-B-C...</td>\n    </tr>\n    <tr>\n      <th>3</th>\n      <td>The Big Picture</td>\n      <td>Sean B. Carroll</td>\n      <td>23,85</td>\n      <td></td>\n      <td>None</td>\n      <td>https://www.booklooker.de/B%C3%BCcher/Sean-B-C...</td>\n    </tr>\n    <tr>\n      <th>4</th>\n      <td>The Big Picture | On the Origins of Life, Mean...</td>\n      <td>Carroll, Sean B.</td>\n      <td>24,90</td>\n      <td></td>\n      <td>None</td>\n      <td>https://www.booklooker.de/B%C3%BCcher/Sean-B-C...</td>\n    </tr>\n    <tr>\n      <th>5</th>\n      <td>The Big Picture</td>\n      <td>Sean B. Carroll</td>\n      <td>25,18</td>\n      <td></td>\n      <td>None</td>\n      <td>https://www.booklooker.de/B%C3%BCcher/Sean-B-C...</td>\n    </tr>\n    <tr>\n      <th>6</th>\n      <td>The Big Picture</td>\n      <td>Sean B. Carroll</td>\n      <td>25,18</td>\n      <td></td>\n      <td>None</td>\n      <td>https://www.booklooker.de/B%C3%BCcher/Sean-B-C...</td>\n    </tr>\n    <tr>\n      <th>7</th>\n      <td>The Big Picture</td>\n      <td>Sean B. Carroll</td>\n      <td>26,50</td>\n      <td></td>\n      <td>None</td>\n      <td>https://www.booklooker.de/B%C3%BCcher/Sean-B-C...</td>\n    </tr>\n    <tr>\n      <th>8</th>\n      <td>The Big Picture</td>\n      <td>Sean B. Carroll</td>\n      <td>26,50</td>\n      <td></td>\n      <td>None</td>\n      <td>https://www.booklooker.de/B%C3%BCcher/Sean-B-C...</td>\n    </tr>\n    <tr>\n      <th>9</th>\n      <td>The Big Picture</td>\n      <td>Sean B. Carroll</td>\n      <td>26,50</td>\n      <td></td>\n      <td>None</td>\n      <td>https://www.booklooker.de/B%C3%BCcher/Sean-B-C...</td>\n    </tr>\n    <tr>\n      <th>10</th>\n      <td>The Big Picture</td>\n      <td>Sean B. Carroll</td>\n      <td>26,50</td>\n      <td></td>\n      <td>None</td>\n      <td>https://www.booklooker.de/B%C3%BCcher/Sean-B-C...</td>\n    </tr>\n  </tbody>\n</table>\n</div>"
     },
     "metadata": {},
     "execution_count": 298
    }
   ],
   "source": [
    "sales_df.iloc[2].iloc[0]"
   ]
  },
  {
   "source": [
    "## TODO daraus jetzt ein MultiIndex basteln"
   ],
   "cell_type": "markdown",
   "metadata": {}
  },
  {
   "cell_type": "code",
   "execution_count": 184,
   "metadata": {},
   "outputs": [
    {
     "output_type": "stream",
     "name": "stdout",
     "text": [
      "shape before: (20, 1)\nshape[2] before: (1,)\nshape[2][0] before: (11, 6)\nshape after squeeze: (20,)\nshape[2] after: (11, 6)\nshape[2][0] after: (6,)\n"
     ]
    }
   ],
   "source": [
    "# sales_df = sales_infos.to_frame()   # series to dataframe\n",
    "# sales_arr = sales_df.to_numpy()     # dataframe to numpy-array\n",
    "# print(f\"shape before: {sales_arr.shape}\")\n",
    "# print(f\"shape[2] before: {sales_arr[2].shape}\")\n",
    "# print(f\"shape[2][0] before: {sales_arr[2][0].shape}\")\n",
    "# sales_arr = np.squeeze(sales_arr)   # remove empty-layer in numpy-array\n",
    "# print(f\"shape after squeeze: {sales_arr.shape}\")\n",
    "# print(f\"shape[2] after: {sales_arr[2].shape}\")\n",
    "# print(f\"shape[2][0] after: {sales_arr[2][0].shape}\")\n",
    "# #Don't remove the empty ones, so the order stays the same (book 1 = bookid[1]...)\n",
    "# # sales_arr = sales_arr[np.array([y.size>0 for y in sales_arr])] # remove empty results\n",
    "# # print(f\"removed empty lists: {sales_arr.shape}\")"
   ]
  },
  {
   "source": [
    "jetzt ist alles gecleaned.\n",
    "Übrig: N Bücher, mit M Suchergebnissen und den jeweils 6 Spalten: (N,M,6) "
   ],
   "cell_type": "markdown",
   "metadata": {}
  },
  {
   "cell_type": "code",
   "execution_count": 146,
   "metadata": {},
   "outputs": [],
   "source": [
    "test_arr = sales_arr[1]"
   ]
  },
  {
   "cell_type": "code",
   "execution_count": 162,
   "metadata": {},
   "outputs": [
    {
     "output_type": "execute_result",
     "data": {
      "text/plain": [
       "array(['https://www.booklooker.de/B%C3%BCcher/Sean-Carroll+The-Big-Picture/id/A02u759P01ZZ1',\n",
       "       'https://www.booklooker.de/B%C3%BCcher/Sean-Carroll+The-Big-Picture/id/A02u5KTL01ZZw',\n",
       "       'https://www.booklooker.de/B%C3%BCcher/Sean-B-Carroll+The-Big-Picture-On-the-Origins-of-Life-Meaning-and-the-Universe-Itself-Sean-B-Carroll/id/A02u5SGv01ZZV',\n",
       "       'https://www.booklooker.de/B%C3%BCcher/Sean-B-Carroll+The-Big-Picture/id/A02u5DLB01ZZz',\n",
       "       'https://www.booklooker.de/B%C3%BCcher/Sean-B-Carroll+The-Big-Picture-On-the-Origins-of-Life-Meaning-and-the-Universe-Itself-Sean-B-Carroll/id/A02u5R2p01ZZW',\n",
       "       'https://www.booklooker.de/B%C3%BCcher/Sean-B-Carroll+The-Big-Picture/id/A02u5FeG01ZZn',\n",
       "       'https://www.booklooker.de/B%C3%BCcher/Sean-B-Carroll+The-Big-Picture/id/A02u5E3101ZZa',\n",
       "       'https://www.booklooker.de/B%C3%BCcher/Sean-B-Carroll+The-Big-Picture/id/A02u5FXZ01ZZ1',\n",
       "       'https://www.booklooker.de/B%C3%BCcher/Sean-B-Carroll+The-Big-Picture/id/A02u8qWy01ZZ1',\n",
       "       'https://www.booklooker.de/B%C3%BCcher/Sean-B-Carroll+The-Big-Picture/id/A02u5Fqn01ZZE',\n",
       "       'https://www.booklooker.de/B%C3%BCcher/Sean-B-Carroll+The-Big-Picture/id/A02u5ELO01ZZf'],\n",
       "      dtype='<U155')"
      ]
     },
     "metadata": {},
     "execution_count": 162
    }
   ],
   "source": [
    "test_arr.T[5]"
   ]
  },
  {
   "cell_type": "code",
   "execution_count": 192,
   "metadata": {},
   "outputs": [
    {
     "output_type": "execute_result",
     "data": {
      "text/plain": [
       "                                                         0\n",
       "Book Id                                                   \n",
       "9778945  [[Carr, N: Shallows, Nicholas Carr, 3,21, 2,50..."
      ],
      "text/html": "<div>\n<style scoped>\n    .dataframe tbody tr th:only-of-type {\n        vertical-align: middle;\n    }\n\n    .dataframe tbody tr th {\n        vertical-align: top;\n    }\n\n    .dataframe thead th {\n        text-align: right;\n    }\n</style>\n<table border=\"1\" class=\"dataframe\">\n  <thead>\n    <tr style=\"text-align: right;\">\n      <th></th>\n      <th>0</th>\n    </tr>\n    <tr>\n      <th>Book Id</th>\n      <th></th>\n    </tr>\n  </thead>\n  <tbody>\n    <tr>\n      <th>9778945</th>\n      <td>[[Carr, N: Shallows, Nicholas Carr, 3,21, 2,50...</td>\n    </tr>\n  </tbody>\n</table>\n</div>"
     },
     "metadata": {},
     "execution_count": 192
    }
   ],
   "source": [
    "sales_df.head(1)"
   ]
  },
  {
   "cell_type": "code",
   "execution_count": 188,
   "metadata": {},
   "outputs": [
    {
     "output_type": "execute_result",
     "data": {
      "text/plain": [
       "                                                     Title         Author  \\\n",
       "Book Id                                                                     \n",
       "9778945  The Shallows: What the Internet Is Doing to Ou...  Nicholas Carr   \n",
       "\n",
       "             Author l-f Additional Authors        ISBN         ISBN13  \\\n",
       "Book Id                                                                 \n",
       "9778945  Carr, Nicholas                NaN  0393339750  9780393339758   \n",
       "\n",
       "         My Rating  Average Rating              Publisher    Binding  ...  \\\n",
       "Book Id                                                               ...   \n",
       "9778945          0            3.89  W. W. Norton  Company  Paperback  ...   \n",
       "\n",
       "         Private Notes Read Count Recommended For Recommended By Owned Copies  \\\n",
       "Book Id                                                                         \n",
       "9778945            NaN          0             NaN            NaN            0   \n",
       "\n",
       "        Original Purchase Date Original Purchase Location Condition  \\\n",
       "Book Id                                                               \n",
       "9778945                    NaN                        NaN       NaN   \n",
       "\n",
       "        Condition Description BCID  \n",
       "Book Id                             \n",
       "9778945                   NaN  NaN  \n",
       "\n",
       "[1 rows x 30 columns]"
      ],
      "text/html": "<div>\n<style scoped>\n    .dataframe tbody tr th:only-of-type {\n        vertical-align: middle;\n    }\n\n    .dataframe tbody tr th {\n        vertical-align: top;\n    }\n\n    .dataframe thead th {\n        text-align: right;\n    }\n</style>\n<table border=\"1\" class=\"dataframe\">\n  <thead>\n    <tr style=\"text-align: right;\">\n      <th></th>\n      <th>Title</th>\n      <th>Author</th>\n      <th>Author l-f</th>\n      <th>Additional Authors</th>\n      <th>ISBN</th>\n      <th>ISBN13</th>\n      <th>My Rating</th>\n      <th>Average Rating</th>\n      <th>Publisher</th>\n      <th>Binding</th>\n      <th>...</th>\n      <th>Private Notes</th>\n      <th>Read Count</th>\n      <th>Recommended For</th>\n      <th>Recommended By</th>\n      <th>Owned Copies</th>\n      <th>Original Purchase Date</th>\n      <th>Original Purchase Location</th>\n      <th>Condition</th>\n      <th>Condition Description</th>\n      <th>BCID</th>\n    </tr>\n    <tr>\n      <th>Book Id</th>\n      <th></th>\n      <th></th>\n      <th></th>\n      <th></th>\n      <th></th>\n      <th></th>\n      <th></th>\n      <th></th>\n      <th></th>\n      <th></th>\n      <th></th>\n      <th></th>\n      <th></th>\n      <th></th>\n      <th></th>\n      <th></th>\n      <th></th>\n      <th></th>\n      <th></th>\n      <th></th>\n      <th></th>\n    </tr>\n  </thead>\n  <tbody>\n    <tr>\n      <th>9778945</th>\n      <td>The Shallows: What the Internet Is Doing to Ou...</td>\n      <td>Nicholas Carr</td>\n      <td>Carr, Nicholas</td>\n      <td>NaN</td>\n      <td>0393339750</td>\n      <td>9780393339758</td>\n      <td>0</td>\n      <td>3.89</td>\n      <td>W. W. Norton  Company</td>\n      <td>Paperback</td>\n      <td>...</td>\n      <td>NaN</td>\n      <td>0</td>\n      <td>NaN</td>\n      <td>NaN</td>\n      <td>0</td>\n      <td>NaN</td>\n      <td>NaN</td>\n      <td>NaN</td>\n      <td>NaN</td>\n      <td>NaN</td>\n    </tr>\n  </tbody>\n</table>\n<p>1 rows × 30 columns</p>\n</div>"
     },
     "metadata": {},
     "execution_count": 188
    }
   ],
   "source": [
    "my_df.head(1)"
   ]
  },
  {
   "cell_type": "code",
   "execution_count": 164,
   "metadata": {},
   "outputs": [],
   "source": [
    "idx = pd.MultiIndex.from_arrays(test_arr.T, names=['Title', 'Author', 'Price', 'VSK', 'Condition', 'URL'])\n"
   ]
  },
  {
   "cell_type": "code",
   "execution_count": 191,
   "metadata": {},
   "outputs": [
    {
     "output_type": "execute_result",
     "data": {
      "text/plain": [
       "Int64Index([ 9778945, 52668915, 26150770, 23995249, 53687124, 50403471,\n",
       "            39778359, 44492286, 29780253,    24113, 30335077,   112537,\n",
       "               24861, 55361205,   217381, 41036165, 52578297, 37542581,\n",
       "            53179105, 26153173],\n",
       "           dtype='int64', name='Book Id')"
      ]
     },
     "metadata": {},
     "execution_count": 191
    }
   ],
   "source": [
    "ids = my_df.index\n",
    "ids"
   ]
  },
  {
   "cell_type": "code",
   "execution_count": 201,
   "metadata": {},
   "outputs": [],
   "source": [
    "result_rows = np.array([\"result_%d\" % i for i in range(10)]) #Patients\n",
    "\n",
    "cols = ['Title', 'Author', 'Price', 'VSK', 'Condition', 'URL']"
   ]
  },
  {
   "cell_type": "code",
   "execution_count": 204,
   "metadata": {},
   "outputs": [
    {
     "output_type": "execute_result",
     "data": {
      "text/plain": [
       "MultiIndex([( 9778945, 'result_0'),\n",
       "            ( 9778945, 'result_1'),\n",
       "            ( 9778945, 'result_2'),\n",
       "            ( 9778945, 'result_3'),\n",
       "            ( 9778945, 'result_4'),\n",
       "            ( 9778945, 'result_5'),\n",
       "            ( 9778945, 'result_6'),\n",
       "            ( 9778945, 'result_7'),\n",
       "            ( 9778945, 'result_8'),\n",
       "            ( 9778945, 'result_9'),\n",
       "            ...\n",
       "            (26153173, 'result_0'),\n",
       "            (26153173, 'result_1'),\n",
       "            (26153173, 'result_2'),\n",
       "            (26153173, 'result_3'),\n",
       "            (26153173, 'result_4'),\n",
       "            (26153173, 'result_5'),\n",
       "            (26153173, 'result_6'),\n",
       "            (26153173, 'result_7'),\n",
       "            (26153173, 'result_8'),\n",
       "            (26153173, 'result_9')],\n",
       "           names=['Book Id', 'Search Results'], length=200)"
      ]
     },
     "metadata": {},
     "execution_count": 204
    }
   ],
   "source": [
    "# Create the MultiIndex from years, samples and patients.\n",
    "\n",
    "midx = pd.MultiIndex.from_product([ids, result_rows], names=['Book Id', 'Search Results'])\n",
    "# Note that Cartesian product order is the same as the \n",
    "# C-order used by default in ``reshape``.\n",
    "midx"
   ]
  },
  {
   "cell_type": "code",
   "execution_count": 214,
   "metadata": {},
   "outputs": [
    {
     "output_type": "execute_result",
     "data": {
      "text/plain": [
       "(11, 6)"
      ]
     },
     "metadata": {},
     "execution_count": 214
    }
   ],
   "source": []
  },
  {
   "cell_type": "code",
   "execution_count": 215,
   "metadata": {},
   "outputs": [],
   "source": [
    "#A_3D muss shape (20x10)x6 = 200x6 haben\n",
    "# Create search-result data for all columns, and add the MultiIndex.\n",
    "web_data = pd.DataFrame(index = midx,columns = cols)\n"
   ]
  },
  {
   "cell_type": "code",
   "execution_count": 221,
   "metadata": {},
   "outputs": [
    {
     "output_type": "execute_result",
     "data": {
      "text/plain": [
       "(20,)"
      ]
     },
     "metadata": {},
     "execution_count": 221
    }
   ],
   "source": [
    "# sales_arr.shape\n",
    "\n",
    "for book_idx, book in enumerate(sales_arr)\n",
    "    for result_idx, search_result in enumerate(book):\n",
    "        #search_result[0] - search_result[5] sind dann die cols\n",
    "# sales_arr[book_no][result_no]"
   ]
  },
  {
   "cell_type": "code",
   "execution_count": 231,
   "metadata": {},
   "outputs": [
    {
     "output_type": "error",
     "ename": "ValueError",
     "evalue": "Shape of passed values is (20, 1), indices imply (20, 6)",
     "traceback": [
      "\u001b[1;31m---------------------------------------------------------------------------\u001b[0m",
      "\u001b[1;31mValueError\u001b[0m                                Traceback (most recent call last)",
      "\u001b[1;32m~\\anaconda3\\lib\\site-packages\\pandas\\core\\internals\\managers.py\u001b[0m in \u001b[0;36mcreate_block_manager_from_blocks\u001b[1;34m(blocks, axes)\u001b[0m\n\u001b[0;32m   1674\u001b[0m                 blocks = [\n\u001b[1;32m-> 1675\u001b[1;33m                     make_block(\n\u001b[0m\u001b[0;32m   1676\u001b[0m                         \u001b[0mvalues\u001b[0m\u001b[1;33m=\u001b[0m\u001b[0mblocks\u001b[0m\u001b[1;33m[\u001b[0m\u001b[1;36m0\u001b[0m\u001b[1;33m]\u001b[0m\u001b[1;33m,\u001b[0m \u001b[0mplacement\u001b[0m\u001b[1;33m=\u001b[0m\u001b[0mslice\u001b[0m\u001b[1;33m(\u001b[0m\u001b[1;36m0\u001b[0m\u001b[1;33m,\u001b[0m \u001b[0mlen\u001b[0m\u001b[1;33m(\u001b[0m\u001b[0maxes\u001b[0m\u001b[1;33m[\u001b[0m\u001b[1;36m0\u001b[0m\u001b[1;33m]\u001b[0m\u001b[1;33m)\u001b[0m\u001b[1;33m)\u001b[0m\u001b[1;33m,\u001b[0m \u001b[0mndim\u001b[0m\u001b[1;33m=\u001b[0m\u001b[1;36m2\u001b[0m\u001b[1;33m\u001b[0m\u001b[1;33m\u001b[0m\u001b[0m\n",
      "\u001b[1;32m~\\anaconda3\\lib\\site-packages\\pandas\\core\\internals\\blocks.py\u001b[0m in \u001b[0;36mmake_block\u001b[1;34m(values, placement, klass, ndim, dtype)\u001b[0m\n\u001b[0;32m   2731\u001b[0m \u001b[1;33m\u001b[0m\u001b[0m\n\u001b[1;32m-> 2732\u001b[1;33m     \u001b[1;32mreturn\u001b[0m \u001b[0mklass\u001b[0m\u001b[1;33m(\u001b[0m\u001b[0mvalues\u001b[0m\u001b[1;33m,\u001b[0m \u001b[0mndim\u001b[0m\u001b[1;33m=\u001b[0m\u001b[0mndim\u001b[0m\u001b[1;33m,\u001b[0m \u001b[0mplacement\u001b[0m\u001b[1;33m=\u001b[0m\u001b[0mplacement\u001b[0m\u001b[1;33m)\u001b[0m\u001b[1;33m\u001b[0m\u001b[1;33m\u001b[0m\u001b[0m\n\u001b[0m\u001b[0;32m   2733\u001b[0m \u001b[1;33m\u001b[0m\u001b[0m\n",
      "\u001b[1;32m~\\anaconda3\\lib\\site-packages\\pandas\\core\\internals\\blocks.py\u001b[0m in \u001b[0;36m__init__\u001b[1;34m(self, values, placement, ndim)\u001b[0m\n\u001b[0;32m    141\u001b[0m         \u001b[1;32mif\u001b[0m \u001b[0mself\u001b[0m\u001b[1;33m.\u001b[0m\u001b[0m_validate_ndim\u001b[0m \u001b[1;32mand\u001b[0m \u001b[0mself\u001b[0m\u001b[1;33m.\u001b[0m\u001b[0mndim\u001b[0m \u001b[1;32mand\u001b[0m \u001b[0mlen\u001b[0m\u001b[1;33m(\u001b[0m\u001b[0mself\u001b[0m\u001b[1;33m.\u001b[0m\u001b[0mmgr_locs\u001b[0m\u001b[1;33m)\u001b[0m \u001b[1;33m!=\u001b[0m \u001b[0mlen\u001b[0m\u001b[1;33m(\u001b[0m\u001b[0mself\u001b[0m\u001b[1;33m.\u001b[0m\u001b[0mvalues\u001b[0m\u001b[1;33m)\u001b[0m\u001b[1;33m:\u001b[0m\u001b[1;33m\u001b[0m\u001b[1;33m\u001b[0m\u001b[0m\n\u001b[1;32m--> 142\u001b[1;33m             raise ValueError(\n\u001b[0m\u001b[0;32m    143\u001b[0m                 \u001b[1;34mf\"Wrong number of items passed {len(self.values)}, \"\u001b[0m\u001b[1;33m\u001b[0m\u001b[1;33m\u001b[0m\u001b[0m\n",
      "\u001b[1;31mValueError\u001b[0m: Wrong number of items passed 1, placement implies 6",
      "\nDuring handling of the above exception, another exception occurred:\n",
      "\u001b[1;31mValueError\u001b[0m                                Traceback (most recent call last)",
      "\u001b[1;32m<ipython-input-231-aa00ae45eab1>\u001b[0m in \u001b[0;36m<module>\u001b[1;34m\u001b[0m\n\u001b[1;32m----> 1\u001b[1;33m \u001b[0mtest_df\u001b[0m \u001b[1;33m=\u001b[0m \u001b[0mpd\u001b[0m\u001b[1;33m.\u001b[0m\u001b[0mDataFrame\u001b[0m\u001b[1;33m(\u001b[0m\u001b[0msales_arr\u001b[0m\u001b[1;33m,\u001b[0m \u001b[0mindex\u001b[0m\u001b[1;33m=\u001b[0m\u001b[0mids\u001b[0m\u001b[1;33m,\u001b[0m \u001b[0mcolumns\u001b[0m\u001b[1;33m=\u001b[0m\u001b[0mcols\u001b[0m\u001b[1;33m)\u001b[0m\u001b[1;33m\u001b[0m\u001b[1;33m\u001b[0m\u001b[0m\n\u001b[0m",
      "\u001b[1;32m~\\anaconda3\\lib\\site-packages\\pandas\\core\\frame.py\u001b[0m in \u001b[0;36m__init__\u001b[1;34m(self, data, index, columns, dtype, copy)\u001b[0m\n\u001b[0;32m    556\u001b[0m                 \u001b[0mmgr\u001b[0m \u001b[1;33m=\u001b[0m \u001b[0minit_dict\u001b[0m\u001b[1;33m(\u001b[0m\u001b[1;33m{\u001b[0m\u001b[0mdata\u001b[0m\u001b[1;33m.\u001b[0m\u001b[0mname\u001b[0m\u001b[1;33m:\u001b[0m \u001b[0mdata\u001b[0m\u001b[1;33m}\u001b[0m\u001b[1;33m,\u001b[0m \u001b[0mindex\u001b[0m\u001b[1;33m,\u001b[0m \u001b[0mcolumns\u001b[0m\u001b[1;33m,\u001b[0m \u001b[0mdtype\u001b[0m\u001b[1;33m=\u001b[0m\u001b[0mdtype\u001b[0m\u001b[1;33m)\u001b[0m\u001b[1;33m\u001b[0m\u001b[1;33m\u001b[0m\u001b[0m\n\u001b[0;32m    557\u001b[0m             \u001b[1;32melse\u001b[0m\u001b[1;33m:\u001b[0m\u001b[1;33m\u001b[0m\u001b[1;33m\u001b[0m\u001b[0m\n\u001b[1;32m--> 558\u001b[1;33m                 \u001b[0mmgr\u001b[0m \u001b[1;33m=\u001b[0m \u001b[0minit_ndarray\u001b[0m\u001b[1;33m(\u001b[0m\u001b[0mdata\u001b[0m\u001b[1;33m,\u001b[0m \u001b[0mindex\u001b[0m\u001b[1;33m,\u001b[0m \u001b[0mcolumns\u001b[0m\u001b[1;33m,\u001b[0m \u001b[0mdtype\u001b[0m\u001b[1;33m=\u001b[0m\u001b[0mdtype\u001b[0m\u001b[1;33m,\u001b[0m \u001b[0mcopy\u001b[0m\u001b[1;33m=\u001b[0m\u001b[0mcopy\u001b[0m\u001b[1;33m)\u001b[0m\u001b[1;33m\u001b[0m\u001b[1;33m\u001b[0m\u001b[0m\n\u001b[0m\u001b[0;32m    559\u001b[0m \u001b[1;33m\u001b[0m\u001b[0m\n\u001b[0;32m    560\u001b[0m         \u001b[1;31m# For data is list-like, or Iterable (will consume into list)\u001b[0m\u001b[1;33m\u001b[0m\u001b[1;33m\u001b[0m\u001b[1;33m\u001b[0m\u001b[0m\n",
      "\u001b[1;32m~\\anaconda3\\lib\\site-packages\\pandas\\core\\internals\\construction.py\u001b[0m in \u001b[0;36minit_ndarray\u001b[1;34m(values, index, columns, dtype, copy)\u001b[0m\n\u001b[0;32m    236\u001b[0m         \u001b[0mblock_values\u001b[0m \u001b[1;33m=\u001b[0m \u001b[1;33m[\u001b[0m\u001b[0mvalues\u001b[0m\u001b[1;33m]\u001b[0m\u001b[1;33m\u001b[0m\u001b[1;33m\u001b[0m\u001b[0m\n\u001b[0;32m    237\u001b[0m \u001b[1;33m\u001b[0m\u001b[0m\n\u001b[1;32m--> 238\u001b[1;33m     \u001b[1;32mreturn\u001b[0m \u001b[0mcreate_block_manager_from_blocks\u001b[0m\u001b[1;33m(\u001b[0m\u001b[0mblock_values\u001b[0m\u001b[1;33m,\u001b[0m \u001b[1;33m[\u001b[0m\u001b[0mcolumns\u001b[0m\u001b[1;33m,\u001b[0m \u001b[0mindex\u001b[0m\u001b[1;33m]\u001b[0m\u001b[1;33m)\u001b[0m\u001b[1;33m\u001b[0m\u001b[1;33m\u001b[0m\u001b[0m\n\u001b[0m\u001b[0;32m    239\u001b[0m \u001b[1;33m\u001b[0m\u001b[0m\n\u001b[0;32m    240\u001b[0m \u001b[1;33m\u001b[0m\u001b[0m\n",
      "\u001b[1;32m~\\anaconda3\\lib\\site-packages\\pandas\\core\\internals\\managers.py\u001b[0m in \u001b[0;36mcreate_block_manager_from_blocks\u001b[1;34m(blocks, axes)\u001b[0m\n\u001b[0;32m   1685\u001b[0m         \u001b[0mblocks\u001b[0m \u001b[1;33m=\u001b[0m \u001b[1;33m[\u001b[0m\u001b[0mgetattr\u001b[0m\u001b[1;33m(\u001b[0m\u001b[0mb\u001b[0m\u001b[1;33m,\u001b[0m \u001b[1;34m\"values\"\u001b[0m\u001b[1;33m,\u001b[0m \u001b[0mb\u001b[0m\u001b[1;33m)\u001b[0m \u001b[1;32mfor\u001b[0m \u001b[0mb\u001b[0m \u001b[1;32min\u001b[0m \u001b[0mblocks\u001b[0m\u001b[1;33m]\u001b[0m\u001b[1;33m\u001b[0m\u001b[1;33m\u001b[0m\u001b[0m\n\u001b[0;32m   1686\u001b[0m         \u001b[0mtot_items\u001b[0m \u001b[1;33m=\u001b[0m \u001b[0msum\u001b[0m\u001b[1;33m(\u001b[0m\u001b[0mb\u001b[0m\u001b[1;33m.\u001b[0m\u001b[0mshape\u001b[0m\u001b[1;33m[\u001b[0m\u001b[1;36m0\u001b[0m\u001b[1;33m]\u001b[0m \u001b[1;32mfor\u001b[0m \u001b[0mb\u001b[0m \u001b[1;32min\u001b[0m \u001b[0mblocks\u001b[0m\u001b[1;33m)\u001b[0m\u001b[1;33m\u001b[0m\u001b[1;33m\u001b[0m\u001b[0m\n\u001b[1;32m-> 1687\u001b[1;33m         \u001b[1;32mraise\u001b[0m \u001b[0mconstruction_error\u001b[0m\u001b[1;33m(\u001b[0m\u001b[0mtot_items\u001b[0m\u001b[1;33m,\u001b[0m \u001b[0mblocks\u001b[0m\u001b[1;33m[\u001b[0m\u001b[1;36m0\u001b[0m\u001b[1;33m]\u001b[0m\u001b[1;33m.\u001b[0m\u001b[0mshape\u001b[0m\u001b[1;33m[\u001b[0m\u001b[1;36m1\u001b[0m\u001b[1;33m:\u001b[0m\u001b[1;33m]\u001b[0m\u001b[1;33m,\u001b[0m \u001b[0maxes\u001b[0m\u001b[1;33m,\u001b[0m \u001b[0me\u001b[0m\u001b[1;33m)\u001b[0m\u001b[1;33m\u001b[0m\u001b[1;33m\u001b[0m\u001b[0m\n\u001b[0m\u001b[0;32m   1688\u001b[0m \u001b[1;33m\u001b[0m\u001b[0m\n\u001b[0;32m   1689\u001b[0m \u001b[1;33m\u001b[0m\u001b[0m\n",
      "\u001b[1;31mValueError\u001b[0m: Shape of passed values is (20, 1), indices imply (20, 6)"
     ]
    }
   ],
   "source": [
    "test_df = pd.DataFrame(sales_arr, index=ids, columns=cols)"
   ]
  },
  {
   "cell_type": "code",
   "execution_count": 232,
   "metadata": {},
   "outputs": [
    {
     "output_type": "execute_result",
     "data": {
      "text/plain": [
       "(20,)"
      ]
     },
     "metadata": {},
     "execution_count": 232
    }
   ],
   "source": [
    "ids.shape"
   ]
  },
  {
   "cell_type": "code",
   "execution_count": 169,
   "metadata": {},
   "outputs": [
    {
     "output_type": "execute_result",
     "data": {
      "text/plain": [
       "('The Big Picture | On the Origins of Life, Meaning, and the Universe Itself | Sean B. Carroll | Buch | Englisch | 2016',\n",
       " 'Carroll, Sean B.',\n",
       " '22,90',\n",
       " '',\n",
       " 'None',\n",
       " 'https://www.booklooker.de/B%C3%BCcher/Sean-B-Carroll+The-Big-Picture-On-the-Origins-of-Life-Meaning-and-the-Universe-Itself-Sean-B-Carroll/id/A02u5SGv01ZZV')"
      ]
     },
     "metadata": {},
     "execution_count": 169
    }
   ],
   "source": [
    "idx[2]"
   ]
  },
  {
   "cell_type": "code",
   "execution_count": 172,
   "metadata": {},
   "outputs": [],
   "source": [
    "s = pd.Series(np.random.randn(11), index=idx)   #Eintrag wäre der Titel bzw. die BookID und index dann die Einträge.. .naja is ja eigentlich falschrum"
   ]
  },
  {
   "cell_type": "code",
   "execution_count": 176,
   "metadata": {},
   "outputs": [
    {
     "output_type": "execute_result",
     "data": {
      "text/plain": [
       "Title                                                                                                                  Author            Price  VSK  Condition  URL                                                                                                                                                        \n",
       "The Big Picture                                                                                                        Sean Carroll      17,99       None       https://www.booklooker.de/B%C3%BCcher/Sean-Carroll+The-Big-Picture/id/A02u759P01ZZ1                                                                           -1.044089\n",
       "                                                                                                                                         19,95       None       https://www.booklooker.de/B%C3%BCcher/Sean-Carroll+The-Big-Picture/id/A02u5KTL01ZZw                                                                            1.241112\n",
       "The Big Picture | On the Origins of Life, Meaning, and the Universe Itself | Sean B. Carroll | Buch | Englisch | 2016  Carroll, Sean B.  22,90       None       https://www.booklooker.de/B%C3%BCcher/Sean-B-Carroll+The-Big-Picture-On-the-Origins-of-Life-Meaning-and-the-Universe-Itself-Sean-B-Carroll/id/A02u5SGv01ZZV   -2.234904\n",
       "The Big Picture                                                                                                        Sean B. Carroll   23,85       None       https://www.booklooker.de/B%C3%BCcher/Sean-B-Carroll+The-Big-Picture/id/A02u5DLB01ZZz                                                                          1.336839\n",
       "The Big Picture | On the Origins of Life, Meaning, and the Universe Itself | Sean B. Carroll | Buch | Englisch | 2016  Carroll, Sean B.  24,90       None       https://www.booklooker.de/B%C3%BCcher/Sean-B-Carroll+The-Big-Picture-On-the-Origins-of-Life-Meaning-and-the-Universe-Itself-Sean-B-Carroll/id/A02u5R2p01ZZW    1.675144\n",
       "dtype: float64"
      ]
     },
     "metadata": {},
     "execution_count": 176
    }
   ],
   "source": [
    "s.head()"
   ]
  },
  {
   "source": [
    "ggf die shape umkehren? N Einträge (rows) mit je 6 Spalten und zu jeder Spalte dann ne Variable Liste von Einträgen?"
   ],
   "cell_type": "markdown",
   "metadata": {}
  },
  {
   "cell_type": "code",
   "execution_count": 177,
   "metadata": {},
   "outputs": [],
   "source": [
    "np.random.seed(1618033)\n",
    "\n",
    "#Set 3 axis labels/dims\n",
    "years = np.arange(2000,2010) #Years \n",
    "samples = np.arange(0,20) #Samples\n",
    "patients = np.array([\"patient_%d\" % i for i in range(0,3)]) #Patients\n",
    "\n",
    "#Create random 3D array to simulate data from dims above\n",
    "A_3D = np.random.random((years.size, samples.size, len(patients))) #(10, 20, 3)\n",
    "\n",
    "# Create the MultiIndex from years, samples and patients.\n",
    "midx = pd.MultiIndex.from_product([years, samples, patients])\n",
    "\n",
    "# Create sample data for each patient, and add the MultiIndex.\n",
    "patient_data = pd.DataFrame(np.random.randn(len(midx), 3), index = midx)\n"
   ]
  },
  {
   "source": [
    "years ^= BookID\n",
    "Sample ^= Suchergebnisse (z.B. max 10)\n"
   ],
   "cell_type": "markdown",
   "metadata": {}
  },
  {
   "cell_type": "code",
   "execution_count": null,
   "metadata": {},
   "outputs": [],
   "source": []
  },
  {
   "cell_type": "code",
   "execution_count": 179,
   "metadata": {},
   "outputs": [
    {
     "output_type": "execute_result",
     "data": {
      "text/plain": [
       "                         0         1         2\n",
       "2000 0 patient_0  0.733891 -1.081459  1.344767\n",
       "       patient_1  0.183899  0.367003 -1.043212\n",
       "       patient_2 -0.233493  0.424136  0.035358\n",
       "     1 patient_0  1.764374  3.095941  1.680118\n",
       "       patient_1 -0.146588  1.167771  0.218991"
      ],
      "text/html": "<div>\n<style scoped>\n    .dataframe tbody tr th:only-of-type {\n        vertical-align: middle;\n    }\n\n    .dataframe tbody tr th {\n        vertical-align: top;\n    }\n\n    .dataframe thead th {\n        text-align: right;\n    }\n</style>\n<table border=\"1\" class=\"dataframe\">\n  <thead>\n    <tr style=\"text-align: right;\">\n      <th></th>\n      <th></th>\n      <th></th>\n      <th>0</th>\n      <th>1</th>\n      <th>2</th>\n    </tr>\n  </thead>\n  <tbody>\n    <tr>\n      <th rowspan=\"5\" valign=\"top\">2000</th>\n      <th rowspan=\"3\" valign=\"top\">0</th>\n      <th>patient_0</th>\n      <td>0.733891</td>\n      <td>-1.081459</td>\n      <td>1.344767</td>\n    </tr>\n    <tr>\n      <th>patient_1</th>\n      <td>0.183899</td>\n      <td>0.367003</td>\n      <td>-1.043212</td>\n    </tr>\n    <tr>\n      <th>patient_2</th>\n      <td>-0.233493</td>\n      <td>0.424136</td>\n      <td>0.035358</td>\n    </tr>\n    <tr>\n      <th rowspan=\"2\" valign=\"top\">1</th>\n      <th>patient_0</th>\n      <td>1.764374</td>\n      <td>3.095941</td>\n      <td>1.680118</td>\n    </tr>\n    <tr>\n      <th>patient_1</th>\n      <td>-0.146588</td>\n      <td>1.167771</td>\n      <td>0.218991</td>\n    </tr>\n  </tbody>\n</table>\n</div>"
     },
     "metadata": {},
     "execution_count": 179
    }
   ],
   "source": [
    "patient_data.head()"
   ]
  },
  {
   "cell_type": "code",
   "execution_count": 180,
   "metadata": {},
   "outputs": [
    {
     "output_type": "execute_result",
     "data": {
      "text/plain": [
       "                    0                                                    \\\n",
       "                 2000      2001      2002      2003      2004      2005   \n",
       "0 patient_0  0.733891  0.313232 -0.383357  1.750069 -1.055323  0.038683   \n",
       "  patient_1  0.183899  0.130183 -2.402050 -0.195703 -1.295543  0.179823   \n",
       "  patient_2 -0.233493  1.069902 -0.414003 -0.331743 -0.148233 -0.816054   \n",
       "1 patient_0  1.764374  0.706257 -0.141564  1.134810  1.412329  0.094802   \n",
       "  patient_1 -0.146588 -0.396285 -0.050046  0.492005  0.078164 -2.426065   \n",
       "\n",
       "                                                     ...         2            \\\n",
       "                 2006      2007      2008      2009  ...      2000      2001   \n",
       "0 patient_0 -0.795319  0.866563 -0.072328 -0.761547  ...  1.344767  0.639748   \n",
       "  patient_1 -0.256294 -0.138591  0.401505  0.941614  ... -1.043212  1.291971   \n",
       "  patient_2 -1.169933  0.485801  0.506001  0.994103  ...  0.035358  0.711121   \n",
       "1 patient_0 -0.129987 -0.721118 -1.105769 -0.387461  ...  1.680118 -0.215912   \n",
       "  patient_1  1.710801  0.130949  1.059029  0.570667  ...  0.218991 -0.352376   \n",
       "\n",
       "                                                                         \\\n",
       "                 2002      2003      2004      2005      2006      2007   \n",
       "0 patient_0  0.452344  0.745117 -1.557094 -0.809781 -0.506905 -0.871313   \n",
       "  patient_1  0.581809 -0.239743 -0.295652  0.743647 -0.777149 -1.168015   \n",
       "  patient_2  1.532766  0.785486 -0.347170 -1.143815 -1.146629 -0.393508   \n",
       "1 patient_0 -0.881041  0.003546  0.718917 -0.101255  0.613290  0.870485   \n",
       "  patient_1 -0.082334  0.033250  0.261488  0.808276  1.909453 -0.560593   \n",
       "\n",
       "                                 \n",
       "                 2008      2009  \n",
       "0 patient_0  1.425371 -0.589768  \n",
       "  patient_1  0.503152 -0.060225  \n",
       "  patient_2 -0.648646 -0.614766  \n",
       "1 patient_0 -0.871202 -0.883699  \n",
       "  patient_1  0.647894 -0.454246  \n",
       "\n",
       "[5 rows x 30 columns]"
      ],
      "text/html": "<div>\n<style scoped>\n    .dataframe tbody tr th:only-of-type {\n        vertical-align: middle;\n    }\n\n    .dataframe tbody tr th {\n        vertical-align: top;\n    }\n\n    .dataframe thead tr th {\n        text-align: left;\n    }\n</style>\n<table border=\"1\" class=\"dataframe\">\n  <thead>\n    <tr>\n      <th></th>\n      <th></th>\n      <th colspan=\"10\" halign=\"left\">0</th>\n      <th>...</th>\n      <th colspan=\"10\" halign=\"left\">2</th>\n    </tr>\n    <tr>\n      <th></th>\n      <th></th>\n      <th>2000</th>\n      <th>2001</th>\n      <th>2002</th>\n      <th>2003</th>\n      <th>2004</th>\n      <th>2005</th>\n      <th>2006</th>\n      <th>2007</th>\n      <th>2008</th>\n      <th>2009</th>\n      <th>...</th>\n      <th>2000</th>\n      <th>2001</th>\n      <th>2002</th>\n      <th>2003</th>\n      <th>2004</th>\n      <th>2005</th>\n      <th>2006</th>\n      <th>2007</th>\n      <th>2008</th>\n      <th>2009</th>\n    </tr>\n  </thead>\n  <tbody>\n    <tr>\n      <th rowspan=\"3\" valign=\"top\">0</th>\n      <th>patient_0</th>\n      <td>0.733891</td>\n      <td>0.313232</td>\n      <td>-0.383357</td>\n      <td>1.750069</td>\n      <td>-1.055323</td>\n      <td>0.038683</td>\n      <td>-0.795319</td>\n      <td>0.866563</td>\n      <td>-0.072328</td>\n      <td>-0.761547</td>\n      <td>...</td>\n      <td>1.344767</td>\n      <td>0.639748</td>\n      <td>0.452344</td>\n      <td>0.745117</td>\n      <td>-1.557094</td>\n      <td>-0.809781</td>\n      <td>-0.506905</td>\n      <td>-0.871313</td>\n      <td>1.425371</td>\n      <td>-0.589768</td>\n    </tr>\n    <tr>\n      <th>patient_1</th>\n      <td>0.183899</td>\n      <td>0.130183</td>\n      <td>-2.402050</td>\n      <td>-0.195703</td>\n      <td>-1.295543</td>\n      <td>0.179823</td>\n      <td>-0.256294</td>\n      <td>-0.138591</td>\n      <td>0.401505</td>\n      <td>0.941614</td>\n      <td>...</td>\n      <td>-1.043212</td>\n      <td>1.291971</td>\n      <td>0.581809</td>\n      <td>-0.239743</td>\n      <td>-0.295652</td>\n      <td>0.743647</td>\n      <td>-0.777149</td>\n      <td>-1.168015</td>\n      <td>0.503152</td>\n      <td>-0.060225</td>\n    </tr>\n    <tr>\n      <th>patient_2</th>\n      <td>-0.233493</td>\n      <td>1.069902</td>\n      <td>-0.414003</td>\n      <td>-0.331743</td>\n      <td>-0.148233</td>\n      <td>-0.816054</td>\n      <td>-1.169933</td>\n      <td>0.485801</td>\n      <td>0.506001</td>\n      <td>0.994103</td>\n      <td>...</td>\n      <td>0.035358</td>\n      <td>0.711121</td>\n      <td>1.532766</td>\n      <td>0.785486</td>\n      <td>-0.347170</td>\n      <td>-1.143815</td>\n      <td>-1.146629</td>\n      <td>-0.393508</td>\n      <td>-0.648646</td>\n      <td>-0.614766</td>\n    </tr>\n    <tr>\n      <th rowspan=\"2\" valign=\"top\">1</th>\n      <th>patient_0</th>\n      <td>1.764374</td>\n      <td>0.706257</td>\n      <td>-0.141564</td>\n      <td>1.134810</td>\n      <td>1.412329</td>\n      <td>0.094802</td>\n      <td>-0.129987</td>\n      <td>-0.721118</td>\n      <td>-1.105769</td>\n      <td>-0.387461</td>\n      <td>...</td>\n      <td>1.680118</td>\n      <td>-0.215912</td>\n      <td>-0.881041</td>\n      <td>0.003546</td>\n      <td>0.718917</td>\n      <td>-0.101255</td>\n      <td>0.613290</td>\n      <td>0.870485</td>\n      <td>-0.871202</td>\n      <td>-0.883699</td>\n    </tr>\n    <tr>\n      <th>patient_1</th>\n      <td>-0.146588</td>\n      <td>-0.396285</td>\n      <td>-0.050046</td>\n      <td>0.492005</td>\n      <td>0.078164</td>\n      <td>-2.426065</td>\n      <td>1.710801</td>\n      <td>0.130949</td>\n      <td>1.059029</td>\n      <td>0.570667</td>\n      <td>...</td>\n      <td>0.218991</td>\n      <td>-0.352376</td>\n      <td>-0.082334</td>\n      <td>0.033250</td>\n      <td>0.261488</td>\n      <td>0.808276</td>\n      <td>1.909453</td>\n      <td>-0.560593</td>\n      <td>0.647894</td>\n      <td>-0.454246</td>\n    </tr>\n  </tbody>\n</table>\n<p>5 rows × 30 columns</p>\n</div>"
     },
     "metadata": {},
     "execution_count": 180
    }
   ],
   "source": [
    "patient_data.unstack(level=0).head()  # Years.\n"
   ]
  },
  {
   "source": [
    "awesome, this part essentially makes it 4D np.random.randn(len(midx), 3)! The unstacking order gets a little confusing on how the index is formed #level=0: index = (sample,patient); col = (data,year) #level=1: index = (year,patient); col = (data,sample) #level=2: index = (year,sample); col = (data, patient) – O.rka Apr 21 '16 at 7:38\n"
   ],
   "cell_type": "markdown",
   "metadata": {}
  },
  {
   "source": [
    "### Variante 2"
   ],
   "cell_type": "markdown",
   "metadata": {}
  },
  {
   "cell_type": "code",
   "execution_count": 181,
   "metadata": {},
   "outputs": [
    {
     "output_type": "execute_result",
     "data": {
      "text/plain": [
       "        patient_0  patient_1  patient_2\n",
       "2000 0   0.238845   0.948436   0.954822\n",
       "     1   0.343249   0.028403   0.402137\n",
       "     2   0.497765   0.316694   0.589415\n",
       "     3   0.792957   0.407125   0.660466\n",
       "     4   0.124491   0.403153   0.097867"
      ],
      "text/html": "<div>\n<style scoped>\n    .dataframe tbody tr th:only-of-type {\n        vertical-align: middle;\n    }\n\n    .dataframe tbody tr th {\n        vertical-align: top;\n    }\n\n    .dataframe thead th {\n        text-align: right;\n    }\n</style>\n<table border=\"1\" class=\"dataframe\">\n  <thead>\n    <tr style=\"text-align: right;\">\n      <th></th>\n      <th></th>\n      <th>patient_0</th>\n      <th>patient_1</th>\n      <th>patient_2</th>\n    </tr>\n  </thead>\n  <tbody>\n    <tr>\n      <th rowspan=\"5\" valign=\"top\">2000</th>\n      <th>0</th>\n      <td>0.238845</td>\n      <td>0.948436</td>\n      <td>0.954822</td>\n    </tr>\n    <tr>\n      <th>1</th>\n      <td>0.343249</td>\n      <td>0.028403</td>\n      <td>0.402137</td>\n    </tr>\n    <tr>\n      <th>2</th>\n      <td>0.497765</td>\n      <td>0.316694</td>\n      <td>0.589415</td>\n    </tr>\n    <tr>\n      <th>3</th>\n      <td>0.792957</td>\n      <td>0.407125</td>\n      <td>0.660466</td>\n    </tr>\n    <tr>\n      <th>4</th>\n      <td>0.124491</td>\n      <td>0.403153</td>\n      <td>0.097867</td>\n    </tr>\n  </tbody>\n</table>\n</div>"
     },
     "metadata": {},
     "execution_count": 181
    }
   ],
   "source": [
    "#Set 3 axis labels/dims\n",
    "years = np.arange(2000,2010) #Years\n",
    "samples = np.arange(0,20) #Samples\n",
    "patients = np.array([\"patient_%d\" % i for i in range(0,3)]) #Patients\n",
    "\n",
    "#Create random 3D array to simulate data from dims above\n",
    "A_3D = np.random.random((years.size, samples.size, len(patients))) #(10, 20, 3)\n",
    "\n",
    "# Reshape data to 2 dimensions\n",
    "maj_dim = 1\n",
    "for dim in A_3D.shape[:-1]:\n",
    "    maj_dim = maj_dim*dim\n",
    "new_dims = (maj_dim, A_3D.shape[-1])\n",
    "A_3D = A_3D.reshape(new_dims)\n",
    "\n",
    "# Create the MultiIndex from years, samples and patients.\n",
    "midx = pd.MultiIndex.from_product([years, samples])\n",
    "# Note that Cartesian product order is the same as the \n",
    "# C-order used by default in ``reshape``.\n",
    "\n",
    "# Create sample data for each patient, and add the MultiIndex.\n",
    "patient_data = pd.DataFrame(data = A_3D, \n",
    "                            index = midx,\n",
    "                            columns = patients)\n",
    "\n",
    "patient_data.head()"
   ]
  },
  {
   "cell_type": "code",
   "execution_count": null,
   "metadata": {},
   "outputs": [],
   "source": [
    "#Set 3 axis labels/dims\n",
    "years = BOOKIDS\n",
    "samples = RESULTS\n",
    "patients = SPALTEN\n",
    "\n",
    "#Create random 3D array to simulate data from dims above\n",
    "A_3D = np.random.random((years.size, samples.size, len(patients))) #(10, 20, 3)\n",
    "\n",
    "# Reshape data to 2 dimensions\n",
    "maj_dim = 1\n",
    "for dim in A_3D.shape[:-1]:\n",
    "    maj_dim = maj_dim*dim\n",
    "new_dims = (maj_dim, A_3D.shape[-1])\n",
    "A_3D = A_3D.reshape(new_dims)\n",
    "\n",
    "# Create the MultiIndex from years, samples and patients.\n",
    "midx = pd.MultiIndex.from_product([years, samples])\n",
    "# Note that Cartesian product order is the same as the \n",
    "# C-order used by default in ``reshape``.\n",
    "\n",
    "# Create sample data for each patient, and add the MultiIndex.\n",
    "patient_data = pd.DataFrame(data = A_3D, \n",
    "                            index = midx,\n",
    "                            columns = patients)\n",
    "\n",
    "patient_data.head()"
   ]
  }
 ]
}