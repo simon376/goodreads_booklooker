{
 "metadata": {
  "language_info": {
   "codemirror_mode": {
    "name": "ipython",
    "version": 3
   },
   "file_extension": ".py",
   "mimetype": "text/x-python",
   "name": "python",
   "nbconvert_exporter": "python",
   "pygments_lexer": "ipython3",
   "version": "3.8.3-final"
  },
  "orig_nbformat": 2,
  "kernelspec": {
   "name": "python3",
   "display_name": "Python 3.8.3 64-bit (conda)",
   "metadata": {
    "interpreter": {
     "hash": "fe1610ab63cd726e91a61fe78ce1a475aa9ae83ac6caa7ceb5c58c9a3dff1027"
    }
   }
  }
 },
 "nbformat": 4,
 "nbformat_minor": 2,
 "cells": [
  {
   "source": [
    "# gebrauchte Bücher aus Goodreads to-read liste suchen"
   ],
   "cell_type": "markdown",
   "metadata": {}
  },
  {
   "cell_type": "code",
   "execution_count": 1,
   "metadata": {},
   "outputs": [],
   "source": [
    "import numpy as np\n",
    "import csv\n",
    "import os\n",
    "import datetime as dt\n",
    "from matplotlib import pyplot as plt\n",
    "import pandas as pd\n",
    "from bs4 import BeautifulSoup\n",
    "import requests\n",
    "from tqdm.notebook import tqdm\n",
    "tqdm.pandas()"
   ]
  },
  {
   "cell_type": "code",
   "execution_count": 2,
   "metadata": {},
   "outputs": [
    {
     "output_type": "stream",
     "name": "stdout",
     "text": [
      "2021-03-18\n"
     ]
    }
   ],
   "source": [
    "TOTAL_NUMBER = 300  # max number of books to search on Booklooker\n",
    "START_DATE = pd.Timestamp('2010-01-01') # Books added to to-read shelf after this date will be considered\n",
    "DATE = str(dt.datetime.today().date()) # in- and output datestamp\n",
    "print(DATE)"
   ]
  },
  {
   "source": [
    "# WIP\n",
    "## goodreads export csv"
   ],
   "cell_type": "markdown",
   "metadata": {}
  },
  {
   "cell_type": "code",
   "execution_count": 16,
   "metadata": {},
   "outputs": [],
   "source": [
    "# #Simple assignment\n",
    "# from selenium.webdriver import Edge\n",
    "\n",
    "# driver = Edge()\n",
    "# #Or use the context manager\n",
    "# from selenium.webdriver import Edge\n",
    "\n",
    "# with Edge() as driver:\n",
    "#    #your code inside this indent\n",
    "#    pass\n"
   ]
  },
  {
   "source": [
    "## goodreads CSV-Datei parsen"
   ],
   "cell_type": "markdown",
   "metadata": {}
  },
  {
   "cell_type": "code",
   "execution_count": 61,
   "metadata": {},
   "outputs": [
    {
     "output_type": "execute_result",
     "data": {
      "text/plain": [
       "                               Title                         \\\n",
       "Book Id                                                       \n",
       "18721991                     Doctor Sleep (The Shining, #2)   \n",
       "28186015  Weapons of Math Destruction: How Big Data Incr...   \n",
       "55848259                                 Komplett Gänsehaut   \n",
       "52275335  How to Avoid a Climate Disaster: The Solutions...   \n",
       "29780253  Born a Crime: Stories From a South African Chi...   \n",
       "42242793                   Kurze Antworten auf große Fragen   \n",
       "44492285                 Dune Messiah (Dune Chronicles, #2)   \n",
       "44512537          Growth: From Microorganisms to Megacities   \n",
       "4070074            Sustainable Energy - Without the Hot Air   \n",
       "56859211  Zahlen sind Waffen.  Gespräche über die Zukunf...   \n",
       "\n",
       "               Author            Author l-f     Additional Authors  \\\n",
       "Book Id                                                              \n",
       "18721991       Stephen King       King, Stephen             NaN      \n",
       "28186015       Cathy O'Neil       O'Neil, Cathy             NaN      \n",
       "55848259    Sophie Passmann    Passmann, Sophie             NaN      \n",
       "52275335        Bill  Gates         Gates, Bill             NaN      \n",
       "29780253        Trevor Noah        Noah, Trevor             NaN      \n",
       "42242793    Stephen Hawking    Hawking, Stephen    Hainer Kober      \n",
       "44492285      Frank Herbert      Herbert, Frank             NaN      \n",
       "44512537        Vaclav Smil        Smil, Vaclav             NaN      \n",
       "4070074   David J.C. MacKay  MacKay, David J.C.             NaN      \n",
       "56859211       Sibylle Berg       Berg, Sibylle    Dietmar Dath      \n",
       "\n",
       "              ISBN            ISBN13       My Rating  Average Rating  \\\n",
       "Book Id                                                                \n",
       "18721991  =\"3453268555\"  =\"9783453268555\"      0           4.11        \n",
       "28186015  =\"0553418815\"  =\"9780553418811\"      0           3.88        \n",
       "55848259            =\"\"  =\"9783462053616\"      0           3.73        \n",
       "52275335  =\"0241448301\"  =\"9780241448304\"      3           4.21        \n",
       "29780253  =\"0385689225\"  =\"9780385689229\"      5           4.46        \n",
       "42242793            =\"\"               =\"\"      4           4.30        \n",
       "44492285  =\"0593098234\"  =\"9780593098233\"      3           3.89        \n",
       "44512537  =\"0262042835\"  =\"9780262042833\"      0           3.90        \n",
       "4070074   =\"0954452933\"  =\"9780954452933\"      0           4.40        \n",
       "56859211  =\"9783751805\"               =\"\"      0           3.29        \n",
       "\n",
       "              Publisher          Binding      ...  Private Notes Read Count  \\\n",
       "Book Id                                       ...                             \n",
       "18721991               Heyne       Hardcover  ...   ca. S. 370        0       \n",
       "28186015               Crown       Hardcover  ...          NaN        0       \n",
       "55848259  Kiepenheuer&Witsch       Hardcover  ...          NaN        1       \n",
       "52275335          Allen Lane       Hardcover  ...          NaN        1       \n",
       "29780253    Doubleday Canada       Hardcover  ...          NaN        1       \n",
       "42242793         Klett-Cotta  Kindle Edition  ...          NaN        1       \n",
       "44492285           Ace Books       Paperback  ...          NaN        1       \n",
       "44512537       The MIT Press       Hardcover  ...          NaN        0       \n",
       "4070074   UIT Cambridge Ltd.       Paperback  ...          NaN        0       \n",
       "56859211    Matthes & Seitz        Paperback  ...          NaN        0       \n",
       "\n",
       "         Recommended For Recommended By Owned Copies Original Purchase Date  \\\n",
       "Book Id                                                                       \n",
       "18721991       NaN            NaN             0               NaN             \n",
       "28186015       NaN            NaN             0               NaN             \n",
       "55848259       NaN            NaN             0               NaN             \n",
       "52275335       NaN            NaN             0               NaN             \n",
       "29780253       NaN            NaN             0               NaN             \n",
       "42242793       NaN            NaN             0               NaN             \n",
       "44492285       NaN            NaN             0               NaN             \n",
       "44512537       NaN            NaN             0               NaN             \n",
       "4070074        NaN            NaN             0               NaN             \n",
       "56859211       NaN            NaN             0               NaN             \n",
       "\n",
       "         Original Purchase Location Condition Condition Description BCID  \n",
       "Book Id                                                                   \n",
       "18721991            NaN                 NaN            NaN          NaN   \n",
       "28186015            NaN                 NaN            NaN          NaN   \n",
       "55848259            NaN                 NaN            NaN          NaN   \n",
       "52275335            NaN                 NaN            NaN          NaN   \n",
       "29780253            NaN                 NaN            NaN          NaN   \n",
       "42242793            NaN                 NaN            NaN          NaN   \n",
       "44492285            NaN                 NaN            NaN          NaN   \n",
       "44512537            NaN                 NaN            NaN          NaN   \n",
       "4070074             NaN                 NaN            NaN          NaN   \n",
       "56859211            NaN                 NaN            NaN          NaN   \n",
       "\n",
       "[10 rows x 30 columns]"
      ],
      "text/html": "<div>\n<style scoped>\n    .dataframe tbody tr th:only-of-type {\n        vertical-align: middle;\n    }\n\n    .dataframe tbody tr th {\n        vertical-align: top;\n    }\n\n    .dataframe thead th {\n        text-align: right;\n    }\n</style>\n<table border=\"1\" class=\"dataframe\">\n  <thead>\n    <tr style=\"text-align: center;\">\n      <th></th>\n      <th>Title</th>\n      <th>Author</th>\n      <th>Author l-f</th>\n      <th>Additional Authors</th>\n      <th>ISBN</th>\n      <th>ISBN13</th>\n      <th>My Rating</th>\n      <th>Average Rating</th>\n      <th>Publisher</th>\n      <th>Binding</th>\n      <th>...</th>\n      <th>Private Notes</th>\n      <th>Read Count</th>\n      <th>Recommended For</th>\n      <th>Recommended By</th>\n      <th>Owned Copies</th>\n      <th>Original Purchase Date</th>\n      <th>Original Purchase Location</th>\n      <th>Condition</th>\n      <th>Condition Description</th>\n      <th>BCID</th>\n    </tr>\n    <tr>\n      <th>Book Id</th>\n      <th></th>\n      <th></th>\n      <th></th>\n      <th></th>\n      <th></th>\n      <th></th>\n      <th></th>\n      <th></th>\n      <th></th>\n      <th></th>\n      <th></th>\n      <th></th>\n      <th></th>\n      <th></th>\n      <th></th>\n      <th></th>\n      <th></th>\n      <th></th>\n      <th></th>\n      <th></th>\n      <th></th>\n    </tr>\n  </thead>\n  <tbody>\n    <tr>\n      <th>18721991</th>\n      <td>Doctor Sleep (The Shining, #2)</td>\n      <td>Stephen King</td>\n      <td>King, Stephen</td>\n      <td>NaN</td>\n      <td>=\"3453268555\"</td>\n      <td>=\"9783453268555\"</td>\n      <td>0</td>\n      <td>4.11</td>\n      <td>Heyne</td>\n      <td>Hardcover</td>\n      <td>...</td>\n      <td>ca. S. 370</td>\n      <td>0</td>\n      <td>NaN</td>\n      <td>NaN</td>\n      <td>0</td>\n      <td>NaN</td>\n      <td>NaN</td>\n      <td>NaN</td>\n      <td>NaN</td>\n      <td>NaN</td>\n    </tr>\n    <tr>\n      <th>28186015</th>\n      <td>Weapons of Math Destruction: How Big Data Incr...</td>\n      <td>Cathy O'Neil</td>\n      <td>O'Neil, Cathy</td>\n      <td>NaN</td>\n      <td>=\"0553418815\"</td>\n      <td>=\"9780553418811\"</td>\n      <td>0</td>\n      <td>3.88</td>\n      <td>Crown</td>\n      <td>Hardcover</td>\n      <td>...</td>\n      <td>NaN</td>\n      <td>0</td>\n      <td>NaN</td>\n      <td>NaN</td>\n      <td>0</td>\n      <td>NaN</td>\n      <td>NaN</td>\n      <td>NaN</td>\n      <td>NaN</td>\n      <td>NaN</td>\n    </tr>\n    <tr>\n      <th>55848259</th>\n      <td>Komplett Gänsehaut</td>\n      <td>Sophie Passmann</td>\n      <td>Passmann, Sophie</td>\n      <td>NaN</td>\n      <td>=\"\"</td>\n      <td>=\"9783462053616\"</td>\n      <td>0</td>\n      <td>3.73</td>\n      <td>Kiepenheuer&amp;Witsch</td>\n      <td>Hardcover</td>\n      <td>...</td>\n      <td>NaN</td>\n      <td>1</td>\n      <td>NaN</td>\n      <td>NaN</td>\n      <td>0</td>\n      <td>NaN</td>\n      <td>NaN</td>\n      <td>NaN</td>\n      <td>NaN</td>\n      <td>NaN</td>\n    </tr>\n    <tr>\n      <th>52275335</th>\n      <td>How to Avoid a Climate Disaster: The Solutions...</td>\n      <td>Bill  Gates</td>\n      <td>Gates, Bill</td>\n      <td>NaN</td>\n      <td>=\"0241448301\"</td>\n      <td>=\"9780241448304\"</td>\n      <td>3</td>\n      <td>4.21</td>\n      <td>Allen Lane</td>\n      <td>Hardcover</td>\n      <td>...</td>\n      <td>NaN</td>\n      <td>1</td>\n      <td>NaN</td>\n      <td>NaN</td>\n      <td>0</td>\n      <td>NaN</td>\n      <td>NaN</td>\n      <td>NaN</td>\n      <td>NaN</td>\n      <td>NaN</td>\n    </tr>\n    <tr>\n      <th>29780253</th>\n      <td>Born a Crime: Stories From a South African Chi...</td>\n      <td>Trevor Noah</td>\n      <td>Noah, Trevor</td>\n      <td>NaN</td>\n      <td>=\"0385689225\"</td>\n      <td>=\"9780385689229\"</td>\n      <td>5</td>\n      <td>4.46</td>\n      <td>Doubleday Canada</td>\n      <td>Hardcover</td>\n      <td>...</td>\n      <td>NaN</td>\n      <td>1</td>\n      <td>NaN</td>\n      <td>NaN</td>\n      <td>0</td>\n      <td>NaN</td>\n      <td>NaN</td>\n      <td>NaN</td>\n      <td>NaN</td>\n      <td>NaN</td>\n    </tr>\n    <tr>\n      <th>42242793</th>\n      <td>Kurze Antworten auf große Fragen</td>\n      <td>Stephen Hawking</td>\n      <td>Hawking, Stephen</td>\n      <td>Hainer Kober</td>\n      <td>=\"\"</td>\n      <td>=\"\"</td>\n      <td>4</td>\n      <td>4.30</td>\n      <td>Klett-Cotta</td>\n      <td>Kindle Edition</td>\n      <td>...</td>\n      <td>NaN</td>\n      <td>1</td>\n      <td>NaN</td>\n      <td>NaN</td>\n      <td>0</td>\n      <td>NaN</td>\n      <td>NaN</td>\n      <td>NaN</td>\n      <td>NaN</td>\n      <td>NaN</td>\n    </tr>\n    <tr>\n      <th>44492285</th>\n      <td>Dune Messiah (Dune Chronicles, #2)</td>\n      <td>Frank Herbert</td>\n      <td>Herbert, Frank</td>\n      <td>NaN</td>\n      <td>=\"0593098234\"</td>\n      <td>=\"9780593098233\"</td>\n      <td>3</td>\n      <td>3.89</td>\n      <td>Ace Books</td>\n      <td>Paperback</td>\n      <td>...</td>\n      <td>NaN</td>\n      <td>1</td>\n      <td>NaN</td>\n      <td>NaN</td>\n      <td>0</td>\n      <td>NaN</td>\n      <td>NaN</td>\n      <td>NaN</td>\n      <td>NaN</td>\n      <td>NaN</td>\n    </tr>\n    <tr>\n      <th>44512537</th>\n      <td>Growth: From Microorganisms to Megacities</td>\n      <td>Vaclav Smil</td>\n      <td>Smil, Vaclav</td>\n      <td>NaN</td>\n      <td>=\"0262042835\"</td>\n      <td>=\"9780262042833\"</td>\n      <td>0</td>\n      <td>3.90</td>\n      <td>The MIT Press</td>\n      <td>Hardcover</td>\n      <td>...</td>\n      <td>NaN</td>\n      <td>0</td>\n      <td>NaN</td>\n      <td>NaN</td>\n      <td>0</td>\n      <td>NaN</td>\n      <td>NaN</td>\n      <td>NaN</td>\n      <td>NaN</td>\n      <td>NaN</td>\n    </tr>\n    <tr>\n      <th>4070074</th>\n      <td>Sustainable Energy - Without the Hot Air</td>\n      <td>David J.C. MacKay</td>\n      <td>MacKay, David J.C.</td>\n      <td>NaN</td>\n      <td>=\"0954452933\"</td>\n      <td>=\"9780954452933\"</td>\n      <td>0</td>\n      <td>4.40</td>\n      <td>UIT Cambridge Ltd.</td>\n      <td>Paperback</td>\n      <td>...</td>\n      <td>NaN</td>\n      <td>0</td>\n      <td>NaN</td>\n      <td>NaN</td>\n      <td>0</td>\n      <td>NaN</td>\n      <td>NaN</td>\n      <td>NaN</td>\n      <td>NaN</td>\n      <td>NaN</td>\n    </tr>\n    <tr>\n      <th>56859211</th>\n      <td>Zahlen sind Waffen.  Gespräche über die Zukunf...</td>\n      <td>Sibylle Berg</td>\n      <td>Berg, Sibylle</td>\n      <td>Dietmar Dath</td>\n      <td>=\"9783751805\"</td>\n      <td>=\"\"</td>\n      <td>0</td>\n      <td>3.29</td>\n      <td>Matthes &amp; Seitz</td>\n      <td>Paperback</td>\n      <td>...</td>\n      <td>NaN</td>\n      <td>0</td>\n      <td>NaN</td>\n      <td>NaN</td>\n      <td>0</td>\n      <td>NaN</td>\n      <td>NaN</td>\n      <td>NaN</td>\n      <td>NaN</td>\n      <td>NaN</td>\n    </tr>\n  </tbody>\n</table>\n<p>10 rows × 30 columns</p>\n</div>"
     },
     "metadata": {},
     "execution_count": 61
    }
   ],
   "source": [
    "csv_path = os.path.join(os.getcwd(), f'goodreads_library_export_{DATE}.csv')\n",
    "\n",
    "df = pd.read_csv(csv_path, index_col='Book Id',\n",
    "dtype={\"Title\": str, \"Author\": str, \"Author l-f\": str, \"Additional Authors\": str, \"ISBN\":str,\"ISBN-13\":str, \"Publisher\": str, \"Binding\": str, 'Bookshelves': 'category', 'Exclusive Shelf': 'category', },\n",
    "parse_dates=[\"Original Publication Year\", 'Date Read', 'Date Added', \"Year Published\"])\n",
    "df.head(10)"
   ]
  },
  {
   "cell_type": "code",
   "execution_count": 5,
   "metadata": {},
   "outputs": [
    {
     "output_type": "execute_result",
     "data": {
      "text/plain": [
       "(376, 30)"
      ]
     },
     "metadata": {},
     "execution_count": 5
    }
   ],
   "source": [
    "df.shape"
   ]
  },
  {
   "cell_type": "code",
   "execution_count": 6,
   "metadata": {},
   "outputs": [
    {
     "output_type": "execute_result",
     "data": {
      "text/plain": [
       "                                                      Title           Author  \\\n",
       "Book Id                                                                        \n",
       "18721991                     Doctor Sleep (The Shining, #2)     Stephen King   \n",
       "28186015  Weapons of Math Destruction: How Big Data Incr...     Cathy O'Neil   \n",
       "55848259                                 Komplett Gänsehaut  Sophie Passmann   \n",
       "52275335  How to Avoid a Climate Disaster: The Solutions...      Bill  Gates   \n",
       "29780253  Born a Crime: Stories From a South African Chi...      Trevor Noah   \n",
       "\n",
       "                Author l-f Additional Authors        ISBN         ISBN13  \\\n",
       "Book Id                                                                    \n",
       "18721991     King, Stephen                NaN  3453268555  9783453268555   \n",
       "28186015     O'Neil, Cathy                NaN  0553418815  9780553418811   \n",
       "55848259  Passmann, Sophie                NaN              9783462053616   \n",
       "52275335       Gates, Bill                NaN  0241448301  9780241448304   \n",
       "29780253      Noah, Trevor                NaN  0385689225  9780385689229   \n",
       "\n",
       "          My Rating  Average Rating           Publisher    Binding  ...  \\\n",
       "Book Id                                                             ...   \n",
       "18721991          0            4.11               Heyne  Hardcover  ...   \n",
       "28186015          0            3.88               Crown  Hardcover  ...   \n",
       "55848259          0            3.73  Kiepenheuer&Witsch  Hardcover  ...   \n",
       "52275335          3            4.21          Allen Lane  Hardcover  ...   \n",
       "29780253          5            4.46    Doubleday Canada  Hardcover  ...   \n",
       "\n",
       "          Private Notes Read Count Recommended For Recommended By  \\\n",
       "Book Id                                                             \n",
       "18721991     ca. S. 370          0             NaN            NaN   \n",
       "28186015            NaN          0             NaN            NaN   \n",
       "55848259            NaN          1             NaN            NaN   \n",
       "52275335            NaN          1             NaN            NaN   \n",
       "29780253            NaN          1             NaN            NaN   \n",
       "\n",
       "         Owned Copies Original Purchase Date Original Purchase Location  \\\n",
       "Book Id                                                                   \n",
       "18721991            0                    NaN                        NaN   \n",
       "28186015            0                    NaN                        NaN   \n",
       "55848259            0                    NaN                        NaN   \n",
       "52275335            0                    NaN                        NaN   \n",
       "29780253            0                    NaN                        NaN   \n",
       "\n",
       "         Condition Condition Description BCID  \n",
       "Book Id                                        \n",
       "18721991       NaN                   NaN  NaN  \n",
       "28186015       NaN                   NaN  NaN  \n",
       "55848259       NaN                   NaN  NaN  \n",
       "52275335       NaN                   NaN  NaN  \n",
       "29780253       NaN                   NaN  NaN  \n",
       "\n",
       "[5 rows x 30 columns]"
      ],
      "text/html": "<div>\n<style scoped>\n    .dataframe tbody tr th:only-of-type {\n        vertical-align: middle;\n    }\n\n    .dataframe tbody tr th {\n        vertical-align: top;\n    }\n\n    .dataframe thead th {\n        text-align: right;\n    }\n</style>\n<table border=\"1\" class=\"dataframe\">\n  <thead>\n    <tr style=\"text-align: right;\">\n      <th></th>\n      <th>Title</th>\n      <th>Author</th>\n      <th>Author l-f</th>\n      <th>Additional Authors</th>\n      <th>ISBN</th>\n      <th>ISBN13</th>\n      <th>My Rating</th>\n      <th>Average Rating</th>\n      <th>Publisher</th>\n      <th>Binding</th>\n      <th>...</th>\n      <th>Private Notes</th>\n      <th>Read Count</th>\n      <th>Recommended For</th>\n      <th>Recommended By</th>\n      <th>Owned Copies</th>\n      <th>Original Purchase Date</th>\n      <th>Original Purchase Location</th>\n      <th>Condition</th>\n      <th>Condition Description</th>\n      <th>BCID</th>\n    </tr>\n    <tr>\n      <th>Book Id</th>\n      <th></th>\n      <th></th>\n      <th></th>\n      <th></th>\n      <th></th>\n      <th></th>\n      <th></th>\n      <th></th>\n      <th></th>\n      <th></th>\n      <th></th>\n      <th></th>\n      <th></th>\n      <th></th>\n      <th></th>\n      <th></th>\n      <th></th>\n      <th></th>\n      <th></th>\n      <th></th>\n      <th></th>\n    </tr>\n  </thead>\n  <tbody>\n    <tr>\n      <th>18721991</th>\n      <td>Doctor Sleep (The Shining, #2)</td>\n      <td>Stephen King</td>\n      <td>King, Stephen</td>\n      <td>NaN</td>\n      <td>3453268555</td>\n      <td>9783453268555</td>\n      <td>0</td>\n      <td>4.11</td>\n      <td>Heyne</td>\n      <td>Hardcover</td>\n      <td>...</td>\n      <td>ca. S. 370</td>\n      <td>0</td>\n      <td>NaN</td>\n      <td>NaN</td>\n      <td>0</td>\n      <td>NaN</td>\n      <td>NaN</td>\n      <td>NaN</td>\n      <td>NaN</td>\n      <td>NaN</td>\n    </tr>\n    <tr>\n      <th>28186015</th>\n      <td>Weapons of Math Destruction: How Big Data Incr...</td>\n      <td>Cathy O'Neil</td>\n      <td>O'Neil, Cathy</td>\n      <td>NaN</td>\n      <td>0553418815</td>\n      <td>9780553418811</td>\n      <td>0</td>\n      <td>3.88</td>\n      <td>Crown</td>\n      <td>Hardcover</td>\n      <td>...</td>\n      <td>NaN</td>\n      <td>0</td>\n      <td>NaN</td>\n      <td>NaN</td>\n      <td>0</td>\n      <td>NaN</td>\n      <td>NaN</td>\n      <td>NaN</td>\n      <td>NaN</td>\n      <td>NaN</td>\n    </tr>\n    <tr>\n      <th>55848259</th>\n      <td>Komplett Gänsehaut</td>\n      <td>Sophie Passmann</td>\n      <td>Passmann, Sophie</td>\n      <td>NaN</td>\n      <td></td>\n      <td>9783462053616</td>\n      <td>0</td>\n      <td>3.73</td>\n      <td>Kiepenheuer&amp;Witsch</td>\n      <td>Hardcover</td>\n      <td>...</td>\n      <td>NaN</td>\n      <td>1</td>\n      <td>NaN</td>\n      <td>NaN</td>\n      <td>0</td>\n      <td>NaN</td>\n      <td>NaN</td>\n      <td>NaN</td>\n      <td>NaN</td>\n      <td>NaN</td>\n    </tr>\n    <tr>\n      <th>52275335</th>\n      <td>How to Avoid a Climate Disaster: The Solutions...</td>\n      <td>Bill  Gates</td>\n      <td>Gates, Bill</td>\n      <td>NaN</td>\n      <td>0241448301</td>\n      <td>9780241448304</td>\n      <td>3</td>\n      <td>4.21</td>\n      <td>Allen Lane</td>\n      <td>Hardcover</td>\n      <td>...</td>\n      <td>NaN</td>\n      <td>1</td>\n      <td>NaN</td>\n      <td>NaN</td>\n      <td>0</td>\n      <td>NaN</td>\n      <td>NaN</td>\n      <td>NaN</td>\n      <td>NaN</td>\n      <td>NaN</td>\n    </tr>\n    <tr>\n      <th>29780253</th>\n      <td>Born a Crime: Stories From a South African Chi...</td>\n      <td>Trevor Noah</td>\n      <td>Noah, Trevor</td>\n      <td>NaN</td>\n      <td>0385689225</td>\n      <td>9780385689229</td>\n      <td>5</td>\n      <td>4.46</td>\n      <td>Doubleday Canada</td>\n      <td>Hardcover</td>\n      <td>...</td>\n      <td>NaN</td>\n      <td>1</td>\n      <td>NaN</td>\n      <td>NaN</td>\n      <td>0</td>\n      <td>NaN</td>\n      <td>NaN</td>\n      <td>NaN</td>\n      <td>NaN</td>\n      <td>NaN</td>\n    </tr>\n  </tbody>\n</table>\n<p>5 rows × 30 columns</p>\n</div>"
     },
     "metadata": {},
     "execution_count": 6
    }
   ],
   "source": [
    "df['ISBN'] = df['ISBN'].str.split('\\\"').str.get(1)\n",
    "df['ISBN13'] = df['ISBN13'].str.split('\\\"').str.get(1)\n",
    "df.head()"
   ]
  },
  {
   "cell_type": "code",
   "execution_count": 7,
   "metadata": {},
   "outputs": [],
   "source": [
    "to_read = df[df['Exclusive Shelf'] == 'to-read']\n"
   ]
  },
  {
   "cell_type": "code",
   "execution_count": 8,
   "metadata": {},
   "outputs": [
    {
     "output_type": "stream",
     "name": "stderr",
     "text": [
      "<ipython-input-8-d2f2cc0e2833>:1: SettingWithCopyWarning: \nA value is trying to be set on a copy of a slice from a DataFrame\n\nSee the caveats in the documentation: https://pandas.pydata.org/pandas-docs/stable/user_guide/indexing.html#returning-a-view-versus-a-copy\n  to_read.sort_values('Date Added', ascending=False, inplace=True)\n"
     ]
    }
   ],
   "source": [
    "to_read.sort_values('Date Added', ascending=False, inplace=True)\n",
    "to_read_2021 = to_read[to_read['Date Added'] > START_DATE]"
   ]
  },
  {
   "cell_type": "code",
   "execution_count": 9,
   "metadata": {},
   "outputs": [
    {
     "output_type": "execute_result",
     "data": {
      "text/plain": [
       "                                                      Title  \\\n",
       "Book Id                                                       \n",
       "28186015  Weapons of Math Destruction: How Big Data Incr...   \n",
       "44512537          Growth: From Microorganisms to Megacities   \n",
       "4070074            Sustainable Energy - Without the Hot Air   \n",
       "56859211  Zahlen sind Waffen.  Gespräche über die Zukunf...   \n",
       "16131209       The Stench of Honolulu: A Tropical Adventure   \n",
       "\n",
       "                     Author          Author l-f Additional Authors  \\\n",
       "Book Id                                                              \n",
       "28186015       Cathy O'Neil       O'Neil, Cathy                NaN   \n",
       "44512537        Vaclav Smil        Smil, Vaclav                NaN   \n",
       "4070074   David J.C. MacKay  MacKay, David J.C.                NaN   \n",
       "56859211       Sibylle Berg       Berg, Sibylle       Dietmar Dath   \n",
       "16131209        Jack Handey        Handey, Jack                NaN   \n",
       "\n",
       "                ISBN         ISBN13  My Rating  Average Rating  \\\n",
       "Book Id                                                          \n",
       "28186015  0553418815  9780553418811          0            3.88   \n",
       "44512537  0262042835  9780262042833          0            3.90   \n",
       "4070074   0954452933  9780954452933          0            4.40   \n",
       "56859211  9783751805                         0            3.29   \n",
       "16131209  1455522384  9781455522385          0            3.34   \n",
       "\n",
       "                         Publisher    Binding  ...  Private Notes Read Count  \\\n",
       "Book Id                                        ...                             \n",
       "28186015                     Crown  Hardcover  ...            NaN          0   \n",
       "44512537             The MIT Press  Hardcover  ...            NaN          0   \n",
       "4070074         UIT Cambridge Ltd.  Paperback  ...            NaN          0   \n",
       "56859211          Matthes & Seitz   Paperback  ...            NaN          0   \n",
       "16131209  Grand Central Publishing  Hardcover  ...            NaN          0   \n",
       "\n",
       "         Recommended For Recommended By Owned Copies Original Purchase Date  \\\n",
       "Book Id                                                                       \n",
       "28186015             NaN            NaN            0                    NaN   \n",
       "44512537             NaN            NaN            0                    NaN   \n",
       "4070074              NaN            NaN            0                    NaN   \n",
       "56859211             NaN            NaN            0                    NaN   \n",
       "16131209             NaN            NaN            0                    NaN   \n",
       "\n",
       "         Original Purchase Location Condition Condition Description BCID  \n",
       "Book Id                                                                   \n",
       "28186015                        NaN       NaN                   NaN  NaN  \n",
       "44512537                        NaN       NaN                   NaN  NaN  \n",
       "4070074                         NaN       NaN                   NaN  NaN  \n",
       "56859211                        NaN       NaN                   NaN  NaN  \n",
       "16131209                        NaN       NaN                   NaN  NaN  \n",
       "\n",
       "[5 rows x 30 columns]"
      ],
      "text/html": "<div>\n<style scoped>\n    .dataframe tbody tr th:only-of-type {\n        vertical-align: middle;\n    }\n\n    .dataframe tbody tr th {\n        vertical-align: top;\n    }\n\n    .dataframe thead th {\n        text-align: right;\n    }\n</style>\n<table border=\"1\" class=\"dataframe\">\n  <thead>\n    <tr style=\"text-align: right;\">\n      <th></th>\n      <th>Title</th>\n      <th>Author</th>\n      <th>Author l-f</th>\n      <th>Additional Authors</th>\n      <th>ISBN</th>\n      <th>ISBN13</th>\n      <th>My Rating</th>\n      <th>Average Rating</th>\n      <th>Publisher</th>\n      <th>Binding</th>\n      <th>...</th>\n      <th>Private Notes</th>\n      <th>Read Count</th>\n      <th>Recommended For</th>\n      <th>Recommended By</th>\n      <th>Owned Copies</th>\n      <th>Original Purchase Date</th>\n      <th>Original Purchase Location</th>\n      <th>Condition</th>\n      <th>Condition Description</th>\n      <th>BCID</th>\n    </tr>\n    <tr>\n      <th>Book Id</th>\n      <th></th>\n      <th></th>\n      <th></th>\n      <th></th>\n      <th></th>\n      <th></th>\n      <th></th>\n      <th></th>\n      <th></th>\n      <th></th>\n      <th></th>\n      <th></th>\n      <th></th>\n      <th></th>\n      <th></th>\n      <th></th>\n      <th></th>\n      <th></th>\n      <th></th>\n      <th></th>\n      <th></th>\n    </tr>\n  </thead>\n  <tbody>\n    <tr>\n      <th>28186015</th>\n      <td>Weapons of Math Destruction: How Big Data Incr...</td>\n      <td>Cathy O'Neil</td>\n      <td>O'Neil, Cathy</td>\n      <td>NaN</td>\n      <td>0553418815</td>\n      <td>9780553418811</td>\n      <td>0</td>\n      <td>3.88</td>\n      <td>Crown</td>\n      <td>Hardcover</td>\n      <td>...</td>\n      <td>NaN</td>\n      <td>0</td>\n      <td>NaN</td>\n      <td>NaN</td>\n      <td>0</td>\n      <td>NaN</td>\n      <td>NaN</td>\n      <td>NaN</td>\n      <td>NaN</td>\n      <td>NaN</td>\n    </tr>\n    <tr>\n      <th>44512537</th>\n      <td>Growth: From Microorganisms to Megacities</td>\n      <td>Vaclav Smil</td>\n      <td>Smil, Vaclav</td>\n      <td>NaN</td>\n      <td>0262042835</td>\n      <td>9780262042833</td>\n      <td>0</td>\n      <td>3.90</td>\n      <td>The MIT Press</td>\n      <td>Hardcover</td>\n      <td>...</td>\n      <td>NaN</td>\n      <td>0</td>\n      <td>NaN</td>\n      <td>NaN</td>\n      <td>0</td>\n      <td>NaN</td>\n      <td>NaN</td>\n      <td>NaN</td>\n      <td>NaN</td>\n      <td>NaN</td>\n    </tr>\n    <tr>\n      <th>4070074</th>\n      <td>Sustainable Energy - Without the Hot Air</td>\n      <td>David J.C. MacKay</td>\n      <td>MacKay, David J.C.</td>\n      <td>NaN</td>\n      <td>0954452933</td>\n      <td>9780954452933</td>\n      <td>0</td>\n      <td>4.40</td>\n      <td>UIT Cambridge Ltd.</td>\n      <td>Paperback</td>\n      <td>...</td>\n      <td>NaN</td>\n      <td>0</td>\n      <td>NaN</td>\n      <td>NaN</td>\n      <td>0</td>\n      <td>NaN</td>\n      <td>NaN</td>\n      <td>NaN</td>\n      <td>NaN</td>\n      <td>NaN</td>\n    </tr>\n    <tr>\n      <th>56859211</th>\n      <td>Zahlen sind Waffen.  Gespräche über die Zukunf...</td>\n      <td>Sibylle Berg</td>\n      <td>Berg, Sibylle</td>\n      <td>Dietmar Dath</td>\n      <td>9783751805</td>\n      <td></td>\n      <td>0</td>\n      <td>3.29</td>\n      <td>Matthes &amp; Seitz</td>\n      <td>Paperback</td>\n      <td>...</td>\n      <td>NaN</td>\n      <td>0</td>\n      <td>NaN</td>\n      <td>NaN</td>\n      <td>0</td>\n      <td>NaN</td>\n      <td>NaN</td>\n      <td>NaN</td>\n      <td>NaN</td>\n      <td>NaN</td>\n    </tr>\n    <tr>\n      <th>16131209</th>\n      <td>The Stench of Honolulu: A Tropical Adventure</td>\n      <td>Jack Handey</td>\n      <td>Handey, Jack</td>\n      <td>NaN</td>\n      <td>1455522384</td>\n      <td>9781455522385</td>\n      <td>0</td>\n      <td>3.34</td>\n      <td>Grand Central Publishing</td>\n      <td>Hardcover</td>\n      <td>...</td>\n      <td>NaN</td>\n      <td>0</td>\n      <td>NaN</td>\n      <td>NaN</td>\n      <td>0</td>\n      <td>NaN</td>\n      <td>NaN</td>\n      <td>NaN</td>\n      <td>NaN</td>\n      <td>NaN</td>\n    </tr>\n  </tbody>\n</table>\n<p>5 rows × 30 columns</p>\n</div>"
     },
     "metadata": {},
     "execution_count": 9
    }
   ],
   "source": [
    "to_read_2021.head()"
   ]
  },
  {
   "cell_type": "code",
   "execution_count": 10,
   "metadata": {},
   "outputs": [
    {
     "output_type": "execute_result",
     "data": {
      "text/plain": [
       "pandas.core.frame.DataFrame"
      ]
     },
     "metadata": {},
     "execution_count": 10
    }
   ],
   "source": [
    "type(to_read_2021)"
   ]
  },
  {
   "source": [
    "## Beispiel\n",
    "### Jetzt Suchmaschine mittels BeatifulSoup scrapen um Bestpreise für Bücher zu finden"
   ],
   "cell_type": "markdown",
   "metadata": {}
  },
  {
   "cell_type": "code",
   "execution_count": 17,
   "metadata": {},
   "outputs": [
    {
     "output_type": "execute_result",
     "data": {
      "text/plain": [
       "Title                                       Dreck\n",
       "Author                                Bill Buford\n",
       "Author l-f                           Buford, Bill\n",
       "Additional Authors                  Sabine Hübner\n",
       "ISBN                                   3446267719\n",
       "ISBN13                              9783446267718\n",
       "My Rating                                       0\n",
       "Average Rating                               3.38\n",
       "Publisher                                  Hanser\n",
       "Binding                                 Hardcover\n",
       "Number of Pages                             508.0\n",
       "Year Published                2020-01-01 00:00:00\n",
       "Original Publication Year                    2020\n",
       "Date Read                                     NaT\n",
       "Date Added                    2021-02-09 00:00:00\n",
       "Bookshelves                               to-read\n",
       "Bookshelves with positions         to-read (#244)\n",
       "Exclusive Shelf                           to-read\n",
       "My Review                                     NaN\n",
       "Spoiler                                       NaN\n",
       "Private Notes                                 NaN\n",
       "Read Count                                      0\n",
       "Recommended For                               NaN\n",
       "Recommended By                                NaN\n",
       "Owned Copies                                    0\n",
       "Original Purchase Date                        NaN\n",
       "Original Purchase Location                    NaN\n",
       "Condition                                     NaN\n",
       "Condition Description                         NaN\n",
       "BCID                                          NaN\n",
       "Name: 55848313, dtype: object"
      ]
     },
     "metadata": {},
     "execution_count": 17
    }
   ],
   "source": [
    "#Testbuch\n",
    "book = to_read_2021.iloc[6]\n",
    "book"
   ]
  },
  {
   "cell_type": "code",
   "execution_count": 18,
   "metadata": {},
   "outputs": [],
   "source": [
    "url = 'https://www.booklooker.de/B%C3%BCcher/Angebote/isbn=9783446267718?sortOrder=preis_total'\n",
    "search_url = 'https://www.booklooker.de/B%C3%BCcher/Angebote/'\n",
    "base_url = 'https://www.booklooker.de'\n",
    "query_parameters = {\n",
    "    'isbn': book['ISBN13'],\n",
    "    'sortOrder': 'preis_total'\n",
    "}"
   ]
  },
  {
   "source": [
    "## Kann geskippt werden"
   ],
   "cell_type": "markdown",
   "metadata": {}
  },
  {
   "cell_type": "code",
   "execution_count": 19,
   "metadata": {},
   "outputs": [],
   "source": [
    "page = requests.get(url)\n",
    "soup = BeautifulSoup(page.content)"
   ]
  },
  {
   "source": [
    "table class=\"resultlist_products\"\n",
    "\n",
    "tbody\n",
    "\n",
    "tr id=\"article_*ID*\" class=\"articleRow resultlist_products*product*\" ODER\n",
    "\n",
    "articleRow resultlist_products*premium*"
   ],
   "cell_type": "markdown",
   "metadata": {}
  },
  {
   "cell_type": "code",
   "execution_count": 20,
   "metadata": {},
   "outputs": [],
   "source": [
    "results = soup.find(class_='resultlist_products')\n",
    "products = results.find_all('tr', class_='articleRow')\n"
   ]
  },
  {
   "cell_type": "code",
   "execution_count": 101,
   "metadata": {},
   "outputs": [],
   "source": [
    "entries = []\n",
    "for idx, product in enumerate(products):\n",
    "    product_info = product.find(\"td\", class_=\"resultlist_productsimage\")\n",
    "    price_info = product.find(\"td\", class_=\"resultlist_productsright\")\n",
    "    title_info =product_info.find('h2', class_='unformated')\n",
    "    book_title = title_info.find('span', class_='artikeltitel')\n",
    "    link = base_url + title_info.a.attrs['href']\n",
    "\n",
    "    author = product_info.find('span', class_='notranslate')\n",
    "    condition = str(product_info.find(string=lambda text: 'zustand' in text.lower()))\n",
    "    if condition:\n",
    "        prefix = 'Zustand: '\n",
    "        condition = condition[len(prefix):] if condition.startswith(prefix) else condition\n",
    "    else:\n",
    "        condition = str(product_info.find(string=lambda text: 'neuware' in text.lower()))\n",
    "    price = price_info.find('span', class_='price')\n",
    "    row = [book_title.text.strip(), author.text.strip(), price.text.strip()[:-2], condition.strip(), link]\n",
    "    entries.append(row)\n",
    "    # print(f\"[{idx}]: title: {book_title.text.strip()}, author: {author.text.strip()}, price = {price.text.strip()}, state: {state.strip()}), link: {link}\")\n"
   ]
  },
  {
   "cell_type": "code",
   "execution_count": 22,
   "metadata": {},
   "outputs": [
    {
     "output_type": "execute_result",
     "data": {
      "text/plain": [
       "                                               Title  \\\n",
       "0  Dreck - Wie ich meine Familie einpackte, Koch ...   \n",
       "1  Dreck Wie ich meine Familie einpackte, Koch in...   \n",
       "2  Dreck Wie ich meine Familie einpackte, Koch in...   \n",
       "3  Dreck Wie ich meine Familie einpackte, Koch in...   \n",
       "4  Dreck - Wie ich meine Familie einpackte, Koch ...   \n",
       "\n",
       "                                              Author  Price  \\\n",
       "0  Dreck - Wie ich meine Familie einpackte, Koch ...  16,00   \n",
       "1  Dreck Wie ich meine Familie einpackte, Koch in...  18,39   \n",
       "2  Dreck Wie ich meine Familie einpackte, Koch in...  18,39   \n",
       "3  Dreck Wie ich meine Familie einpackte, Koch in...  18,39   \n",
       "4  Dreck - Wie ich meine Familie einpackte, Koch ...  19,40   \n",
       "\n",
       "                 Condition                                                URL  \n",
       "0  leichte Gebrauchsspuren  https://www.booklooker.de/B%C3%BCcher/Bill-Buf...  \n",
       "1                  wie neu  https://www.booklooker.de/B%C3%BCcher/Bill-Ver...  \n",
       "2  leichte Gebrauchsspuren  https://www.booklooker.de/B%C3%BCcher/Bill-Ver...  \n",
       "3  leichte Gebrauchsspuren  https://www.booklooker.de/B%C3%BCcher/Bill-Ver...  \n",
       "4                  wie neu  https://www.booklooker.de/B%C3%BCcher/Bill-Buf...  "
      ],
      "text/html": "<div>\n<style scoped>\n    .dataframe tbody tr th:only-of-type {\n        vertical-align: middle;\n    }\n\n    .dataframe tbody tr th {\n        vertical-align: top;\n    }\n\n    .dataframe thead th {\n        text-align: right;\n    }\n</style>\n<table border=\"1\" class=\"dataframe\">\n  <thead>\n    <tr style=\"text-align: right;\">\n      <th></th>\n      <th>Title</th>\n      <th>Author</th>\n      <th>Price</th>\n      <th>Condition</th>\n      <th>URL</th>\n    </tr>\n  </thead>\n  <tbody>\n    <tr>\n      <th>0</th>\n      <td>Dreck - Wie ich meine Familie einpackte, Koch ...</td>\n      <td>Dreck - Wie ich meine Familie einpackte, Koch ...</td>\n      <td>16,00</td>\n      <td>leichte Gebrauchsspuren</td>\n      <td>https://www.booklooker.de/B%C3%BCcher/Bill-Buf...</td>\n    </tr>\n    <tr>\n      <th>1</th>\n      <td>Dreck Wie ich meine Familie einpackte, Koch in...</td>\n      <td>Dreck Wie ich meine Familie einpackte, Koch in...</td>\n      <td>18,39</td>\n      <td>wie neu</td>\n      <td>https://www.booklooker.de/B%C3%BCcher/Bill-Ver...</td>\n    </tr>\n    <tr>\n      <th>2</th>\n      <td>Dreck Wie ich meine Familie einpackte, Koch in...</td>\n      <td>Dreck Wie ich meine Familie einpackte, Koch in...</td>\n      <td>18,39</td>\n      <td>leichte Gebrauchsspuren</td>\n      <td>https://www.booklooker.de/B%C3%BCcher/Bill-Ver...</td>\n    </tr>\n    <tr>\n      <th>3</th>\n      <td>Dreck Wie ich meine Familie einpackte, Koch in...</td>\n      <td>Dreck Wie ich meine Familie einpackte, Koch in...</td>\n      <td>18,39</td>\n      <td>leichte Gebrauchsspuren</td>\n      <td>https://www.booklooker.de/B%C3%BCcher/Bill-Ver...</td>\n    </tr>\n    <tr>\n      <th>4</th>\n      <td>Dreck - Wie ich meine Familie einpackte, Koch ...</td>\n      <td>Dreck - Wie ich meine Familie einpackte, Koch ...</td>\n      <td>19,40</td>\n      <td>wie neu</td>\n      <td>https://www.booklooker.de/B%C3%BCcher/Bill-Buf...</td>\n    </tr>\n  </tbody>\n</table>\n</div>"
     },
     "metadata": {},
     "execution_count": 22
    }
   ],
   "source": [
    "web = pd.DataFrame(entries, columns=['Title', 'Author', 'Price', 'Condition', 'URL'])\n",
    "web.head()"
   ]
  },
  {
   "source": [
    "## Funktionen\n",
    "Build Search URL"
   ],
   "cell_type": "markdown",
   "metadata": {}
  },
  {
   "cell_type": "code",
   "execution_count": 23,
   "metadata": {},
   "outputs": [],
   "source": [
    "from urllib.parse import urlencode, urljoin, quote_plus\n",
    "def build_booklooker_url(**kwargs):\n",
    "    isbn13 = kwargs.get('ISBN13', \"\")\n",
    "    isbn = kwargs.get('ISBN', \"\")\n",
    "    title = kwargs.get('Title', \"\")\n",
    "    author = kwargs.get('Author', \"\")\n",
    "    \n",
    "    search_url = 'https://www.booklooker.de/B%C3%BCcher/Angebote/'\n",
    "    payload = {'sortOrder': \"preis_total\"}\n",
    "    if len(isbn13) > 0:\n",
    "        payload['isbn'] = isbn13\n",
    "    elif len(isbn) > 0:\n",
    "        payload['isbn'] = isbn\n",
    "    else:\n",
    "        payload['autor'] = author\n",
    "        payload['titel'] = title\n",
    "        print(f'ISBN not found, using: {author}: {title}')\n",
    "\n",
    "    url = build_url(search_url, payload)\n",
    "    return url\n",
    "\n",
    "def build_abebooks_url(**kwargs):\n",
    "    #TODO\n",
    "    raise NotImplementedError('not yet finished.')\n",
    "    search_url = 'https://www.abebooks.de/servlet/SearchResults?sts=t&cm_sp=SearchF-_-home-_-Results&an=Author&tn=Title&kn=&isbn='\n",
    "    isbn13 = kwargs.get('ISBN13', \"\")\n",
    "    isbn = kwargs.get('ISBN', \"\")\n",
    "    title = kwargs.get('Title', \"\")\n",
    "    author = kwargs.get('Author', \"\")\n",
    "    \n",
    "    payload = {'sortOrder': \"preis_total\"}\n",
    "    if len(isbn13) > 0:\n",
    "        payload['isbn'] = isbn13\n",
    "    elif len(isbn) > 0:\n",
    "        payload['isbn'] = isbn\n",
    "    else:\n",
    "        payload['an'] = author\n",
    "        payload['tn'] = title\n",
    "        print(f'ISBN not found, using: {author}: {title}')\n",
    "\n",
    "    url = build_url(search_url, payload)\n",
    "    return url\n",
    "\n",
    "def build_url(base_url, payload):\n",
    "    result = urlencode(payload, quote_via=quote_plus)\n",
    "    url = urljoin(base_url, result)\n",
    "    return url\n",
    "\n",
    "def get_soup(url):\n",
    "    page = requests.get(url)\n",
    "    soup = BeautifulSoup(page.content.decode('utf-8', 'ignore'))\n",
    "    return soup"
   ]
  },
  {
   "cell_type": "code",
   "execution_count": 24,
   "metadata": {},
   "outputs": [],
   "source": [
    "import re\n",
    "non_decimal = re.compile(r'[^\\d.]+')"
   ]
  },
  {
   "source": [
    "Soup-Suchergebnisse auslesen"
   ],
   "cell_type": "markdown",
   "metadata": {}
  },
  {
   "cell_type": "code",
   "execution_count": 25,
   "metadata": {},
   "outputs": [],
   "source": [
    "def get_booklooker_results(soup, limit=10, as_df=False, rating=None):\n",
    "    entries = []\n",
    "    results = soup.find(class_='resultlist_products')\n",
    "    if results is None:\n",
    "        return entries\n",
    "    products = results.find_all('tr', class_='articleRow')\n",
    "    for idx, product in enumerate(products):\n",
    "        try:\n",
    "            product_info = product.find(\"td\", class_=\"resultlist_productsimage\")\n",
    "            title_info =product_info.find('h2', class_='unformated')\n",
    "            book_title = title_info.find('span', class_='artikeltitel notranslate')\n",
    "            link = base_url + title_info.a.attrs['href']\n",
    "\n",
    "            author_info =product_info.find('h3', class_='unformated')\n",
    "            author = author_info.find('span', class_='notranslate')\n",
    "\n",
    "            condition = str(product_info.find(string=lambda text: 'zustand' in text.lower()))\n",
    "            prefix = 'Zustand: '\n",
    "            condition = condition[len(prefix):] if condition.startswith(prefix) else condition\n",
    "            \n",
    "            price_info = product.find(\"div\", class_=\"productPrices\")\n",
    "            prices = price_info.find_all(string=lambda text: '€' in text.lower())\n",
    "        except AttributeError as notfound:\n",
    "            continue\n",
    "        price_list = [s[:-1].strip() for s in prices]\n",
    "        price = price_list[0] if len(price_list) > 0 else \"\"\n",
    "        vsk = price_list[1] if len(price_list) > 1 else \"\"\n",
    "        price = price.replace(\",\", \".\")\n",
    "        vsk = vsk.replace(\",\", \".\")\n",
    "        price = non_decimal.sub('', price)\n",
    "        vsk = non_decimal.sub('', vsk)\n",
    "        price = float(price) if len(price) > 0 else 0\n",
    "        vsk = float(vsk) if len(vsk) > 0 else 0\n",
    "        row = (book_title.text.strip(), author.text.strip(), price, vsk, condition.strip(), link)\n",
    "        entries.append(row)\n",
    "        if idx > (limit - 1):\n",
    "            break\n",
    "    if as_df:\n",
    "        df = pd.DataFrame(entries, columns=['Title', 'Author', 'Price', 'VSK', 'Condition', 'URL'])\n",
    "        if rating:\n",
    "            df['Average Rating'] = rating\n",
    "        return df\n",
    "    else:\n",
    "        return entries\n"
   ]
  },
  {
   "source": [
    "## Bringing it all together\n",
    "Für jedes Buch:\n",
    "- URL erzeugen\n",
    "- HTML-Suppe abrufen\n",
    "- Suchergebnisse parsen\n",
    "- DataFrame erzeugen"
   ],
   "cell_type": "markdown",
   "metadata": {}
  },
  {
   "cell_type": "code",
   "execution_count": 26,
   "metadata": {},
   "outputs": [],
   "source": [
    "def get_sales_info_df(df, limit=10, as_df=True):\n",
    "    url = build_booklooker_url(**df)\n",
    "    soup = get_soup(url)\n",
    "    search_results = get_booklooker_results(soup, limit=limit, as_df=as_df, rating=df['Average Rating'])\n",
    "    if len(search_results) < 1:\n",
    "        print(f\"no search results found for {df['Title']}, ISBN: {df['ISBN']}\")\n",
    "    if as_df:\n",
    "        return search_results\n",
    "    else:\n",
    "        return np.array(search_results)"
   ]
  },
  {
   "cell_type": "code",
   "execution_count": 27,
   "metadata": {},
   "outputs": [],
   "source": [
    "def get_sales_info(title, isbn, isbn13, limit=10, as_df=True):\n",
    "    isbn_ = isbn13 if len(isbn13) > 0 else isbn\n",
    "    if len(isbn_) <= 0:\n",
    "        print(f'{title}: no ISBN found!')\n",
    "        return []\n",
    "        # raise KeyError('No ISBN Found')\n",
    "    d = {'ISBN': isbn_}\n",
    "    url = build_booklooker_url(**d)\n",
    "    soup = get_soup(url)\n",
    "    search_results = get_booklooker_results(soup, limit=limit, as_df=as_df)\n",
    "    return np.array(search_results)"
   ]
  },
  {
   "cell_type": "code",
   "execution_count": 28,
   "metadata": {},
   "outputs": [
    {
     "output_type": "display_data",
     "data": {
      "text/plain": "  0%|          | 0/253 [00:00<?, ?it/s]",
      "application/vnd.jupyter.widget-view+json": {
       "version_major": 2,
       "version_minor": 0,
       "model_id": "41a12a0e01914ddb98fdb6128ea9cb81"
      }
     },
     "metadata": {}
    },
    {
     "output_type": "stream",
     "name": "stdout",
     "text": [
      "no search results found for Weapons of Math Destruction: How Big Data Increases Inequality and Threatens Democracy, ISBN: 0553418815\n",
      "no search results found for Growth: From Microorganisms to Megacities, ISBN: 0262042835\n",
      "no search results found for Sustainable Energy - Without the Hot Air, ISBN: 0954452933\n",
      "no search results found for Zahlen sind Waffen.  Gespräche über die Zukunft. (Fröhliche Wissenschaft Band 176), ISBN: 9783751805\n",
      "no search results found for The Stench of Honolulu: A Tropical Adventure, ISBN: 1455522384\n",
      "no search results found for Entangled Life: How Fungi Make Our Worlds, Change Our Minds & Shape Our Futures, ISBN: 0525510311\n",
      "no search results found for The Shallows: What the Internet Is Doing to Our Brains, ISBN: 0393339750\n",
      "ISBN not found, using: Oliver Stone: Chasing the Light: Writing, Directing, and Surviving Platoon, Midnight Express, Scarface, Salvador, and the Movie Game\n",
      "no search results found for Chasing the Light: Writing, Directing, and Surviving Platoon, Midnight Express, Scarface, Salvador, and the Movie Game, ISBN: \n",
      "no search results found for What Tech Calls Thinking: An Inquiry Into the Intellectual Bedrock of Silicon Valley, ISBN: 0374538646\n",
      "ISBN not found, using: Katharina Nocun: Die Daten, die ich rief: Wie wir unsere Freiheit an Großkonzerne verkaufen\n",
      "no search results found for Rendezvous with Rama (Rama, #1), ISBN: 1857231589\n",
      "ISBN not found, using: Thought Catalog: Read This If: A Collection of Essays that Prove Someone Else Gets it, Too\n",
      "no search results found for Read This If: A Collection of Essays that Prove Someone Else Gets it, Too, ISBN: \n",
      "ISBN not found, using: Barack Obama: A Promised Land\n",
      "ISBN not found, using: Matt Haig: The Midnight Library\n",
      "no search results found for The Spy and the Traitor: The Greatest Espionage Story of the Cold War, ISBN: 0771060335\n",
      "ISBN not found, using: Rüdiger Safranski: Zeit: Was sie mit uns macht und was wir aus ihr machen\n",
      "ISBN not found, using: Marc-Uwe Kling: QualityLand: Band 1.1\n",
      "no search results found for How to Talk to Anyone: 92 Little Tricks for Big Success in Relationships, ISBN: 007141858X\n",
      "no search results found for More from Less: The Surprising Story of How We Learned to Prosper Using Fewer Resources—and What Happens Next, ISBN: 1982103574\n",
      "no search results found for Small Is Beautiful: Economics as if People Mattered, ISBN: 0060916303\n",
      "ISBN not found, using: William Gibson: Neuromancer (Sprawl, #1)\n",
      "no search results found for Neuromancer (Sprawl, #1), ISBN: \n",
      "ISBN not found, using: David Mayonga: Ein N**** darf nicht neben mir sitzen: Eine deutsche Geschichte\n",
      "ISBN not found, using: Daniel Keyes: Flowers for Algernon\n",
      "ISBN not found, using: Colson Whitehead: The Nickel Boys\n",
      "ISBN not found, using: Tino Hanekamp: So was von da\n",
      "no search results found for The Art of Living: The Classical Manual on Virtue, Happiness and Effectiveness, ISBN: 006251346X\n",
      "ISBN not found, using: Marcus Aurelius: Selbstbetrachtungen\n",
      "no search results found for Feeling Good: The New Mood Therapy, ISBN: 0380810336\n",
      "no search results found for I Am Pilgrim, ISBN: 1439177724\n",
      "ISBN not found, using: Albert Camus: The Myth of Sisyphus and Other Essays\n",
      "no search results found for The Myth of Sisyphus and Other Essays, ISBN: \n",
      "no search results found for The Total Money Makeover: A Proven Plan for Financial Fitness, ISBN: 0785289089\n",
      "no search results found for MONEY Master the Game: 7 Simple Steps to Financial Freedom, ISBN: 1476757801\n",
      "ISBN not found, using: Liu Cixin: Die wandernde Erde: Erzählungen\n",
      "no search results found for The Spy Who Came In from the Cold, ISBN: \n",
      "no search results found for Energy and Civilization: A History, ISBN: 0262035774\n",
      "no search results found for Guns, Germs, and Steel: The Fates of Human Societies, ISBN: 0739467352\n",
      "no search results found for Tao Te Ching, ISBN: 0679724346\n",
      "ISBN not found, using: Anne Frank: The Diary of a Young Girl\n",
      "no search results found for Talking to Strangers: What We Should Know About the People We Don’t Know, ISBN: 0316478520\n",
      "ISBN not found, using: Andriy Burkov: The Hundred-Page Machine Learning Book\n",
      "no search results found for The Hundred-Page Machine Learning Book, ISBN: \n",
      "no search results found for Reasons to Stay Alive, ISBN: 0143128728\n",
      "no search results found for The Shock Doctrine: The Rise of Disaster Capitalism, ISBN: 0805079831\n",
      "no search results found for Normal People, ISBN: 1984822179\n",
      "no search results found for The Noonday Demon: An Atlas of Depression, ISBN: 0684854678\n",
      "no search results found for The Omnivore's Dilemma: A Natural History of Four Meals, ISBN: 1594200823\n",
      "no search results found for Seven Brief Lessons on Physics, ISBN: 0399184414\n",
      "no search results found for The Constant Gardener, ISBN: \n",
      "no search results found for The Age of Surveillance Capitalism: The Fight for a Human Future at the New Frontier of Power, ISBN: 1610395697\n",
      "ISBN not found, using: Yanis Varoufakis: Adults in the Room: My Battle with Europe's Deep Establishment\n",
      "no search results found for The Tipping Point: How Little Things Can Make a Big Difference, ISBN: 0316346624\n",
      "no search results found for Light (Kefahuchi Tract, #1), ISBN: 0553382950\n",
      "no search results found for Cherry, ISBN: 178733094X\n",
      "ISBN not found, using: Jonathan Crary: 24/7: Schlaflos im Spätkapitalismus\n",
      "no search results found for 24/7: Schlaflos im Spätkapitalismus, ISBN: \n",
      "ISBN not found, using: Mareike Fallwickl: Das Licht ist hier viel heller\n",
      "no search results found for The Body: A Guide for Occupants, ISBN: 0385539304\n",
      "ISBN not found, using: Harry Mulisch: The Discovery of Heaven\n",
      "ISBN not found, using: Rob Hart: Der Store\n",
      "no search results found for La Maison (Méto, #1), ISBN: 274850688X\n",
      "no search results found for The Possibility of an Island, ISBN: 0307275213\n",
      "no search results found for Helter Skelter: The True Story of the Manson Murders, ISBN: 0393322238\n",
      "no search results found for The Uninhabitable Earth: Life After Warming, ISBN: 0525576703\n",
      "ISBN not found, using: Richard David Precht: Jäger, Hirten, Kritiker: Eine Utopie für die digitale Gesellschaft\n",
      "ISBN not found, using: Ottessa Moshfegh: Mein Jahr der Ruhe und Entspannung\n",
      "no search results found for How To: Absurd Scientific Advice for Common Real-World Problems, ISBN: 0525537090\n",
      "ISBN not found, using: Napoleon Hill: Think and Grow Rich\n",
      "no search results found for Principles: Life and Work, ISBN: 1508243247\n",
      "ISBN not found, using: Kai Marchal: Tritt durch die Wand und werde, der du (nicht) bist: Auf den Spuren des chinesischen Denkens\n",
      "ISBN not found, using: César Aira: Das Testament des Zauberers Tenor\n",
      "no search results found for Search Inside Yourself: The Unexpected Path to Achieving Success, Happiness (And World Peace), ISBN: 0062116924\n",
      "no search results found for Invisible Women: Data Bias in a World Designed for Men, ISBN: 1419729071\n",
      "no search results found for Manufacturing Consent: The Political Economy of the Mass Media, ISBN: 0375714499\n",
      "no search results found for Digital Minimalism: Choosing a Focused Life in a Noisy World, ISBN: 0525536515\n",
      "no search results found for Hard-Boiled Wonderland and the End of the World, ISBN: 0679743464\n",
      "ISBN not found, using: Amor Towles: A Gentleman in Moscow\n",
      "no search results found for 2001: A Space Odyssey (Space Odyssey, #1), ISBN: 1857236645\n",
      "ISBN not found, using: Kurt Vonnegut Jr.: Cat's Cradle\n",
      "no search results found for Red Rising (Red Rising Saga, #1), ISBN: 0345539788\n",
      "ISBN not found, using: Hannah Fry: Hello World: Was Algorithmen können und wie sie unser Leben verändern\n",
      "no search results found for Daring Greatly: How the Courage to Be Vulnerable Transforms the Way We Live, Love, Parent, and Lead, ISBN: 1592407331\n",
      "ISBN not found, using: Franz Kafka: The Trial\n",
      "ISBN not found, using: Franz Kafka: The Metamorphosis\n",
      "no search results found for Self-Compassion: The Proven Power of Being Kind to Yourself, ISBN: 0061733512\n",
      "no search results found for The Happiness Trap: How to Stop Struggling and Start Living: A Guide to ACT, ISBN: 1590305841\n",
      "ISBN not found, using: John Fowles: The Collector\n",
      "ISBN not found, using: Franziska Seyboldt: Rattatatam, mein Herz: Vom Leben mit der Angst\n",
      "ISBN not found, using: Roberto Simanowski: Stumme Medien: Vom Verschwinden der Computer in Bildung und Gesellschaft\n",
      "ISBN not found, using: Stephen King: Pet Sematary\n",
      "no search results found for The Knife of Never Letting Go (Chaos Walking, #1), ISBN: 0763676187\n",
      "no search results found for Station Eleven, ISBN: 0385353308\n",
      "no search results found for World War Z: An Oral History of the Zombie War, ISBN: 0307346609\n",
      "no search results found for Money Well Spent: A Strategic Plan for Smart Philanthropy, ISBN: 1576603121\n",
      "ISBN not found, using: Ken Follett: The Pillars of the Earth (Kingsbridge, #1)\n",
      "no search results found for I Have No Mouth and I Must Scream, ISBN: 0441363954\n",
      "no search results found for The Feeling Good Handbook, ISBN: 0452281326\n",
      "ISBN not found, using: Éric Vuillard: Traurigkeit der Erde: Eine Geschichte von Buffalo Bill Cody\n",
      "no search results found for Traurigkeit der Erde: Eine Geschichte von Buffalo Bill Cody, ISBN: \n",
      "no search results found for The Woman in the Window, ISBN: 0062678418\n",
      "no search results found for The Catcher in the Rye, ISBN: 0316769177\n",
      "ISBN not found, using: Harper Lee: To Kill a Mockingbird\n",
      "no search results found for Spark: The Revolutionary New Science of Exercise and the Brain, ISBN: 0316113506\n",
      "no search results found for The New Biographical Dictionary of Film: Expanded and Updated, ISBN: 0375709401\n",
      "ISBN not found, using: Philip K. Dick: Do Androids Dream of Electric Sheep?\n",
      "no search results found for Enlightenment Now: The Case for Reason, Science, Humanism, and Progress, ISBN: 0525427570\n",
      "ISBN not found, using: Yuval Noah Harari: Homo Deus: A History of Tomorrow\n",
      "no search results found for The Happiness Project: Or Why I Spent a Year Trying to Sing in the Morning, Clean My Closets, Fight Right, Read Aristotle, and Generally Have More Fun, ISBN: 0061583251\n",
      "no search results found for The Life-Changing Magic of Tidying Up: The Japanese Art of Decluttering and Organizing, ISBN: 1607747308\n",
      "no search results found for Hyperbole and a Half: Unfortunate Situations, Flawed Coping Mechanisms, Mayhem, and Other Things That Happened, ISBN: 1451666179\n",
      "no search results found for Killing Floor (Jack Reacher, #1), ISBN: 0515141429\n",
      "no search results found for Crime and Punishment, ISBN: 0143058142\n",
      "ISBN not found, using: Gillian Flynn: Gone Girl\n",
      "no search results found for Dark Places, ISBN: 0307341569\n",
      "ISBN not found, using: Exurb1a: Logic Beach: Part I\n",
      "no search results found for Logic Beach: Part I, ISBN: \n",
      "ISBN not found, using: Mark Manson: The Subtle Art of Not Giving a F*ck: A Counterintuitive Approach to Living a Good Life\n",
      "no search results found for The Subtle Art of Not Giving a F*ck: A Counterintuitive Approach to Living a Good Life, ISBN: \n",
      "ISBN not found, using: Michael Pollan: Kochen: Eine Naturgeschichte der Transformation\n",
      "ISBN not found, using: Fyodor Dostoyevsky: De gebroeders Karamazov\n",
      "no search results found for De gebroeders Karamazov, ISBN: \n",
      "ISBN not found, using: Tom Kraftwerk: Warten auf Foucault: Anleitung zum Nicht-Studieren\n",
      "no search results found for Foundation (Foundation, #1), ISBN: 0553803719\n",
      "ISBN not found, using: Stephen King: The Wind Through the Keyhole (The Dark Tower, #4.5)\n",
      "no search results found for The Wind Through the Keyhole (The Dark Tower, #4.5), ISBN: \n",
      "no search results found for The Little Sisters of Eluria (The Dark Tower, #0.5), ISBN: 1880418738\n"
     ]
    }
   ],
   "source": [
    "# sales_info = []\n",
    "my_df = to_read_2021.iloc[:TOTAL_NUMBER]\n",
    "# Create and register a new `tqdm` instance with `pandas`\n",
    "# (can use tqdm_gui, optional kwargs, etc.)\n",
    "tqdm.pandas()\n",
    "\n",
    "# Now you can use `progress_apply` instead of `apply`\n",
    "sales_infos = my_df.progress_apply(get_sales_info_df, axis=1)\n"
   ]
  },
  {
   "cell_type": "code",
   "execution_count": 29,
   "metadata": {},
   "outputs": [
    {
     "output_type": "execute_result",
     "data": {
      "text/plain": [
       "                                                Title              Author  \\\n",
       "0   DAVE | Roman | Raphaela Edelbauer | Buch | Deu...  Raphaela Edelbauer   \n",
       "1                                                DAVE  Raphaela Edelbauer   \n",
       "2   DAVE | Roman | Raphaela Edelbauer | Buch | Deu...  Raphaela Edelbauer   \n",
       "3                                                DAVE  Raphaela Edelbauer   \n",
       "4                                                DAVE  Raphaela Edelbauer   \n",
       "5                                        DAVE - Roman  Raphaela Edelbauer   \n",
       "6                                                DAVE  Raphaela Edelbauer   \n",
       "7                                                DAVE  Raphaela Edelbauer   \n",
       "8                                                DAVE  Raphaela Edelbauer   \n",
       "9                                                DAVE  Raphaela Edelbauer   \n",
       "10                                               DAVE  Raphaela Edelbauer   \n",
       "\n",
       "    Price  VSK Condition                                                URL  \\\n",
       "0    25.0    0      None  https://www.booklooker.de/B%C3%BCcher/Raphaela...   \n",
       "1    25.0    0      None  https://www.booklooker.de/B%C3%BCcher/Raphaela...   \n",
       "2    25.0    0      None  https://www.booklooker.de/B%C3%BCcher/Raphaela...   \n",
       "3    25.0    0      None  https://www.booklooker.de/B%C3%BCcher/Raphaela...   \n",
       "4    25.0    0      None  https://www.booklooker.de/B%C3%BCcher/Raphaela...   \n",
       "5    25.0    0      None  https://www.booklooker.de/B%C3%BCcher/Raphaela...   \n",
       "6    25.0    0      None  https://www.booklooker.de/B%C3%BCcher/Raphaela...   \n",
       "7    25.0    0      None  https://www.booklooker.de/B%C3%BCcher/Raphaela...   \n",
       "8    25.0    0      None  https://www.booklooker.de/B%C3%BCcher/Raphaela...   \n",
       "9    25.0    0      None  https://www.booklooker.de/B%C3%BCcher/Raphaela...   \n",
       "10   25.0    0      None  https://www.booklooker.de/B%C3%BCcher/Raphaela...   \n",
       "\n",
       "    Average Rating  \n",
       "0             3.72  \n",
       "1             3.72  \n",
       "2             3.72  \n",
       "3             3.72  \n",
       "4             3.72  \n",
       "5             3.72  \n",
       "6             3.72  \n",
       "7             3.72  \n",
       "8             3.72  \n",
       "9             3.72  \n",
       "10            3.72  "
      ],
      "text/html": "<div>\n<style scoped>\n    .dataframe tbody tr th:only-of-type {\n        vertical-align: middle;\n    }\n\n    .dataframe tbody tr th {\n        vertical-align: top;\n    }\n\n    .dataframe thead th {\n        text-align: right;\n    }\n</style>\n<table border=\"1\" class=\"dataframe\">\n  <thead>\n    <tr style=\"text-align: right;\">\n      <th></th>\n      <th>Title</th>\n      <th>Author</th>\n      <th>Price</th>\n      <th>VSK</th>\n      <th>Condition</th>\n      <th>URL</th>\n      <th>Average Rating</th>\n    </tr>\n  </thead>\n  <tbody>\n    <tr>\n      <th>0</th>\n      <td>DAVE | Roman | Raphaela Edelbauer | Buch | Deu...</td>\n      <td>Raphaela Edelbauer</td>\n      <td>25.0</td>\n      <td>0</td>\n      <td>None</td>\n      <td>https://www.booklooker.de/B%C3%BCcher/Raphaela...</td>\n      <td>3.72</td>\n    </tr>\n    <tr>\n      <th>1</th>\n      <td>DAVE</td>\n      <td>Raphaela Edelbauer</td>\n      <td>25.0</td>\n      <td>0</td>\n      <td>None</td>\n      <td>https://www.booklooker.de/B%C3%BCcher/Raphaela...</td>\n      <td>3.72</td>\n    </tr>\n    <tr>\n      <th>2</th>\n      <td>DAVE | Roman | Raphaela Edelbauer | Buch | Deu...</td>\n      <td>Raphaela Edelbauer</td>\n      <td>25.0</td>\n      <td>0</td>\n      <td>None</td>\n      <td>https://www.booklooker.de/B%C3%BCcher/Raphaela...</td>\n      <td>3.72</td>\n    </tr>\n    <tr>\n      <th>3</th>\n      <td>DAVE</td>\n      <td>Raphaela Edelbauer</td>\n      <td>25.0</td>\n      <td>0</td>\n      <td>None</td>\n      <td>https://www.booklooker.de/B%C3%BCcher/Raphaela...</td>\n      <td>3.72</td>\n    </tr>\n    <tr>\n      <th>4</th>\n      <td>DAVE</td>\n      <td>Raphaela Edelbauer</td>\n      <td>25.0</td>\n      <td>0</td>\n      <td>None</td>\n      <td>https://www.booklooker.de/B%C3%BCcher/Raphaela...</td>\n      <td>3.72</td>\n    </tr>\n    <tr>\n      <th>5</th>\n      <td>DAVE - Roman</td>\n      <td>Raphaela Edelbauer</td>\n      <td>25.0</td>\n      <td>0</td>\n      <td>None</td>\n      <td>https://www.booklooker.de/B%C3%BCcher/Raphaela...</td>\n      <td>3.72</td>\n    </tr>\n    <tr>\n      <th>6</th>\n      <td>DAVE</td>\n      <td>Raphaela Edelbauer</td>\n      <td>25.0</td>\n      <td>0</td>\n      <td>None</td>\n      <td>https://www.booklooker.de/B%C3%BCcher/Raphaela...</td>\n      <td>3.72</td>\n    </tr>\n    <tr>\n      <th>7</th>\n      <td>DAVE</td>\n      <td>Raphaela Edelbauer</td>\n      <td>25.0</td>\n      <td>0</td>\n      <td>None</td>\n      <td>https://www.booklooker.de/B%C3%BCcher/Raphaela...</td>\n      <td>3.72</td>\n    </tr>\n    <tr>\n      <th>8</th>\n      <td>DAVE</td>\n      <td>Raphaela Edelbauer</td>\n      <td>25.0</td>\n      <td>0</td>\n      <td>None</td>\n      <td>https://www.booklooker.de/B%C3%BCcher/Raphaela...</td>\n      <td>3.72</td>\n    </tr>\n    <tr>\n      <th>9</th>\n      <td>DAVE</td>\n      <td>Raphaela Edelbauer</td>\n      <td>25.0</td>\n      <td>0</td>\n      <td>None</td>\n      <td>https://www.booklooker.de/B%C3%BCcher/Raphaela...</td>\n      <td>3.72</td>\n    </tr>\n    <tr>\n      <th>10</th>\n      <td>DAVE</td>\n      <td>Raphaela Edelbauer</td>\n      <td>25.0</td>\n      <td>0</td>\n      <td>None</td>\n      <td>https://www.booklooker.de/B%C3%BCcher/Raphaela...</td>\n      <td>3.72</td>\n    </tr>\n  </tbody>\n</table>\n</div>"
     },
     "metadata": {},
     "execution_count": 29
    }
   ],
   "source": [
    "sales_infos.iloc[7]"
   ]
  },
  {
   "cell_type": "code",
   "execution_count": 30,
   "metadata": {},
   "outputs": [],
   "source": [
    "sales_infos = sales_infos.apply(lambda l: pd.DataFrame(l) if type(l)==list else l)"
   ]
  },
  {
   "cell_type": "code",
   "execution_count": 31,
   "metadata": {},
   "outputs": [
    {
     "output_type": "execute_result",
     "data": {
      "text/plain": [
       "Book Id\n",
       "28186015    Empty DataFrame\n",
       "Columns: []\n",
       "Index: []\n",
       "44512537    Empty DataFrame\n",
       "Columns: []\n",
       "Index: []\n",
       "4070074     Empty DataFrame\n",
       "Columns: []\n",
       "Index: []\n",
       "56859211    Empty DataFrame\n",
       "Columns: []\n",
       "Index: []\n",
       "16131209    Empty DataFrame\n",
       "Columns: []\n",
       "Index: []\n",
       "dtype: object"
      ]
     },
     "metadata": {},
     "execution_count": 31
    }
   ],
   "source": [
    "sales_infos.head()\n",
    "# nd = np.array(sales_infos)"
   ]
  },
  {
   "cell_type": "code",
   "execution_count": 32,
   "metadata": {},
   "outputs": [
    {
     "output_type": "execute_result",
     "data": {
      "text/plain": [
       "Title                                     Durchbruch bei Stalingrad\n",
       "Author                                             Heinrich Gerlach\n",
       "Price                                                          11.0\n",
       "VSK                                                             6.0\n",
       "Condition                                 deutliche Gebrauchsspuren\n",
       "URL               https://www.booklooker.de/B%C3%BCcher/Heinrich...\n",
       "Average Rating                                                 4.27\n",
       "Name: 0, dtype: object"
      ]
     },
     "metadata": {},
     "execution_count": 32
    }
   ],
   "source": [
    "sales_infos.iloc[5].iloc[0]"
   ]
  },
  {
   "source": [
    "Erstmal speichern"
   ],
   "cell_type": "markdown",
   "metadata": {}
  },
  {
   "cell_type": "code",
   "execution_count": 33,
   "metadata": {},
   "outputs": [],
   "source": [
    "pkl_fn = f'sales_infos_2021_recent{TOTAL_NUMBER}_{DATE}.pkl'\n"
   ]
  },
  {
   "cell_type": "code",
   "execution_count": 34,
   "metadata": {},
   "outputs": [],
   "source": [
    "sales_infos.to_pickle(pkl_fn)"
   ]
  },
  {
   "cell_type": "code",
   "execution_count": 35,
   "metadata": {},
   "outputs": [],
   "source": [
    "sales_infos = pd.read_pickle(pkl_fn)\n"
   ]
  },
  {
   "cell_type": "code",
   "execution_count": 36,
   "metadata": {},
   "outputs": [
    {
     "output_type": "execute_result",
     "data": {
      "text/plain": [
       "                                                Title  \\\n",
       "0   Dreck - Wie ich meine Familie einpackte, Koch ...   \n",
       "1   Dreck Wie ich meine Familie einpackte, Koch in...   \n",
       "2   Dreck Wie ich meine Familie einpackte, Koch in...   \n",
       "3   Dreck Wie ich meine Familie einpackte, Koch in...   \n",
       "4   Dreck - Wie ich meine Familie einpackte, Koch ...   \n",
       "5   Dreck | Wie ich meine Familie einpackte, Koch ...   \n",
       "6   Dreck | Wie ich meine Familie einpackte, Koch ...   \n",
       "7                                               Dreck   \n",
       "8                                               Dreck   \n",
       "9                                               Dreck   \n",
       "10  Dreck - Wie ich meine Familie einpackte, Koch ...   \n",
       "\n",
       "                                               Author  Price  VSK  \\\n",
       "0                                         Bill Buford  16.00  2.7   \n",
       "1   Buford, Bill (Verfasser)Hübner, Sabine (Überse...  18.39  2.5   \n",
       "2   Buford, Bill (Verfasser)Hübner, Sabine (Überse...  18.39  2.5   \n",
       "3   Buford, Bill (Verfasser)Hübner, Sabine (Überse...  18.39  2.5   \n",
       "4                                         Bill Buford  19.40  2.7   \n",
       "5                                         Bill Buford  26.00  0.0   \n",
       "6                                         Bill Buford  26.00  0.0   \n",
       "7                                         Bill Buford  26.00  0.0   \n",
       "8                                         Bill Buford  26.00  0.0   \n",
       "9                                         Bill Buford  26.00  0.0   \n",
       "10                Buford, Bill / Hübner, Sabine (Üb.)  26.00  0.0   \n",
       "\n",
       "                  Condition  \\\n",
       "0   leichte Gebrauchsspuren   \n",
       "1                   wie neu   \n",
       "2   leichte Gebrauchsspuren   \n",
       "3   leichte Gebrauchsspuren   \n",
       "4                   wie neu   \n",
       "5                      None   \n",
       "6                      None   \n",
       "7                      None   \n",
       "8                      None   \n",
       "9                      None   \n",
       "10                     None   \n",
       "\n",
       "                                                  URL  Average Rating  \n",
       "0   https://www.booklooker.de/B%C3%BCcher/Bill-Buf...            3.38  \n",
       "1   https://www.booklooker.de/B%C3%BCcher/Bill-Ver...            3.38  \n",
       "2   https://www.booklooker.de/B%C3%BCcher/Bill-Ver...            3.38  \n",
       "3   https://www.booklooker.de/B%C3%BCcher/Bill-Ver...            3.38  \n",
       "4   https://www.booklooker.de/B%C3%BCcher/Bill-Buf...            3.38  \n",
       "5   https://www.booklooker.de/B%C3%BCcher/Bill-Buf...            3.38  \n",
       "6   https://www.booklooker.de/B%C3%BCcher/Bill-Buf...            3.38  \n",
       "7   https://www.booklooker.de/B%C3%BCcher/Bill-Buf...            3.38  \n",
       "8   https://www.booklooker.de/B%C3%BCcher/Bill-Buf...            3.38  \n",
       "9   https://www.booklooker.de/B%C3%BCcher/Bill-Buf...            3.38  \n",
       "10  https://www.booklooker.de/B%C3%BCcher/Bill-H%C...            3.38  "
      ],
      "text/html": "<div>\n<style scoped>\n    .dataframe tbody tr th:only-of-type {\n        vertical-align: middle;\n    }\n\n    .dataframe tbody tr th {\n        vertical-align: top;\n    }\n\n    .dataframe thead th {\n        text-align: right;\n    }\n</style>\n<table border=\"1\" class=\"dataframe\">\n  <thead>\n    <tr style=\"text-align: right;\">\n      <th></th>\n      <th>Title</th>\n      <th>Author</th>\n      <th>Price</th>\n      <th>VSK</th>\n      <th>Condition</th>\n      <th>URL</th>\n      <th>Average Rating</th>\n    </tr>\n  </thead>\n  <tbody>\n    <tr>\n      <th>0</th>\n      <td>Dreck - Wie ich meine Familie einpackte, Koch ...</td>\n      <td>Bill Buford</td>\n      <td>16.00</td>\n      <td>2.7</td>\n      <td>leichte Gebrauchsspuren</td>\n      <td>https://www.booklooker.de/B%C3%BCcher/Bill-Buf...</td>\n      <td>3.38</td>\n    </tr>\n    <tr>\n      <th>1</th>\n      <td>Dreck Wie ich meine Familie einpackte, Koch in...</td>\n      <td>Buford, Bill (Verfasser)Hübner, Sabine (Überse...</td>\n      <td>18.39</td>\n      <td>2.5</td>\n      <td>wie neu</td>\n      <td>https://www.booklooker.de/B%C3%BCcher/Bill-Ver...</td>\n      <td>3.38</td>\n    </tr>\n    <tr>\n      <th>2</th>\n      <td>Dreck Wie ich meine Familie einpackte, Koch in...</td>\n      <td>Buford, Bill (Verfasser)Hübner, Sabine (Überse...</td>\n      <td>18.39</td>\n      <td>2.5</td>\n      <td>leichte Gebrauchsspuren</td>\n      <td>https://www.booklooker.de/B%C3%BCcher/Bill-Ver...</td>\n      <td>3.38</td>\n    </tr>\n    <tr>\n      <th>3</th>\n      <td>Dreck Wie ich meine Familie einpackte, Koch in...</td>\n      <td>Buford, Bill (Verfasser)Hübner, Sabine (Überse...</td>\n      <td>18.39</td>\n      <td>2.5</td>\n      <td>leichte Gebrauchsspuren</td>\n      <td>https://www.booklooker.de/B%C3%BCcher/Bill-Ver...</td>\n      <td>3.38</td>\n    </tr>\n    <tr>\n      <th>4</th>\n      <td>Dreck - Wie ich meine Familie einpackte, Koch ...</td>\n      <td>Bill Buford</td>\n      <td>19.40</td>\n      <td>2.7</td>\n      <td>wie neu</td>\n      <td>https://www.booklooker.de/B%C3%BCcher/Bill-Buf...</td>\n      <td>3.38</td>\n    </tr>\n    <tr>\n      <th>5</th>\n      <td>Dreck | Wie ich meine Familie einpackte, Koch ...</td>\n      <td>Bill Buford</td>\n      <td>26.00</td>\n      <td>0.0</td>\n      <td>None</td>\n      <td>https://www.booklooker.de/B%C3%BCcher/Bill-Buf...</td>\n      <td>3.38</td>\n    </tr>\n    <tr>\n      <th>6</th>\n      <td>Dreck | Wie ich meine Familie einpackte, Koch ...</td>\n      <td>Bill Buford</td>\n      <td>26.00</td>\n      <td>0.0</td>\n      <td>None</td>\n      <td>https://www.booklooker.de/B%C3%BCcher/Bill-Buf...</td>\n      <td>3.38</td>\n    </tr>\n    <tr>\n      <th>7</th>\n      <td>Dreck</td>\n      <td>Bill Buford</td>\n      <td>26.00</td>\n      <td>0.0</td>\n      <td>None</td>\n      <td>https://www.booklooker.de/B%C3%BCcher/Bill-Buf...</td>\n      <td>3.38</td>\n    </tr>\n    <tr>\n      <th>8</th>\n      <td>Dreck</td>\n      <td>Bill Buford</td>\n      <td>26.00</td>\n      <td>0.0</td>\n      <td>None</td>\n      <td>https://www.booklooker.de/B%C3%BCcher/Bill-Buf...</td>\n      <td>3.38</td>\n    </tr>\n    <tr>\n      <th>9</th>\n      <td>Dreck</td>\n      <td>Bill Buford</td>\n      <td>26.00</td>\n      <td>0.0</td>\n      <td>None</td>\n      <td>https://www.booklooker.de/B%C3%BCcher/Bill-Buf...</td>\n      <td>3.38</td>\n    </tr>\n    <tr>\n      <th>10</th>\n      <td>Dreck - Wie ich meine Familie einpackte, Koch ...</td>\n      <td>Buford, Bill / Hübner, Sabine (Üb.)</td>\n      <td>26.00</td>\n      <td>0.0</td>\n      <td>None</td>\n      <td>https://www.booklooker.de/B%C3%BCcher/Bill-H%C...</td>\n      <td>3.38</td>\n    </tr>\n  </tbody>\n</table>\n</div>"
     },
     "metadata": {},
     "execution_count": 36
    }
   ],
   "source": [
    "sales_infos.iloc[6]"
   ]
  },
  {
   "cell_type": "code",
   "execution_count": 37,
   "metadata": {},
   "outputs": [],
   "source": [
    "dic = sales_infos.to_dict()\n",
    "sales_df = pd.concat(dic)"
   ]
  },
  {
   "cell_type": "code",
   "execution_count": 38,
   "metadata": {},
   "outputs": [
    {
     "output_type": "execute_result",
     "data": {
      "text/plain": [
       "'Durchbruch bei Stalingrad - Die 1949 vom russischen Geheimdienst konfiszierte und nun in russischen Archiven wiederaufgespürte Urfassung des großen Antikriegsromans. Gefunden, herausgegeben und mit einem dokumentarischen Anhang versehen von Carsten Gansel'"
      ]
     },
     "metadata": {},
     "execution_count": 38
    }
   ],
   "source": [
    "sales_df.iloc[6].iloc[0]"
   ]
  },
  {
   "cell_type": "code",
   "execution_count": 39,
   "metadata": {},
   "outputs": [],
   "source": [
    "book_ids = my_df.index"
   ]
  },
  {
   "cell_type": "code",
   "execution_count": 40,
   "metadata": {},
   "outputs": [],
   "source": [
    "sales_infos = sales_infos.apply(lambda l: pd.DataFrame(l) if type(l)==list else l)\n"
   ]
  },
  {
   "cell_type": "code",
   "execution_count": 41,
   "metadata": {},
   "outputs": [
    {
     "output_type": "execute_result",
     "data": {
      "text/plain": [
       "Empty DataFrame\n",
       "Columns: []\n",
       "Index: []"
      ],
      "text/html": "<div>\n<style scoped>\n    .dataframe tbody tr th:only-of-type {\n        vertical-align: middle;\n    }\n\n    .dataframe tbody tr th {\n        vertical-align: top;\n    }\n\n    .dataframe thead th {\n        text-align: right;\n    }\n</style>\n<table border=\"1\" class=\"dataframe\">\n  <thead>\n    <tr style=\"text-align: right;\">\n      <th></th>\n    </tr>\n  </thead>\n  <tbody>\n  </tbody>\n</table>\n</div>"
     },
     "metadata": {},
     "execution_count": 41
    }
   ],
   "source": [
    "sales_infos.iloc[0]"
   ]
  },
  {
   "cell_type": "code",
   "execution_count": 42,
   "metadata": {},
   "outputs": [
    {
     "output_type": "execute_result",
     "data": {
      "text/plain": [
       "                                                        Title  \\\n",
       "29078059 0                          Durchbruch bei Stalingrad   \n",
       "         1  Durchbruch bei Stalingrad - Die 1949 vom russi...   \n",
       "         2  Durchbruch bei Stalingrad - Die 1949 vom russi...   \n",
       "         3  Durchbruch bei Stalingrad 1944. Herausgegeben,...   \n",
       "         4  Durchbruch bei Stalingrad - Die 1949 vom russi...   \n",
       "\n",
       "                                                  Author  Price  VSK  \\\n",
       "29078059 0                              Heinrich Gerlach   11.0  6.0   \n",
       "         1                              Heinrich Gerlach   15.0  2.4   \n",
       "         2                              Heinrich Gerlach   19.0  4.5   \n",
       "         3  Gerlach, Heinrich und Carsten Gansel [Hrsg.]   20.0  5.5   \n",
       "         4                              Heinrich Gerlach   24.0  2.4   \n",
       "\n",
       "                            Condition  \\\n",
       "29078059 0  deutliche Gebrauchsspuren   \n",
       "         1    leichte Gebrauchsspuren   \n",
       "         2    leichte Gebrauchsspuren   \n",
       "         3             gebraucht; gut   \n",
       "         4    leichte Gebrauchsspuren   \n",
       "\n",
       "                                                          URL  Average Rating  \n",
       "29078059 0  https://www.booklooker.de/B%C3%BCcher/Heinrich...            4.27  \n",
       "         1  https://www.booklooker.de/B%C3%BCcher/Heinrich...            4.27  \n",
       "         2  https://www.booklooker.de/B%C3%BCcher/Heinrich...            4.27  \n",
       "         3  https://www.booklooker.de/B%C3%BCcher/Heinrich...            4.27  \n",
       "         4  https://www.booklooker.de/B%C3%BCcher/Heinrich...            4.27  "
      ],
      "text/html": "<div>\n<style scoped>\n    .dataframe tbody tr th:only-of-type {\n        vertical-align: middle;\n    }\n\n    .dataframe tbody tr th {\n        vertical-align: top;\n    }\n\n    .dataframe thead th {\n        text-align: right;\n    }\n</style>\n<table border=\"1\" class=\"dataframe\">\n  <thead>\n    <tr style=\"text-align: right;\">\n      <th></th>\n      <th></th>\n      <th>Title</th>\n      <th>Author</th>\n      <th>Price</th>\n      <th>VSK</th>\n      <th>Condition</th>\n      <th>URL</th>\n      <th>Average Rating</th>\n    </tr>\n  </thead>\n  <tbody>\n    <tr>\n      <th rowspan=\"5\" valign=\"top\">29078059</th>\n      <th>0</th>\n      <td>Durchbruch bei Stalingrad</td>\n      <td>Heinrich Gerlach</td>\n      <td>11.0</td>\n      <td>6.0</td>\n      <td>deutliche Gebrauchsspuren</td>\n      <td>https://www.booklooker.de/B%C3%BCcher/Heinrich...</td>\n      <td>4.27</td>\n    </tr>\n    <tr>\n      <th>1</th>\n      <td>Durchbruch bei Stalingrad - Die 1949 vom russi...</td>\n      <td>Heinrich Gerlach</td>\n      <td>15.0</td>\n      <td>2.4</td>\n      <td>leichte Gebrauchsspuren</td>\n      <td>https://www.booklooker.de/B%C3%BCcher/Heinrich...</td>\n      <td>4.27</td>\n    </tr>\n    <tr>\n      <th>2</th>\n      <td>Durchbruch bei Stalingrad - Die 1949 vom russi...</td>\n      <td>Heinrich Gerlach</td>\n      <td>19.0</td>\n      <td>4.5</td>\n      <td>leichte Gebrauchsspuren</td>\n      <td>https://www.booklooker.de/B%C3%BCcher/Heinrich...</td>\n      <td>4.27</td>\n    </tr>\n    <tr>\n      <th>3</th>\n      <td>Durchbruch bei Stalingrad 1944. Herausgegeben,...</td>\n      <td>Gerlach, Heinrich und Carsten Gansel [Hrsg.]</td>\n      <td>20.0</td>\n      <td>5.5</td>\n      <td>gebraucht; gut</td>\n      <td>https://www.booklooker.de/B%C3%BCcher/Heinrich...</td>\n      <td>4.27</td>\n    </tr>\n    <tr>\n      <th>4</th>\n      <td>Durchbruch bei Stalingrad - Die 1949 vom russi...</td>\n      <td>Heinrich Gerlach</td>\n      <td>24.0</td>\n      <td>2.4</td>\n      <td>leichte Gebrauchsspuren</td>\n      <td>https://www.booklooker.de/B%C3%BCcher/Heinrich...</td>\n      <td>4.27</td>\n    </tr>\n  </tbody>\n</table>\n</div>"
     },
     "metadata": {},
     "execution_count": 42
    }
   ],
   "source": [
    "sales_df.head()"
   ]
  },
  {
   "cell_type": "code",
   "execution_count": 43,
   "metadata": {},
   "outputs": [
    {
     "output_type": "execute_result",
     "data": {
      "text/plain": [
       "Title              object\n",
       "Author             object\n",
       "Price             float64\n",
       "VSK               float64\n",
       "Condition          object\n",
       "URL                object\n",
       "Average Rating    float64\n",
       "dtype: object"
      ]
     },
     "metadata": {},
     "execution_count": 43
    }
   ],
   "source": [
    "sales_df.dtypes"
   ]
  },
  {
   "cell_type": "code",
   "execution_count": 44,
   "metadata": {},
   "outputs": [],
   "source": [
    "# sales_df['Price'] = sales_df['Price'].apply(lambda x: x.replace(',','.'))\n",
    "# sales_df['Price'] = sales_df['Price'].apply(lambda x: non_decimal.sub('', x))\n",
    "# sales_df['VSK'] = sales_df['VSK'].apply(lambda x: x.replace(',','.'))\n",
    "# sales_df['VSK'] = sales_df['VSK'].apply(lambda x: non_decimal.sub('', x))\n",
    "# sales_df.loc[10614].loc[6]['URL']\n",
    "# sales_df['Price'] = pd.to_numeric(sales_df['Price'])\n",
    "# sales_df['VSK'] = pd.to_numeric(sales_df['VSK'])\n",
    "sales_df['Total Price'] = sales_df.fillna(0)['Price'] + sales_df.fillna(0)['VSK']"
   ]
  },
  {
   "cell_type": "code",
   "execution_count": 88,
   "metadata": {},
   "outputs": [],
   "source": [
    "sales_df['Condition'].replace('None', '', inplace=True)"
   ]
  },
  {
   "cell_type": "code",
   "execution_count": 89,
   "metadata": {},
   "outputs": [
    {
     "output_type": "execute_result",
     "data": {
      "text/plain": [
       "                                 Title                         \\\n",
       "29078059 0                          Durchbruch bei Stalingrad   \n",
       "         1  Durchbruch bei Stalingrad - Die 1949 vom russi...   \n",
       "         2  Durchbruch bei Stalingrad - Die 1949 vom russi...   \n",
       "         3  Durchbruch bei Stalingrad 1944. Herausgegeben,...   \n",
       "         4  Durchbruch bei Stalingrad - Die 1949 vom russi...   \n",
       "\n",
       "                               Author                     Price  VSK  \\\n",
       "29078059 0                              Heinrich Gerlach  11.0   6.0   \n",
       "         1                              Heinrich Gerlach  15.0   2.4   \n",
       "         2                              Heinrich Gerlach  19.0   4.5   \n",
       "         3  Gerlach, Heinrich und Carsten Gansel [Hrsg.]  20.0   5.5   \n",
       "         4                              Heinrich Gerlach  24.0   2.4   \n",
       "\n",
       "                   Condition           \\\n",
       "29078059 0  deutliche Gebrauchsspuren   \n",
       "         1    leichte Gebrauchsspuren   \n",
       "         2    leichte Gebrauchsspuren   \n",
       "         3             gebraucht; gut   \n",
       "         4    leichte Gebrauchsspuren   \n",
       "\n",
       "                                  URL                          Average Rating  \\\n",
       "29078059 0  https://www.booklooker.de/B%C3%BCcher/Heinrich...       4.27        \n",
       "         1  https://www.booklooker.de/B%C3%BCcher/Heinrich...       4.27        \n",
       "         2  https://www.booklooker.de/B%C3%BCcher/Heinrich...       4.27        \n",
       "         3  https://www.booklooker.de/B%C3%BCcher/Heinrich...       4.27        \n",
       "         4  https://www.booklooker.de/B%C3%BCcher/Heinrich...       4.27        \n",
       "\n",
       "            Total Price  \n",
       "29078059 0     17.0      \n",
       "         1     17.4      \n",
       "         2     23.5      \n",
       "         3     25.5      \n",
       "         4     26.4      "
      ],
      "text/html": "<div>\n<style scoped>\n    .dataframe tbody tr th:only-of-type {\n        vertical-align: middle;\n    }\n\n    .dataframe tbody tr th {\n        vertical-align: top;\n    }\n\n    .dataframe thead th {\n        text-align: right;\n    }\n</style>\n<table border=\"1\" class=\"dataframe\">\n  <thead>\n    <tr style=\"text-align: center;\">\n      <th></th>\n      <th></th>\n      <th>Title</th>\n      <th>Author</th>\n      <th>Price</th>\n      <th>VSK</th>\n      <th>Condition</th>\n      <th>URL</th>\n      <th>Average Rating</th>\n      <th>Total Price</th>\n    </tr>\n  </thead>\n  <tbody>\n    <tr>\n      <th rowspan=\"5\" valign=\"top\">29078059</th>\n      <th>0</th>\n      <td>Durchbruch bei Stalingrad</td>\n      <td>Heinrich Gerlach</td>\n      <td>11.0</td>\n      <td>6.0</td>\n      <td>deutliche Gebrauchsspuren</td>\n      <td>https://www.booklooker.de/B%C3%BCcher/Heinrich...</td>\n      <td>4.27</td>\n      <td>17.0</td>\n    </tr>\n    <tr>\n      <th>1</th>\n      <td>Durchbruch bei Stalingrad - Die 1949 vom russi...</td>\n      <td>Heinrich Gerlach</td>\n      <td>15.0</td>\n      <td>2.4</td>\n      <td>leichte Gebrauchsspuren</td>\n      <td>https://www.booklooker.de/B%C3%BCcher/Heinrich...</td>\n      <td>4.27</td>\n      <td>17.4</td>\n    </tr>\n    <tr>\n      <th>2</th>\n      <td>Durchbruch bei Stalingrad - Die 1949 vom russi...</td>\n      <td>Heinrich Gerlach</td>\n      <td>19.0</td>\n      <td>4.5</td>\n      <td>leichte Gebrauchsspuren</td>\n      <td>https://www.booklooker.de/B%C3%BCcher/Heinrich...</td>\n      <td>4.27</td>\n      <td>23.5</td>\n    </tr>\n    <tr>\n      <th>3</th>\n      <td>Durchbruch bei Stalingrad 1944. Herausgegeben,...</td>\n      <td>Gerlach, Heinrich und Carsten Gansel [Hrsg.]</td>\n      <td>20.0</td>\n      <td>5.5</td>\n      <td>gebraucht; gut</td>\n      <td>https://www.booklooker.de/B%C3%BCcher/Heinrich...</td>\n      <td>4.27</td>\n      <td>25.5</td>\n    </tr>\n    <tr>\n      <th>4</th>\n      <td>Durchbruch bei Stalingrad - Die 1949 vom russi...</td>\n      <td>Heinrich Gerlach</td>\n      <td>24.0</td>\n      <td>2.4</td>\n      <td>leichte Gebrauchsspuren</td>\n      <td>https://www.booklooker.de/B%C3%BCcher/Heinrich...</td>\n      <td>4.27</td>\n      <td>26.4</td>\n    </tr>\n  </tbody>\n</table>\n</div>"
     },
     "metadata": {},
     "execution_count": 89
    }
   ],
   "source": [
    "sales_df.head()"
   ]
  },
  {
   "cell_type": "code",
   "execution_count": 90,
   "metadata": {},
   "outputs": [],
   "source": [
    "df_pkl_fn = f'sales_df_2021_recent{TOTAL_NUMBER}_{DATE}.pkl'"
   ]
  },
  {
   "cell_type": "code",
   "execution_count": 91,
   "metadata": {},
   "outputs": [],
   "source": [
    "sales_df.to_pickle(df_pkl_fn)"
   ]
  },
  {
   "cell_type": "code",
   "execution_count": 92,
   "metadata": {},
   "outputs": [],
   "source": [
    "#TODO ggf nochmal erweitern / joinen mit der goodreads Tabelle für Indexierung mittels Titel, etc. (vorallem bei fehelnden Ergebnissen)"
   ]
  },
  {
   "cell_type": "code",
   "execution_count": 93,
   "metadata": {},
   "outputs": [],
   "source": [
    "sales_df = pd.read_pickle(df_pkl_fn)"
   ]
  },
  {
   "cell_type": "code",
   "execution_count": 94,
   "metadata": {},
   "outputs": [],
   "source": [
    "sorted_df = sales_df.sort_values(by='Total Price')"
   ]
  },
  {
   "cell_type": "code",
   "execution_count": 95,
   "metadata": {},
   "outputs": [],
   "source": [
    "by_avg_rating = sales_df.set_index(['Average Rating', sales_df.index, 'Total Price']).sort_index(ascending=[False,True,True])\n",
    "by_total_price = sales_df.set_index(['Total Price','Average Rating']).sort_index(ascending=[True, False])\n",
    "by_id = sales_df.set_index([sales_df.index, 'Total Price']).sort_index(ascending=[False, True])\n"
   ]
  },
  {
   "source": [
    "TODO:\n",
    "\n",
    "1. Sortieren innerhalb BookID\n",
    "2. nur Bestpreis pro Buch (oder Top 3? oder 1 pro Zustand?)\n",
    "3. In Flask o.ä. integrieren mit Template für geile Bootstrap-Tabelle mit Filter usw"
   ],
   "cell_type": "markdown",
   "metadata": {}
  },
  {
   "cell_type": "code",
   "execution_count": 96,
   "metadata": {},
   "outputs": [],
   "source": [
    "def export_html(df, fn):\n",
    "    pd.set_option('colheader_justify', 'center')   # FOR TABLE <th>\n",
    "\n",
    "    html_string = '''\n",
    "    <html>\n",
    "    <head>\n",
    "        <!-- Required meta tags -->\n",
    "    <meta charset=\"utf-8\">\n",
    "    <meta name=\"viewport\" content=\"width=device-width, initial-scale=1\">\n",
    "\n",
    "    <!-- Bootstrap CSS -->\n",
    "    <link href=\"https://cdn.jsdelivr.net/npm/bootstrap@5.0.0-beta2/dist/css/bootstrap.min.css\" rel=\"stylesheet\" integrity=\"sha384-BmbxuPwQa2lc/FVzBcNJ7UAyJxM6wuqIj61tLrc4wSX0szH/Ev+nYRRuWlolflfl\" crossorigin=\"anonymous\">\n",
    "\n",
    "    <title>HTML Pandas Dataframe with CSS</title></head>\n",
    "    <link rel=\"stylesheet\" type=\"text/css\" href=\"df_style.css\"/>\n",
    "    <body>\n",
    "        {table}\n",
    "        <script src=\"https://cdn.jsdelivr.net/npm/bootstrap@5.0.0-beta2/dist/js/bootstrap.bundle.min.js\" integrity=\"sha384-b5kHyXgcpbZJO/tY9Ul7kGkf1S0CWuKcCD38l8YkeH8z8QjE0GmW1gYU5S9FOnJ0\" crossorigin=\"anonymous\"></script>\n",
    "\n",
    "    </body>\n",
    "    </html>.\n",
    "    '''\n",
    "\n",
    "    # OUTPUT AN HTML FILE\n",
    "    with open(fn, 'w', encoding='utf-8') as f:\n",
    "        f.write(html_string.format(table=df.to_html(render_links=True, classes=['table', 'table-hover'])))"
   ]
  },
  {
   "cell_type": "code",
   "execution_count": 97,
   "metadata": {},
   "outputs": [],
   "source": [
    "export_html(by_avg_rating, f\"report_by_rating_{DATE}.html\")\n",
    "export_html(by_total_price, f\"report_by_price_{DATE}.html\")\n",
    "export_html(by_id, f\"report_by_id_{DATE}.html\")"
   ]
  },
  {
   "source": [
    "## Visualisierung\n",
    "- HTML Dashboard (Integration in Flask, FastAPI, Django ?)\n",
    "- oder super simpel mit Plotly und irgend ner Dashboard JS API (gibts sicher)\n",
    "- Entweder einfache Tabelle, sortierbar usw.\n",
    "- oder mit Plots: Barplots: Ein Balken für Neupreis, einen für Gebraucht (mit Whiskers)\n"
   ],
   "cell_type": "markdown",
   "metadata": {}
  },
  {
   "cell_type": "code",
   "execution_count": 98,
   "metadata": {},
   "outputs": [],
   "source": [
    "def highlight_min(df, color='yellow'):\n",
    "    '''\n",
    "    highlight the minimum combined price.\n",
    "    '''\n",
    "    attr = 'background-color: {}'.format(color)\n",
    "    is_min = df == df['Total Price'].min().min()\n",
    "    return pd.DataFrame(np.where(is_min, attr, ''),\n",
    "                            index=df.index, columns=df.columns)\n"
   ]
  },
  {
   "cell_type": "code",
   "execution_count": 99,
   "metadata": {},
   "outputs": [],
   "source": [
    "# sales_df.style.apply(highlight_min, axis=None)"
   ]
  },
  {
   "cell_type": "code",
   "execution_count": 100,
   "metadata": {},
   "outputs": [],
   "source": [
    "# sales_df"
   ]
  }
 ]
}