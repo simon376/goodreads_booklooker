{
 "metadata": {
  "language_info": {
   "codemirror_mode": {
    "name": "ipython",
    "version": 3
   },
   "file_extension": ".py",
   "mimetype": "text/x-python",
   "name": "python",
   "nbconvert_exporter": "python",
   "pygments_lexer": "ipython3",
   "version": "3.8.3-final"
  },
  "orig_nbformat": 2,
  "kernelspec": {
   "name": "python3",
   "display_name": "Python 3",
   "language": "python"
  }
 },
 "nbformat": 4,
 "nbformat_minor": 2,
 "cells": [
  {
   "source": [
    "# gebrauchte Bücher aus Goodreads to-read liste suchen"
   ],
   "cell_type": "markdown",
   "metadata": {}
  },
  {
   "cell_type": "code",
   "execution_count": 2,
   "metadata": {},
   "outputs": [],
   "source": [
    "import numpy as np\n",
    "import csv"
   ]
  },
  {
   "cell_type": "code",
   "execution_count": 13,
   "metadata": {},
   "outputs": [],
   "source": [
    "from matplotlib import pyplot as plt"
   ]
  },
  {
   "source": [
    "## goodreads CSV-Datei parsen"
   ],
   "cell_type": "markdown",
   "metadata": {}
  },
  {
   "cell_type": "code",
   "execution_count": 56,
   "metadata": {},
   "outputs": [
    {
     "output_type": "execute_result",
     "data": {
      "text/plain": [
       "                                                      Title  ... BCID\n",
       "Book Id                                                      ...     \n",
       "42242793                   Kurze Antworten auf große Fragen  ...  NaN\n",
       "41160292                                Exhalation: Stories  ...  NaN\n",
       "9778945   The Shallows: What the Internet Is Doing to Ou...  ...  NaN\n",
       "23995249  The Invention of Nature: Alexander von Humbold...  ...  NaN\n",
       "52668915  Entangled Life: How Fungi Make Our Worlds, Cha...  ...  NaN\n",
       "\n",
       "[5 rows x 30 columns]"
      ],
      "text/html": "<div>\n<style scoped>\n    .dataframe tbody tr th:only-of-type {\n        vertical-align: middle;\n    }\n\n    .dataframe tbody tr th {\n        vertical-align: top;\n    }\n\n    .dataframe thead th {\n        text-align: right;\n    }\n</style>\n<table border=\"1\" class=\"dataframe\">\n  <thead>\n    <tr style=\"text-align: right;\">\n      <th></th>\n      <th>Title</th>\n      <th>Author</th>\n      <th>Author l-f</th>\n      <th>Additional Authors</th>\n      <th>ISBN</th>\n      <th>ISBN13</th>\n      <th>My Rating</th>\n      <th>Average Rating</th>\n      <th>Publisher</th>\n      <th>Binding</th>\n      <th>Number of Pages</th>\n      <th>Year Published</th>\n      <th>Original Publication Year</th>\n      <th>Date Read</th>\n      <th>Date Added</th>\n      <th>Bookshelves</th>\n      <th>Bookshelves with positions</th>\n      <th>Exclusive Shelf</th>\n      <th>My Review</th>\n      <th>Spoiler</th>\n      <th>Private Notes</th>\n      <th>Read Count</th>\n      <th>Recommended For</th>\n      <th>Recommended By</th>\n      <th>Owned Copies</th>\n      <th>Original Purchase Date</th>\n      <th>Original Purchase Location</th>\n      <th>Condition</th>\n      <th>Condition Description</th>\n      <th>BCID</th>\n    </tr>\n    <tr>\n      <th>Book Id</th>\n      <th></th>\n      <th></th>\n      <th></th>\n      <th></th>\n      <th></th>\n      <th></th>\n      <th></th>\n      <th></th>\n      <th></th>\n      <th></th>\n      <th></th>\n      <th></th>\n      <th></th>\n      <th></th>\n      <th></th>\n      <th></th>\n      <th></th>\n      <th></th>\n      <th></th>\n      <th></th>\n      <th></th>\n      <th></th>\n      <th></th>\n      <th></th>\n      <th></th>\n      <th></th>\n      <th></th>\n      <th></th>\n      <th></th>\n      <th></th>\n    </tr>\n  </thead>\n  <tbody>\n    <tr>\n      <th>42242793</th>\n      <td>Kurze Antworten auf große Fragen</td>\n      <td>Stephen Hawking</td>\n      <td>Hawking, Stephen</td>\n      <td>Hainer Kober</td>\n      <td>=\"\"</td>\n      <td>=\"\"</td>\n      <td>0</td>\n      <td>4.30</td>\n      <td>Klett-Cotta</td>\n      <td>Kindle Edition</td>\n      <td>257.0</td>\n      <td>2018-01-01</td>\n      <td>2018</td>\n      <td>NaT</td>\n      <td>2021-02-07</td>\n      <td>currently-reading</td>\n      <td>currently-reading (#4)</td>\n      <td>currently-reading</td>\n      <td>NaN</td>\n      <td>NaN</td>\n      <td>NaN</td>\n      <td>1</td>\n      <td>NaN</td>\n      <td>NaN</td>\n      <td>0</td>\n      <td>NaN</td>\n      <td>NaN</td>\n      <td>NaN</td>\n      <td>NaN</td>\n      <td>NaN</td>\n    </tr>\n    <tr>\n      <th>41160292</th>\n      <td>Exhalation: Stories</td>\n      <td>Ted Chiang</td>\n      <td>Chiang, Ted</td>\n      <td>NaN</td>\n      <td>=\"\"</td>\n      <td>=\"\"</td>\n      <td>4</td>\n      <td>4.27</td>\n      <td>Knopf</td>\n      <td>Kindle Edition</td>\n      <td>352.0</td>\n      <td>2019-01-01</td>\n      <td>2019</td>\n      <td>2021-02-07</td>\n      <td>2019-12-18</td>\n      <td>ebook</td>\n      <td>ebook (#30)</td>\n      <td>read</td>\n      <td>NaN</td>\n      <td>NaN</td>\n      <td>NaN</td>\n      <td>1</td>\n      <td>NaN</td>\n      <td>NaN</td>\n      <td>0</td>\n      <td>NaN</td>\n      <td>NaN</td>\n      <td>NaN</td>\n      <td>NaN</td>\n      <td>NaN</td>\n    </tr>\n    <tr>\n      <th>9778945</th>\n      <td>The Shallows: What the Internet Is Doing to Ou...</td>\n      <td>Nicholas Carr</td>\n      <td>Carr, Nicholas</td>\n      <td>NaN</td>\n      <td>=\"0393339750\"</td>\n      <td>=\"9780393339758\"</td>\n      <td>0</td>\n      <td>3.89</td>\n      <td>W. W. Norton  Company</td>\n      <td>Paperback</td>\n      <td>280.0</td>\n      <td>2011-01-01</td>\n      <td>2010</td>\n      <td>NaT</td>\n      <td>2021-02-05</td>\n      <td>to-read</td>\n      <td>to-read (#245)</td>\n      <td>to-read</td>\n      <td>NaN</td>\n      <td>NaN</td>\n      <td>NaN</td>\n      <td>0</td>\n      <td>NaN</td>\n      <td>NaN</td>\n      <td>0</td>\n      <td>NaN</td>\n      <td>NaN</td>\n      <td>NaN</td>\n      <td>NaN</td>\n      <td>NaN</td>\n    </tr>\n    <tr>\n      <th>23995249</th>\n      <td>The Invention of Nature: Alexander von Humbold...</td>\n      <td>Andrea Wulf</td>\n      <td>Wulf, Andrea</td>\n      <td>NaN</td>\n      <td>=\"038535066X\"</td>\n      <td>=\"9780385350662\"</td>\n      <td>0</td>\n      <td>4.24</td>\n      <td>Knopf</td>\n      <td>Hardcover</td>\n      <td>473.0</td>\n      <td>2015-01-01</td>\n      <td>2015</td>\n      <td>NaT</td>\n      <td>2021-02-05</td>\n      <td>to-read</td>\n      <td>to-read (#244)</td>\n      <td>to-read</td>\n      <td>NaN</td>\n      <td>NaN</td>\n      <td>NaN</td>\n      <td>0</td>\n      <td>NaN</td>\n      <td>NaN</td>\n      <td>0</td>\n      <td>NaN</td>\n      <td>NaN</td>\n      <td>NaN</td>\n      <td>NaN</td>\n      <td>NaN</td>\n    </tr>\n    <tr>\n      <th>52668915</th>\n      <td>Entangled Life: How Fungi Make Our Worlds, Cha...</td>\n      <td>Merlin Sheldrake</td>\n      <td>Sheldrake, Merlin</td>\n      <td>NaN</td>\n      <td>=\"0525510311\"</td>\n      <td>=\"9780525510314\"</td>\n      <td>0</td>\n      <td>4.42</td>\n      <td>Random House</td>\n      <td>Hardcover</td>\n      <td>352.0</td>\n      <td>2020-01-01</td>\n      <td>2020</td>\n      <td>NaT</td>\n      <td>2021-02-05</td>\n      <td>to-read</td>\n      <td>to-read (#243)</td>\n      <td>to-read</td>\n      <td>NaN</td>\n      <td>NaN</td>\n      <td>NaN</td>\n      <td>0</td>\n      <td>NaN</td>\n      <td>NaN</td>\n      <td>0</td>\n      <td>NaN</td>\n      <td>NaN</td>\n      <td>NaN</td>\n      <td>NaN</td>\n      <td>NaN</td>\n    </tr>\n  </tbody>\n</table>\n</div>"
     },
     "metadata": {},
     "execution_count": 56
    }
   ],
   "source": [
    "import os\n",
    "csv_path = os.path.normpath(r\"C:\\Users\\simon\\Downloads\\goodreads_library_export.csv\")\n",
    "import pandas as pd\n",
    "\n",
    "df = pd.read_csv(csv_path, index_col='Book Id',\n",
    "dtype={\"Title\": str, \"Author\": str, \"Author l-f\": str, \"Additional Authors\": str, \"ISBN\":str,\"ISBN-13\":str, \"Publisher\": str, \"Binding\": str, 'Bookshelves': 'category', 'Exclusive Shelf': 'category', },\n",
    "parse_dates=[\"Original Publication Year\", 'Date Read', 'Date Added', \"Year Published\"])\n",
    "df.head(5)"
   ]
  },
  {
   "cell_type": "code",
   "execution_count": 57,
   "metadata": {},
   "outputs": [
    {
     "output_type": "execute_result",
     "data": {
      "text/plain": [
       "                                                      Title  ... BCID\n",
       "Book Id                                                      ...     \n",
       "42242793                   Kurze Antworten auf große Fragen  ...  NaN\n",
       "41160292                                Exhalation: Stories  ...  NaN\n",
       "9778945   The Shallows: What the Internet Is Doing to Ou...  ...  NaN\n",
       "23995249  The Invention of Nature: Alexander von Humbold...  ...  NaN\n",
       "52668915  Entangled Life: How Fungi Make Our Worlds, Cha...  ...  NaN\n",
       "\n",
       "[5 rows x 30 columns]"
      ],
      "text/html": "<div>\n<style scoped>\n    .dataframe tbody tr th:only-of-type {\n        vertical-align: middle;\n    }\n\n    .dataframe tbody tr th {\n        vertical-align: top;\n    }\n\n    .dataframe thead th {\n        text-align: right;\n    }\n</style>\n<table border=\"1\" class=\"dataframe\">\n  <thead>\n    <tr style=\"text-align: right;\">\n      <th></th>\n      <th>Title</th>\n      <th>Author</th>\n      <th>Author l-f</th>\n      <th>Additional Authors</th>\n      <th>ISBN</th>\n      <th>ISBN13</th>\n      <th>My Rating</th>\n      <th>Average Rating</th>\n      <th>Publisher</th>\n      <th>Binding</th>\n      <th>Number of Pages</th>\n      <th>Year Published</th>\n      <th>Original Publication Year</th>\n      <th>Date Read</th>\n      <th>Date Added</th>\n      <th>Bookshelves</th>\n      <th>Bookshelves with positions</th>\n      <th>Exclusive Shelf</th>\n      <th>My Review</th>\n      <th>Spoiler</th>\n      <th>Private Notes</th>\n      <th>Read Count</th>\n      <th>Recommended For</th>\n      <th>Recommended By</th>\n      <th>Owned Copies</th>\n      <th>Original Purchase Date</th>\n      <th>Original Purchase Location</th>\n      <th>Condition</th>\n      <th>Condition Description</th>\n      <th>BCID</th>\n    </tr>\n    <tr>\n      <th>Book Id</th>\n      <th></th>\n      <th></th>\n      <th></th>\n      <th></th>\n      <th></th>\n      <th></th>\n      <th></th>\n      <th></th>\n      <th></th>\n      <th></th>\n      <th></th>\n      <th></th>\n      <th></th>\n      <th></th>\n      <th></th>\n      <th></th>\n      <th></th>\n      <th></th>\n      <th></th>\n      <th></th>\n      <th></th>\n      <th></th>\n      <th></th>\n      <th></th>\n      <th></th>\n      <th></th>\n      <th></th>\n      <th></th>\n      <th></th>\n      <th></th>\n    </tr>\n  </thead>\n  <tbody>\n    <tr>\n      <th>42242793</th>\n      <td>Kurze Antworten auf große Fragen</td>\n      <td>Stephen Hawking</td>\n      <td>Hawking, Stephen</td>\n      <td>Hainer Kober</td>\n      <td></td>\n      <td></td>\n      <td>0</td>\n      <td>4.30</td>\n      <td>Klett-Cotta</td>\n      <td>Kindle Edition</td>\n      <td>257.0</td>\n      <td>2018-01-01</td>\n      <td>2018</td>\n      <td>NaT</td>\n      <td>2021-02-07</td>\n      <td>currently-reading</td>\n      <td>currently-reading (#4)</td>\n      <td>currently-reading</td>\n      <td>NaN</td>\n      <td>NaN</td>\n      <td>NaN</td>\n      <td>1</td>\n      <td>NaN</td>\n      <td>NaN</td>\n      <td>0</td>\n      <td>NaN</td>\n      <td>NaN</td>\n      <td>NaN</td>\n      <td>NaN</td>\n      <td>NaN</td>\n    </tr>\n    <tr>\n      <th>41160292</th>\n      <td>Exhalation: Stories</td>\n      <td>Ted Chiang</td>\n      <td>Chiang, Ted</td>\n      <td>NaN</td>\n      <td></td>\n      <td></td>\n      <td>4</td>\n      <td>4.27</td>\n      <td>Knopf</td>\n      <td>Kindle Edition</td>\n      <td>352.0</td>\n      <td>2019-01-01</td>\n      <td>2019</td>\n      <td>2021-02-07</td>\n      <td>2019-12-18</td>\n      <td>ebook</td>\n      <td>ebook (#30)</td>\n      <td>read</td>\n      <td>NaN</td>\n      <td>NaN</td>\n      <td>NaN</td>\n      <td>1</td>\n      <td>NaN</td>\n      <td>NaN</td>\n      <td>0</td>\n      <td>NaN</td>\n      <td>NaN</td>\n      <td>NaN</td>\n      <td>NaN</td>\n      <td>NaN</td>\n    </tr>\n    <tr>\n      <th>9778945</th>\n      <td>The Shallows: What the Internet Is Doing to Ou...</td>\n      <td>Nicholas Carr</td>\n      <td>Carr, Nicholas</td>\n      <td>NaN</td>\n      <td>0393339750</td>\n      <td>9780393339758</td>\n      <td>0</td>\n      <td>3.89</td>\n      <td>W. W. Norton  Company</td>\n      <td>Paperback</td>\n      <td>280.0</td>\n      <td>2011-01-01</td>\n      <td>2010</td>\n      <td>NaT</td>\n      <td>2021-02-05</td>\n      <td>to-read</td>\n      <td>to-read (#245)</td>\n      <td>to-read</td>\n      <td>NaN</td>\n      <td>NaN</td>\n      <td>NaN</td>\n      <td>0</td>\n      <td>NaN</td>\n      <td>NaN</td>\n      <td>0</td>\n      <td>NaN</td>\n      <td>NaN</td>\n      <td>NaN</td>\n      <td>NaN</td>\n      <td>NaN</td>\n    </tr>\n    <tr>\n      <th>23995249</th>\n      <td>The Invention of Nature: Alexander von Humbold...</td>\n      <td>Andrea Wulf</td>\n      <td>Wulf, Andrea</td>\n      <td>NaN</td>\n      <td>038535066X</td>\n      <td>9780385350662</td>\n      <td>0</td>\n      <td>4.24</td>\n      <td>Knopf</td>\n      <td>Hardcover</td>\n      <td>473.0</td>\n      <td>2015-01-01</td>\n      <td>2015</td>\n      <td>NaT</td>\n      <td>2021-02-05</td>\n      <td>to-read</td>\n      <td>to-read (#244)</td>\n      <td>to-read</td>\n      <td>NaN</td>\n      <td>NaN</td>\n      <td>NaN</td>\n      <td>0</td>\n      <td>NaN</td>\n      <td>NaN</td>\n      <td>0</td>\n      <td>NaN</td>\n      <td>NaN</td>\n      <td>NaN</td>\n      <td>NaN</td>\n      <td>NaN</td>\n    </tr>\n    <tr>\n      <th>52668915</th>\n      <td>Entangled Life: How Fungi Make Our Worlds, Cha...</td>\n      <td>Merlin Sheldrake</td>\n      <td>Sheldrake, Merlin</td>\n      <td>NaN</td>\n      <td>0525510311</td>\n      <td>9780525510314</td>\n      <td>0</td>\n      <td>4.42</td>\n      <td>Random House</td>\n      <td>Hardcover</td>\n      <td>352.0</td>\n      <td>2020-01-01</td>\n      <td>2020</td>\n      <td>NaT</td>\n      <td>2021-02-05</td>\n      <td>to-read</td>\n      <td>to-read (#243)</td>\n      <td>to-read</td>\n      <td>NaN</td>\n      <td>NaN</td>\n      <td>NaN</td>\n      <td>0</td>\n      <td>NaN</td>\n      <td>NaN</td>\n      <td>0</td>\n      <td>NaN</td>\n      <td>NaN</td>\n      <td>NaN</td>\n      <td>NaN</td>\n      <td>NaN</td>\n    </tr>\n  </tbody>\n</table>\n</div>"
     },
     "metadata": {},
     "execution_count": 57
    }
   ],
   "source": [
    "df['ISBN'] = df['ISBN'].str.split('\\\"').str.get(1)\n",
    "df['ISBN13'] = df['ISBN13'].str.split('\\\"').str.get(1)\n",
    "df.head()"
   ]
  },
  {
   "cell_type": "code",
   "execution_count": 60,
   "metadata": {},
   "outputs": [],
   "source": [
    "to_read = df[df['Exclusive Shelf'] == 'to-read']\n"
   ]
  },
  {
   "cell_type": "code",
   "execution_count": 64,
   "metadata": {},
   "outputs": [],
   "source": [
    "import datetime as dt"
   ]
  },
  {
   "cell_type": "code",
   "execution_count": 69,
   "metadata": {},
   "outputs": [],
   "source": [
    "to_read.sort_values('Date Added', ascending=False, inplace=True)\n",
    "to_read_2021 = to_read[to_read['Date Added'] > pd.Timestamp('2020-01-01')]"
   ]
  },
  {
   "cell_type": "code",
   "execution_count": 70,
   "metadata": {},
   "outputs": [
    {
     "output_type": "execute_result",
     "data": {
      "text/plain": [
       "                                                      Title  ... BCID\n",
       "Book Id                                                      ...     \n",
       "9778945   The Shallows: What the Internet Is Doing to Ou...  ...  NaN\n",
       "52668915  Entangled Life: How Fungi Make Our Worlds, Cha...  ...  NaN\n",
       "26150770  The Big Picture: On the Origins of Life, Meani...  ...  NaN\n",
       "23995249  The Invention of Nature: Alexander von Humbold...  ...  NaN\n",
       "53687124  Chasing the Light: Writing, Directing, and Sur...  ...  NaN\n",
       "\n",
       "[5 rows x 30 columns]"
      ],
      "text/html": "<div>\n<style scoped>\n    .dataframe tbody tr th:only-of-type {\n        vertical-align: middle;\n    }\n\n    .dataframe tbody tr th {\n        vertical-align: top;\n    }\n\n    .dataframe thead th {\n        text-align: right;\n    }\n</style>\n<table border=\"1\" class=\"dataframe\">\n  <thead>\n    <tr style=\"text-align: right;\">\n      <th></th>\n      <th>Title</th>\n      <th>Author</th>\n      <th>Author l-f</th>\n      <th>Additional Authors</th>\n      <th>ISBN</th>\n      <th>ISBN13</th>\n      <th>My Rating</th>\n      <th>Average Rating</th>\n      <th>Publisher</th>\n      <th>Binding</th>\n      <th>Number of Pages</th>\n      <th>Year Published</th>\n      <th>Original Publication Year</th>\n      <th>Date Read</th>\n      <th>Date Added</th>\n      <th>Bookshelves</th>\n      <th>Bookshelves with positions</th>\n      <th>Exclusive Shelf</th>\n      <th>My Review</th>\n      <th>Spoiler</th>\n      <th>Private Notes</th>\n      <th>Read Count</th>\n      <th>Recommended For</th>\n      <th>Recommended By</th>\n      <th>Owned Copies</th>\n      <th>Original Purchase Date</th>\n      <th>Original Purchase Location</th>\n      <th>Condition</th>\n      <th>Condition Description</th>\n      <th>BCID</th>\n    </tr>\n    <tr>\n      <th>Book Id</th>\n      <th></th>\n      <th></th>\n      <th></th>\n      <th></th>\n      <th></th>\n      <th></th>\n      <th></th>\n      <th></th>\n      <th></th>\n      <th></th>\n      <th></th>\n      <th></th>\n      <th></th>\n      <th></th>\n      <th></th>\n      <th></th>\n      <th></th>\n      <th></th>\n      <th></th>\n      <th></th>\n      <th></th>\n      <th></th>\n      <th></th>\n      <th></th>\n      <th></th>\n      <th></th>\n      <th></th>\n      <th></th>\n      <th></th>\n      <th></th>\n    </tr>\n  </thead>\n  <tbody>\n    <tr>\n      <th>9778945</th>\n      <td>The Shallows: What the Internet Is Doing to Ou...</td>\n      <td>Nicholas Carr</td>\n      <td>Carr, Nicholas</td>\n      <td>NaN</td>\n      <td>0393339750</td>\n      <td>9780393339758</td>\n      <td>0</td>\n      <td>3.89</td>\n      <td>W. W. Norton  Company</td>\n      <td>Paperback</td>\n      <td>280.0</td>\n      <td>2011-01-01</td>\n      <td>2010</td>\n      <td>NaT</td>\n      <td>2021-02-05</td>\n      <td>to-read</td>\n      <td>to-read (#245)</td>\n      <td>to-read</td>\n      <td>NaN</td>\n      <td>NaN</td>\n      <td>NaN</td>\n      <td>0</td>\n      <td>NaN</td>\n      <td>NaN</td>\n      <td>0</td>\n      <td>NaN</td>\n      <td>NaN</td>\n      <td>NaN</td>\n      <td>NaN</td>\n      <td>NaN</td>\n    </tr>\n    <tr>\n      <th>52668915</th>\n      <td>Entangled Life: How Fungi Make Our Worlds, Cha...</td>\n      <td>Merlin Sheldrake</td>\n      <td>Sheldrake, Merlin</td>\n      <td>NaN</td>\n      <td>0525510311</td>\n      <td>9780525510314</td>\n      <td>0</td>\n      <td>4.42</td>\n      <td>Random House</td>\n      <td>Hardcover</td>\n      <td>352.0</td>\n      <td>2020-01-01</td>\n      <td>2020</td>\n      <td>NaT</td>\n      <td>2021-02-05</td>\n      <td>to-read</td>\n      <td>to-read (#243)</td>\n      <td>to-read</td>\n      <td>NaN</td>\n      <td>NaN</td>\n      <td>NaN</td>\n      <td>0</td>\n      <td>NaN</td>\n      <td>NaN</td>\n      <td>0</td>\n      <td>NaN</td>\n      <td>NaN</td>\n      <td>NaN</td>\n      <td>NaN</td>\n      <td>NaN</td>\n    </tr>\n    <tr>\n      <th>26150770</th>\n      <td>The Big Picture: On the Origins of Life, Meani...</td>\n      <td>Sean Carroll</td>\n      <td>Carroll, Sean</td>\n      <td>NaN</td>\n      <td>0525954821</td>\n      <td>9780525954828</td>\n      <td>0</td>\n      <td>4.18</td>\n      <td>Dutton</td>\n      <td>Hardcover</td>\n      <td>480.0</td>\n      <td>2016-01-01</td>\n      <td>2016</td>\n      <td>NaT</td>\n      <td>2021-02-05</td>\n      <td>to-read</td>\n      <td>to-read (#242)</td>\n      <td>to-read</td>\n      <td>NaN</td>\n      <td>NaN</td>\n      <td>NaN</td>\n      <td>0</td>\n      <td>NaN</td>\n      <td>NaN</td>\n      <td>0</td>\n      <td>NaN</td>\n      <td>NaN</td>\n      <td>NaN</td>\n      <td>NaN</td>\n      <td>NaN</td>\n    </tr>\n    <tr>\n      <th>23995249</th>\n      <td>The Invention of Nature: Alexander von Humbold...</td>\n      <td>Andrea Wulf</td>\n      <td>Wulf, Andrea</td>\n      <td>NaN</td>\n      <td>038535066X</td>\n      <td>9780385350662</td>\n      <td>0</td>\n      <td>4.24</td>\n      <td>Knopf</td>\n      <td>Hardcover</td>\n      <td>473.0</td>\n      <td>2015-01-01</td>\n      <td>2015</td>\n      <td>NaT</td>\n      <td>2021-02-05</td>\n      <td>to-read</td>\n      <td>to-read (#244)</td>\n      <td>to-read</td>\n      <td>NaN</td>\n      <td>NaN</td>\n      <td>NaN</td>\n      <td>0</td>\n      <td>NaN</td>\n      <td>NaN</td>\n      <td>0</td>\n      <td>NaN</td>\n      <td>NaN</td>\n      <td>NaN</td>\n      <td>NaN</td>\n      <td>NaN</td>\n    </tr>\n    <tr>\n      <th>53687124</th>\n      <td>Chasing the Light: Writing, Directing, and Sur...</td>\n      <td>Oliver Stone</td>\n      <td>Stone, Oliver</td>\n      <td>NaN</td>\n      <td></td>\n      <td></td>\n      <td>0</td>\n      <td>4.07</td>\n      <td>Houghton Mifflin Harcourt</td>\n      <td>Kindle Edition</td>\n      <td>373.0</td>\n      <td>2020-01-01</td>\n      <td>2020</td>\n      <td>NaT</td>\n      <td>2021-02-01</td>\n      <td>to-read</td>\n      <td>to-read (#241)</td>\n      <td>to-read</td>\n      <td>NaN</td>\n      <td>NaN</td>\n      <td>NaN</td>\n      <td>0</td>\n      <td>NaN</td>\n      <td>NaN</td>\n      <td>0</td>\n      <td>NaN</td>\n      <td>NaN</td>\n      <td>NaN</td>\n      <td>NaN</td>\n      <td>NaN</td>\n    </tr>\n  </tbody>\n</table>\n</div>"
     },
     "metadata": {},
     "execution_count": 70
    }
   ],
   "source": [
    "to_read_2021.head()"
   ]
  },
  {
   "source": [
    "## Jetzt Suchmaschine mittels BeatifulSoup scrapen um Bestpreise für Bücher zu finden"
   ],
   "cell_type": "markdown",
   "metadata": {}
  },
  {
   "cell_type": "code",
   "execution_count": 86,
   "metadata": {},
   "outputs": [],
   "source": [
    "from bs4 import BeautifulSoup\n",
    "import requests"
   ]
  },
  {
   "cell_type": "code",
   "execution_count": 139,
   "metadata": {},
   "outputs": [
    {
     "output_type": "execute_result",
     "data": {
      "text/plain": [
       "Title                         The Shallows: What the Internet Is Doing to Ou...\n",
       "Author                                                            Nicholas Carr\n",
       "Author l-f                                                       Carr, Nicholas\n",
       "Additional Authors                                                          NaN\n",
       "ISBN                                                                 0393339750\n",
       "ISBN13                                                            9780393339758\n",
       "My Rating                                                                     0\n",
       "Average Rating                                                             3.89\n",
       "Publisher                                                 W. W. Norton  Company\n",
       "Binding                                                               Paperback\n",
       "Number of Pages                                                           280.0\n",
       "Year Published                                              2011-01-01 00:00:00\n",
       "Original Publication Year                                                  2010\n",
       "Date Read                                                                   NaT\n",
       "Date Added                                                  2021-02-05 00:00:00\n",
       "Bookshelves                                                             to-read\n",
       "Bookshelves with positions                                       to-read (#245)\n",
       "Exclusive Shelf                                                         to-read\n",
       "My Review                                                                   NaN\n",
       "Spoiler                                                                     NaN\n",
       "Private Notes                                                               NaN\n",
       "Read Count                                                                    0\n",
       "Recommended For                                                             NaN\n",
       "Recommended By                                                              NaN\n",
       "Owned Copies                                                                  0\n",
       "Original Purchase Date                                                      NaN\n",
       "Original Purchase Location                                                  NaN\n",
       "Condition                                                                   NaN\n",
       "Condition Description                                                       NaN\n",
       "BCID                                                                        NaN\n",
       "Name: 9778945, dtype: object"
      ]
     },
     "metadata": {},
     "execution_count": 139
    }
   ],
   "source": [
    "#Testbuch\n",
    "book = to_read_2021.iloc[0]\n",
    "book"
   ]
  },
  {
   "cell_type": "code",
   "execution_count": 119,
   "metadata": {},
   "outputs": [],
   "source": [
    "url = 'https://www.booklooker.de/B%C3%BCcher/Angebote/isbn=0393339750?sortOrder=preis_total'\n",
    "search_url = 'https://www.booklooker.de/B%C3%BCcher/Angebote/'\n",
    "base_url = 'https://www.booklooker.de'\n",
    "query_parameters = {\n",
    "    'isbn': book['ISBN13'],\n",
    "    'sortOrder': 'preis_total'\n",
    "}"
   ]
  },
  {
   "cell_type": "code",
   "execution_count": 94,
   "metadata": {},
   "outputs": [],
   "source": [
    "page = requests.get(url)\n",
    "soup = BeautifulSoup(page.content)"
   ]
  },
  {
   "source": [
    "table class=\"resultlist_products\"\n",
    "\n",
    "tbody\n",
    "\n",
    "tr id=\"article_*ID*\" class=\"articleRow resultlist_products*product*\" ODER\n",
    "\n",
    "articleRow resultlist_products*premium*"
   ],
   "cell_type": "markdown",
   "metadata": {}
  },
  {
   "cell_type": "code",
   "execution_count": 97,
   "metadata": {},
   "outputs": [],
   "source": [
    "results = soup.find(class_='resultlist_products')\n",
    "products = results.find_all('tr', class_='articleRow')\n"
   ]
  },
  {
   "cell_type": "code",
   "execution_count": 202,
   "metadata": {},
   "outputs": [],
   "source": [
    "entries = []\n",
    "for idx, product in enumerate(products):\n",
    "    product_info = product.find(\"td\", class_=\"resultlist_productsimage\")\n",
    "    price_info = product.find(\"td\", class_=\"resultlist_productsright\")\n",
    "    title_info =product_info.find('h2', class_='unformated')\n",
    "    book_title = title_info.find('span', class_='artikeltitel')\n",
    "    link = base_url + title_info.a.attrs['href']\n",
    "\n",
    "    author = product_info.find('span', class_='notranslate')\n",
    "    condition = str(product_info.find(string=lambda text: 'zustand' in text.lower()))\n",
    "    prefix = 'Zustand: '\n",
    "    condition = condition[len(prefix):] if condition.startswith(prefix) else condition\n",
    "    price = price_info.find('span', class_='price')\n",
    "    row = [book_title.text.strip(), author.text.strip(), price.text.strip()[:-2], condition.strip(), link]\n",
    "    entries.append(row)\n",
    "    # print(f\"[{idx}]: title: {book_title.text.strip()}, author: {author.text.strip()}, price = {price.text.strip()}, state: {state.strip()}), link: {link}\")\n"
   ]
  },
  {
   "cell_type": "code",
   "execution_count": 203,
   "metadata": {},
   "outputs": [
    {
     "output_type": "execute_result",
     "data": {
      "text/plain": [
       "               Title  ...                                                URL\n",
       "0  Carr, N: Shallows  ...  https://www.booklooker.de/B%C3%BCcher/Nicholas...\n",
       "\n",
       "[1 rows x 5 columns]"
      ],
      "text/html": "<div>\n<style scoped>\n    .dataframe tbody tr th:only-of-type {\n        vertical-align: middle;\n    }\n\n    .dataframe tbody tr th {\n        vertical-align: top;\n    }\n\n    .dataframe thead th {\n        text-align: right;\n    }\n</style>\n<table border=\"1\" class=\"dataframe\">\n  <thead>\n    <tr style=\"text-align: right;\">\n      <th></th>\n      <th>Title</th>\n      <th>Author</th>\n      <th>Price</th>\n      <th>Condition</th>\n      <th>URL</th>\n    </tr>\n  </thead>\n  <tbody>\n    <tr>\n      <th>0</th>\n      <td>Carr, N: Shallows</td>\n      <td>Carr, N: Shallows</td>\n      <td>3,21</td>\n      <td>gebraucht; mittelmäßig</td>\n      <td>https://www.booklooker.de/B%C3%BCcher/Nicholas...</td>\n    </tr>\n  </tbody>\n</table>\n</div>"
     },
     "metadata": {},
     "execution_count": 203
    }
   ],
   "source": [
    "web = pd.DataFrame(entries, columns=['Title', 'Author', 'Price', 'Condition', 'URL'])\n",
    "web.head()"
   ]
  },
  {
   "source": [
    "Build Search URL"
   ],
   "cell_type": "markdown",
   "metadata": {}
  },
  {
   "cell_type": "code",
   "execution_count": 204,
   "metadata": {},
   "outputs": [],
   "source": [
    "from urllib.parse import urlencode, urljoin, quote_plus\n",
    "def build_booklooker_url(isbn):\n",
    "    search_url = 'https://www.booklooker.de/B%C3%BCcher/Angebote/'\n",
    "    payload = {'isbn': isbn, 'sortOrder': \"preis_total\"}\n",
    "    result = urlencode(payload, quote_via=quote_plus)\n",
    "    url = urllib.parse.urljoin(search_url, result)\n",
    "    return url\n",
    "\n",
    "def get_soup(url):\n",
    "    page = requests.get(url)\n",
    "    soup = BeautifulSoup(page.content.decode('utf-8', 'ignore'))\n",
    "    return soup"
   ]
  },
  {
   "cell_type": "code",
   "execution_count": 235,
   "metadata": {},
   "outputs": [],
   "source": [
    "def get_booklooker_results(soup, limit=10, as_df=False):\n",
    "    entries = []\n",
    "    results = soup.find(class_='resultlist_products')\n",
    "    if results is None:\n",
    "        print('no resultlist found! returning.')\n",
    "        return entries\n",
    "    products = results.find_all('tr', class_='articleRow')\n",
    "    for idx, product in enumerate(products):\n",
    "        if idx > limit:\n",
    "            break\n",
    "        product_info = product.find(\"td\", class_=\"resultlist_productsimage\")\n",
    "        title_info =product_info.find('h2', class_='unformated')\n",
    "        book_title = title_info.find('span', class_='artikeltitel notranslate')\n",
    "        link = base_url + title_info.a.attrs['href']\n",
    "\n",
    "        author_info =product_info.find('h3', class_='unformated')\n",
    "        author = author_info.find('span', class_='notranslate')\n",
    "\n",
    "        condition = str(product_info.find(string=lambda text: 'zustand' in text.lower()))\n",
    "        prefix = 'Zustand: '\n",
    "        condition = condition[len(prefix):] if condition.startswith(prefix) else condition\n",
    "\n",
    "        price_info = product.find(\"div\", class_=\"productPrices\")\n",
    "        prices = price_info.find_all(string=lambda text: '€' in text.lower())\n",
    "        price_list = [s[:-1].strip() for s in prices]\n",
    "        price = price_list[0] if len(price_list) > 0 else \"\"\n",
    "        vsk = price_list[1] if len(price_list) > 1 else \"\"\n",
    "        \n",
    "        row = [book_title.text.strip(), author.text.strip(), price, vsk, condition.strip(), link]\n",
    "        entries.append(row)\n",
    "    if as_df:\n",
    "        return pd.DataFrame(entries, columns=['Title', 'Author', 'Price', 'VSK', 'Condition', 'URL'])\n",
    "    else:\n",
    "        return entries\n"
   ]
  },
  {
   "source": [
    "## Bringing it all together"
   ],
   "cell_type": "markdown",
   "metadata": {}
  },
  {
   "cell_type": "code",
   "execution_count": 275,
   "metadata": {},
   "outputs": [],
   "source": [
    "def get_sales_info_df(df, limit=10, as_df=False):\n",
    "    isbn_ = df['ISBN13'] if len(df['ISBN13']) > 0 else df['ISBN']\n",
    "    if len(isbn_) <= 0:\n",
    "        print(f\"{df['Title']}: no ISBN found!\")\n",
    "        return []\n",
    "        # raise KeyError('No ISBN Found')\n",
    "    url = build_booklooker_url(isbn_)\n",
    "    soup = get_soup(url)\n",
    "    search_results = get_booklooker_results(soup, limit=limit, as_df=as_df)\n",
    "    return np.array(search_results)"
   ]
  },
  {
   "cell_type": "code",
   "execution_count": 236,
   "metadata": {},
   "outputs": [],
   "source": [
    "def get_sales_info(title, isbn, isbn13, limit=10, as_df=False):\n",
    "    isbn_ = isbn13 if len(isbn13) > 0 else isbn\n",
    "    if len(isbn_) <= 0:\n",
    "        print(f'{title}: no ISBN found!')\n",
    "        return []\n",
    "        # raise KeyError('No ISBN Found')\n",
    "    url = build_booklooker_url(isbn_)\n",
    "    soup = get_soup(url)\n",
    "    search_results = get_booklooker_results(soup, limit=limit, as_df=as_df)\n",
    "    return np.array(search_results)"
   ]
  },
  {
   "cell_type": "code",
   "execution_count": 276,
   "metadata": {},
   "outputs": [
    {
     "output_type": "stream",
     "name": "stderr",
     "text": [
      " 15%|█▌        | 3/20 [00:00<00:03,  4.51it/s]no resultlist found! returning.\n",
      " 25%|██▌       | 5/20 [00:01<00:04,  3.07it/s]Chasing the Light: Writing, Directing, and Surviving Platoon, Midnight Express, Scarface, Salvador, and the Movie Game: no ISBN found!\n",
      " 35%|███▌      | 7/20 [00:01<00:03,  3.99it/s]no resultlist found! returning.\n",
      "Die Daten, die ich rief: Wie wir unsere Freiheit an Großkonzerne verkaufen: no ISBN found!\n",
      " 50%|█████     | 10/20 [00:03<00:03,  2.51it/s]no resultlist found! returning.\n",
      " 55%|█████▌    | 11/20 [00:03<00:03,  2.42it/s]Read This If: A Collection of Essays that Prove Someone Else Gets it, Too: no ISBN found!\n",
      " 65%|██████▌   | 13/20 [00:03<00:02,  3.21it/s]no resultlist found! returning.\n",
      " 70%|███████   | 14/20 [00:04<00:02,  2.82it/s]A Promised Land: no ISBN found!\n",
      " 85%|████████▌ | 17/20 [00:05<00:01,  2.97it/s]The Midnight Library: no ISBN found!\n",
      " 95%|█████████▌| 19/20 [00:09<00:01,  1.01s/it]no resultlist found! returning.\n",
      "100%|██████████| 20/20 [00:10<00:00,  1.97it/s]Zeit: Was sie mit uns macht und was wir aus ihr machen: no ISBN found!\n",
      "\n"
     ]
    }
   ],
   "source": [
    "from tqdm import tqdm\n",
    "# sales_info = []\n",
    "my_df = to_read_2021.iloc[:20]\n",
    "from tqdm import tqdm\n",
    "# Create and register a new `tqdm` instance with `pandas`\n",
    "# (can use tqdm_gui, optional kwargs, etc.)\n",
    "tqdm.pandas()\n",
    "\n",
    "# Now you can use `progress_apply` instead of `apply`\n",
    "sales_infos = my_df.progress_apply(get_sales_info_df, axis=1)\n"
   ]
  },
  {
   "cell_type": "code",
   "execution_count": 285,
   "metadata": {},
   "outputs": [
    {
     "output_type": "execute_result",
     "data": {
      "text/plain": [
       "Book Id\n",
       "9778945     [[Carr, N: Shallows, Nicholas Carr, 3,21, 2,50...\n",
       "52668915                                                   []\n",
       "26150770    [[The Big Picture, Sean Carroll, 17,99, , None...\n",
       "23995249    [[The Invention of Nature - Alexander von Humb...\n",
       "53687124                                                   []\n",
       "dtype: object"
      ]
     },
     "metadata": {},
     "execution_count": 285
    }
   ],
   "source": [
    "sales_infos.head()\n",
    "# nd = np.array(sales_infos)"
   ]
  },
  {
   "source": [
    "## TODO daraus jetzt ein MultiIndex basteln"
   ],
   "cell_type": "markdown",
   "metadata": {}
  }
 ]
}